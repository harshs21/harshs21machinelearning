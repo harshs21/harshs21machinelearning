{
 "cells": [
  {
   "cell_type": "code",
   "execution_count": 29,
   "metadata": {},
   "outputs": [],
   "source": [
    "import numpy as np\n",
    "import matplotlib.pyplot as plt\n",
    "import pandas as pd\n",
    "import math\n",
    "import os\n",
    "import scipy.io as scipy\n",
    "from collections import defaultdict\n",
    "from sklearn.model_selection import train_test_split\n",
    "from sklearn import metrics\n",
    "%matplotlib inline"
   ]
  },
  {
   "cell_type": "code",
   "execution_count": 3,
   "metadata": {},
   "outputs": [],
   "source": [
    "df = pd.read_csv(\"Downloads/ex2data2.csv\", sep=',')"
   ]
  },
  {
   "cell_type": "code",
   "execution_count": 8,
   "metadata": {},
   "outputs": [
    {
     "name": "stdout",
     "output_type": "stream",
     "text": [
      "(117, 2) (117,)\n"
     ]
    }
   ],
   "source": [
    "X = df.iloc[:, [0, 1]].values\n",
    "y = df.iloc[:, 2].values\n",
    "print(X.shape, y.shape)"
   ]
  },
  {
   "cell_type": "code",
   "execution_count": 9,
   "metadata": {},
   "outputs": [],
   "source": [
    " x_train, x_test, y_train, y_test = train_test_split(X, y, test_size=0.20, random_state=42)"
   ]
  },
  {
   "cell_type": "code",
   "execution_count": 10,
   "metadata": {},
   "outputs": [
    {
     "data": {
      "text/plain": [
       "[<matplotlib.lines.Line2D at 0xb6e7090>,\n",
       " <matplotlib.lines.Line2D at 0xb6e71d0>]"
      ]
     },
     "execution_count": 10,
     "metadata": {},
     "output_type": "execute_result"
    },
    {
     "data": {
      "image/png": "[encoded data removed]",
      "text/plain": [
       "<Figure size 432x288 with 1 Axes>"
      ]
     },
     "metadata": {
      "needs_background": "light"
     },
     "output_type": "display_data"
    }
   ],
   "source": [
    "#Data exploration for Train Data\n",
    "plt.plot(x_train,y_train,'o')\n"
   ]
  },
  {
   "cell_type": "code",
   "execution_count": 11,
   "metadata": {},
   "outputs": [
    {
     "data": {
      "text/plain": [
       "[<matplotlib.lines.Line2D at 0xb7617d0>,\n",
       " <matplotlib.lines.Line2D at 0xb7618b0>]"
      ]
     },
     "execution_count": 11,
     "metadata": {},
     "output_type": "execute_result"
    },
    {
     "data": {
      "image/png": "[encoded data removed]",
      "text/plain": [
       "<Figure size 432x288 with 1 Axes>"
      ]
     },
     "metadata": {
      "needs_background": "light"
     },
     "output_type": "display_data"
    }
   ],
   "source": [
    "#Data Exploration for Test Data\n",
    "plt.plot(x_test,y_test,'ro')"
   ]
  },
  {
   "cell_type": "code",
   "execution_count": 12,
   "metadata": {},
   "outputs": [],
   "source": [
    "# Sigmoid function\n",
    "def sigmoid(z):\n",
    "    return 1 / (1 + np.exp(-z))"
   ]
  },
  {
   "cell_type": "code",
   "execution_count": 13,
   "metadata": {},
   "outputs": [],
   "source": [
    "#Cost Function\n",
    "def CostFunc(X, y, omega, lamb):\n",
    "    y_hat = sigmoid(X * omega)\n",
    "    one = np.multiply(y, np.log(y_hat))\n",
    "    two = np.multiply((1 - y), np.log(1 - y_hat))\n",
    "    reg = (lamb / 2 * len(X)) * np.sum(np.power(omega[1:,:], 2))\n",
    "    return (-1/len(X)) * np.sum(one + two) + reg"
   ]
  },
  {
   "cell_type": "code",
   "execution_count": 14,
   "metadata": {},
   "outputs": [],
   "source": [
    "#Stochastic Gradient descent to obtain optimal omega\n",
    "def sgd(X, y, theta, rho, minibatch_size, lamb=0, threshold=0.0001, iters=1000):\n",
    "    temp = np.matrix(np.zeros(theta.shape))\n",
    "    parameters = theta.ravel().shape[1]\n",
    "    cost = [np.inf]\n",
    "    \n",
    "    while True:\n",
    "        for b in range(math.ceil(len(X)/minibatch_size)):\n",
    "            # generates random samples without replacement, all unique\n",
    "            random_idx = np.random.choice(len(X), size=min(len(X), minibatch_size), replace = False)\n",
    "\n",
    "            # Get pair of (X, y) of the current minibatch/chunk\n",
    "            X_mini = X[random_idx]\n",
    "            y_mini = y[random_idx]\n",
    "            \n",
    "            error = sigmoid(np.dot(X_mini,theta)) - y_mini\n",
    "            \n",
    "            for j in range(parameters):\n",
    "                term = np.multiply(error, X_mini[:,j])\n",
    "                temp[j,0] = theta[j,0] - ((rho/ len(X_mini)) * (np.sum(term) + lamb * theta[j,0]))\n",
    "\n",
    "            theta = temp\n",
    "            \n",
    "        cost.append(CostFunc(X, y, theta, lamb))\n",
    "        \n",
    "        #print(cost[-1])\n",
    "        \n",
    "        if (cost[-2]-cost[-1]) > 0 and (cost[-2]-cost[-1]) < threshold:\n",
    "            break\n",
    "        \n",
    "    return theta, cost"
   ]
  },
  {
   "cell_type": "code",
   "execution_count": 15,
   "metadata": {},
   "outputs": [],
   "source": [
    "lambdas = [0.01,0.03,0.1,0.3,1]"
   ]
  },
  {
   "cell_type": "code",
   "execution_count": 16,
   "metadata": {},
   "outputs": [],
   "source": [
    "def regularizationParameter(X, y, kfolds, alpha, minibatch_size, threshold=0.0001, lambda_list = lambdas):\n",
    "    theta1 = np.matrix(np.zeros((X.shape[1],1)))\n",
    "    \n",
    "    shuffled_idx = np.random.choice(len(X), size=len(X), replace = False)\n",
    "    idx_per_fold = math.floor(len(X)/kfolds)\n",
    "    if len(X) % kfolds !=0:\n",
    "        kfolds+=1\n",
    "        \n",
    "    lambda_errorlist = defaultdict(list)\n",
    "    \n",
    "    for lamb in lambdas:\n",
    "        for k in range(kfolds):\n",
    "            #holdout_idx = np.arange(k*idx_per_fold, (k+1)*idx_per_fold)\n",
    "            holdout_idx = shuffled_idx[k*idx_per_fold : (k+1)*idx_per_fold]\n",
    "            #X_holdout = X[k*idx_per_fold : (k+1)*idx_per_fold]\n",
    "            #X_training = np.delete(X,holdout_idx, axis=0)\n",
    "            # Holdout data - kth fold\n",
    "            X_holdout = X[holdout_idx]\n",
    "            y_holdout = y[holdout_idx]\n",
    "            # Training data - other than kth fold\n",
    "            X_training = X[~holdout_idx]\n",
    "            y_training = y[~holdout_idx]\n",
    "            \n",
    "            omega1, _ = sgd(X_training, y_training, theta1, alpha, minibatch_size, lamb, threshold)\n",
    "            holdout_error_lk = CostFunc(X_holdout, y_holdout, omega1, lamb)\n",
    "            \n",
    "            lambda_errorlist[lamb].append(holdout_error_lk)\n",
    "            #print(\"{0}th holdout error(λ={1}): {2}\".format(k, lamb, holdout_error_lk))\n",
    "        print(\"Average error on k-holdout sets for lamda={0} is {1}\".format(lamb,np.mean(lambda_errorlist[lamb])))\n",
    "    lambda_optimal = min(lambda_errorlist, key= lambda l: np.mean(lambda_errorlist[l]))\n",
    "    \n",
    "    return lambda_optimal"
   ]
  },
  {
   "cell_type": "code",
   "execution_count": 17,
   "metadata": {},
   "outputs": [],
   "source": [
    "#For Plotting\n",
    "def plot(X_train, y_train, X_test, y_test, theta, title):\n",
    "    # Dataframe with X and y concatenated\n",
    "    test_df = pd.DataFrame(data=np.column_stack((X_test[:,1:],y_test)), columns=['X1','X2','Y'])\n",
    "    train_df = pd.DataFrame(data=np.column_stack((X_train[:,1:],y_train)), columns=['X1','X2','Y'])\n",
    "\n",
    "    positive_test = test_df[test_df['Y'].isin([1])]  \n",
    "    negative_test = test_df[test_df['Y'].isin([0])]\n",
    "\n",
    "    positive_train = train_df[train_df['Y'].isin([1])]  \n",
    "    negative_train = train_df[train_df['Y'].isin([0])]\n",
    "    \n",
    "    fig, ax = plt.subplots(figsize=(12,8))  \n",
    "\n",
    "    w0 = theta.item(0)\n",
    "    w1, w2 = theta.item(1), theta.item(2)\n",
    "\n",
    "    x_hyperplane = np.arange(math.floor(train_df['X1'].min()), math.ceil(train_df['X1'].max()),0.1)\n",
    "    y_hyperplane = (-w0-w1*x_hyperplane)/w2\n",
    "\n",
    "    ax.scatter(positive_train['X1'], positive_train['X2'], s=50, marker='x', label='Train Positive', c='b')  \n",
    "    ax.scatter(positive_test['X1'], positive_test['X2'], s=50, marker='x', label='Test Positive', facecolors='none', edgecolors='b')  \n",
    "    \n",
    "    ax.scatter(negative_train['X1'], negative_train['X2'], s=50, marker='o', label='Train Negative', c='r')  \n",
    "    ax.scatter(negative_test['X1'], negative_test['X2'], s=50, marker='o', label='Test Negative', facecolors='none', edgecolors='r')  \n",
    "    \n",
    "    plt.plot(x_hyperplane, y_hyperplane, 'k-', label='Decision Boundary')\n",
    "\n",
    "    plt.legend(bbox_to_anchor=(1, 0), loc=\"upper right\", ncol=5,\n",
    "                bbox_transform=fig.transFigure, fontsize = 'medium', columnspacing = 0.5)  \n",
    "    \n",
    "    ax.set_xlabel('X1')\n",
    "    ax.set_ylabel('X2') \n",
    "    plt.title(title)\n",
    "    fig.tight_layout()\n",
    "    plt.show()"
   ]
  },
  {
   "cell_type": "code",
   "execution_count": 18,
   "metadata": {},
   "outputs": [],
   "source": [
    "#Function to predict classes\n",
    "def predict(theta, X):  \n",
    "    prob = sigmoid(X * theta)\n",
    "    return [1 if x >= 0.5 else 0 for x in prob]"
   ]
  },
  {
   "cell_type": "code",
   "execution_count": 19,
   "metadata": {},
   "outputs": [],
   "source": [
    "#Adding intercept to data \n",
    "X1_train = np.hstack((np.ones((x_train.shape[0], 1)), x_train))\n",
    "X1_test = np.hstack((np.ones((x_test.shape[0], 1)), x_test))"
   ]
  },
  {
   "cell_type": "code",
   "execution_count": 20,
   "metadata": {},
   "outputs": [
    {
     "name": "stdout",
     "output_type": "stream",
     "text": [
      "Average error on k-holdout sets for lamda=0.01 is 5.9708319963600625\n",
      "Average error on k-holdout sets for lamda=0.03 is 5.9708900878957785\n",
      "Average error on k-holdout sets for lamda=0.1 is 5.968543128033674\n",
      "Average error on k-holdout sets for lamda=0.3 is 5.962784429281524\n",
      "Average error on k-holdout sets for lamda=1 is 5.94619436952882\n",
      "Optimal value for lamda:1\n"
     ]
    }
   ],
   "source": [
    "#Finding regularization parameter lambda\n",
    "alpha = 0.0001\n",
    "minibatch_size = 5\n",
    "kfolds_10 = 10\n",
    "\n",
    "lambda_optimal1 = regularizationParameter(X1_train, y_train, kfolds_10, alpha, minibatch_size)\n",
    "print(\"Optimal value for lamda:{0}\".format(lambda_optimal1))"
   ]
  },
  {
   "cell_type": "code",
   "execution_count": 21,
   "metadata": {},
   "outputs": [
    {
     "data": {
      "text/plain": [
       "matrix([[0.],\n",
       "        [0.],\n",
       "        [0.]])"
      ]
     },
     "execution_count": 21,
     "metadata": {},
     "output_type": "execute_result"
    }
   ],
   "source": [
    "#Assigning theta to 0\n",
    "theta = np.matrix(np.zeros((X1_train.shape[1],1)))\n",
    "theta"
   ]
  },
  {
   "cell_type": "code",
   "execution_count": 22,
   "metadata": {},
   "outputs": [
    {
     "name": "stdout",
     "output_type": "stream",
     "text": [
      "Theta for training data:\n",
      " [[-0.0010257 ]\n",
      " [-0.00486666]\n",
      " [ 0.00352003]]\n"
     ]
    }
   ],
   "source": [
    "#Training theta\n",
    "theta_sg1, cost_sg1 = sgd(X1_train, y_train, theta,alpha, minibatch_size=10, lamb=lambda_optimal1, threshold=0.0001)\n",
    "print(\"Theta for training data:\\n\",theta_sg1)"
   ]
  },
  {
   "cell_type": "code",
   "execution_count": 31,
   "metadata": {},
   "outputs": [
    {
     "data": {
      "text/plain": [
       "0.5591397849462365"
      ]
     },
     "execution_count": 31,
     "metadata": {},
     "output_type": "execute_result"
    }
   ],
   "source": [
    "#Classification accuracy on train data\n",
    "predictions_trn = predict(theta_sg1, X1_train)  \n",
    "metrics.accuracy_score(predictions_trn, y_train.tolist(), normalize=True, sample_weight=None)"
   ]
  },
  {
   "cell_type": "code",
   "execution_count": 32,
   "metadata": {},
   "outputs": [
    {
     "data": {
      "image/png": "[encoded data removed]",
      "text/plain": [
       "<Figure size 864x576 with 1 Axes>"
      ]
     },
     "metadata": {
      "needs_background": "light"
     },
     "output_type": "display_data"
    }
   ],
   "source": [
    "plot(X1_train, y_train, X1_test, y_test, theta_sg1, title = \"Logistic Regression - Dataset 1\")"
   ]
  },
  {
   "cell_type": "code",
   "execution_count": null,
   "metadata": {},
   "outputs": [],
   "source": []
  }
 ],
 "metadata": {
  "kernelspec": {
   "display_name": "Python 3",
   "language": "python",
   "name": "python3"
  },
  "language_info": {
   "codemirror_mode": {
    "name": "ipython",
    "version": 3
   },
   "file_extension": ".py",
   "mimetype": "text/x-python",
   "name": "python",
   "nbconvert_exporter": "python",
   "pygments_lexer": "ipython3",
   "version": "3.7.6"
  }
 },
 "nbformat": 4,
 "nbformat_minor": 4
}
