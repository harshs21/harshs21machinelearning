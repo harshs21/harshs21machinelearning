{
  "nbformat": 4,
  "nbformat_minor": 0,
  "metadata": {
    "kernelspec": {
      "display_name": "Python 3",
      "language": "python",
      "name": "python3"
    },
    "language_info": {
      "codemirror_mode": {
        "name": "ipython",
        "version": 3
      },
      "file_extension": ".py",
      "mimetype": "text/x-python",
      "name": "python",
      "nbconvert_exporter": "python",
      "pygments_lexer": "ipython3",
      "version": "3.6.5"
    },
    "colab": {
      "name": "How to train custom word vectors.ipynb",
      "provenance": []
    }
  },
  "cells": [
    {
      "cell_type": "code",
      "metadata": {
        "id": "mlk3_ZBRiGBk",
        "colab_type": "code",
        "colab": {
          "base_uri": "https://localhost:8080/",
          "height": 34
        },
        "outputId": "20993675-e076-4ca7-b96b-9bddc84aa297"
      },
      "source": [
        "import numpy as np\n",
        "import pandas as pd\n",
        "import gensim\n",
        "import os\n",
        "from tensorflow.python.keras.preprocessing.text import Tokenizer\n",
        "from tensorflow.python.keras.preprocessing.sequence import pad_sequences\n",
        "from keras.models import Sequential\n",
        "from keras.layers import Dense, Embedding, GRU, LSTM\n",
        "from keras.layers.embeddings import Embedding\n",
        "from keras.initializers import Constant\n",
        "from keras.callbacks import ModelCheckpoint\n",
        "from keras.models import load_model"
      ],
      "execution_count": 1,
      "outputs": [
        {
          "output_type": "stream",
          "text": [
            "Using TensorFlow backend.\n"
          ],
          "name": "stderr"
        }
      ]
    },
    {
      "cell_type": "markdown",
      "metadata": {
        "id": "ZLjgSbFkiGBu",
        "colab_type": "text"
      },
      "source": [
        "## *Get the data*"
      ]
    },
    {
      "cell_type": "code",
      "metadata": {
        "id": "1TAcjf6KiGBx",
        "colab_type": "code",
        "colab": {
          "base_uri": "https://localhost:8080/",
          "height": 212
        },
        "outputId": "d61d0ce1-7614-4e2e-8823-c5cc77559d71"
      },
      "source": [
        "data = pd.read_csv(\"cleaned_hm.csv\")\n",
        "data.head()"
      ],
      "execution_count": 2,
      "outputs": [
        {
          "output_type": "execute_result",
          "data": {
            "text/html": [
              "<div>\n",
              "<style scoped>\n",
              "    .dataframe tbody tr th:only-of-type {\n",
              "        vertical-align: middle;\n",
              "    }\n",
              "\n",
              "    .dataframe tbody tr th {\n",
              "        vertical-align: top;\n",
              "    }\n",
              "\n",
              "    .dataframe thead th {\n",
              "        text-align: right;\n",
              "    }\n",
              "</style>\n",
              "<table border=\"1\" class=\"dataframe\">\n",
              "  <thead>\n",
              "    <tr style=\"text-align: right;\">\n",
              "      <th></th>\n",
              "      <th>hmid</th>\n",
              "      <th>wid</th>\n",
              "      <th>reflection_period</th>\n",
              "      <th>original_hm</th>\n",
              "      <th>cleaned_hm</th>\n",
              "      <th>modified</th>\n",
              "      <th>num_sentence</th>\n",
              "      <th>ground_truth_category</th>\n",
              "      <th>predicted_category</th>\n",
              "    </tr>\n",
              "  </thead>\n",
              "  <tbody>\n",
              "    <tr>\n",
              "      <th>0</th>\n",
              "      <td>27673</td>\n",
              "      <td>2053</td>\n",
              "      <td>24h</td>\n",
              "      <td>I went on a successful date with someone I fel...</td>\n",
              "      <td>I went on a successful date with someone I fel...</td>\n",
              "      <td>True</td>\n",
              "      <td>1</td>\n",
              "      <td>NaN</td>\n",
              "      <td>affection</td>\n",
              "    </tr>\n",
              "    <tr>\n",
              "      <th>1</th>\n",
              "      <td>27674</td>\n",
              "      <td>2</td>\n",
              "      <td>24h</td>\n",
              "      <td>I was happy when my son got 90% marks in his e...</td>\n",
              "      <td>I was happy when my son got 90% marks in his e...</td>\n",
              "      <td>True</td>\n",
              "      <td>1</td>\n",
              "      <td>NaN</td>\n",
              "      <td>affection</td>\n",
              "    </tr>\n",
              "    <tr>\n",
              "      <th>2</th>\n",
              "      <td>27675</td>\n",
              "      <td>1936</td>\n",
              "      <td>24h</td>\n",
              "      <td>I went to the gym this morning and did yoga.</td>\n",
              "      <td>I went to the gym this morning and did yoga.</td>\n",
              "      <td>True</td>\n",
              "      <td>1</td>\n",
              "      <td>NaN</td>\n",
              "      <td>exercise</td>\n",
              "    </tr>\n",
              "    <tr>\n",
              "      <th>3</th>\n",
              "      <td>27676</td>\n",
              "      <td>206</td>\n",
              "      <td>24h</td>\n",
              "      <td>We had a serious talk with some friends of our...</td>\n",
              "      <td>We had a serious talk with some friends of our...</td>\n",
              "      <td>True</td>\n",
              "      <td>2</td>\n",
              "      <td>bonding</td>\n",
              "      <td>bonding</td>\n",
              "    </tr>\n",
              "    <tr>\n",
              "      <th>4</th>\n",
              "      <td>27677</td>\n",
              "      <td>6227</td>\n",
              "      <td>24h</td>\n",
              "      <td>I went with grandchildren to butterfly display...</td>\n",
              "      <td>I went with grandchildren to butterfly display...</td>\n",
              "      <td>True</td>\n",
              "      <td>1</td>\n",
              "      <td>NaN</td>\n",
              "      <td>affection</td>\n",
              "    </tr>\n",
              "  </tbody>\n",
              "</table>\n",
              "</div>"
            ],
            "text/plain": [
              "    hmid   wid  ... ground_truth_category predicted_category\n",
              "0  27673  2053  ...                   NaN          affection\n",
              "1  27674     2  ...                   NaN          affection\n",
              "2  27675  1936  ...                   NaN           exercise\n",
              "3  27676   206  ...               bonding            bonding\n",
              "4  27677  6227  ...                   NaN          affection\n",
              "\n",
              "[5 rows x 9 columns]"
            ]
          },
          "metadata": {
            "tags": []
          },
          "execution_count": 2
        }
      ]
    },
    {
      "cell_type": "markdown",
      "metadata": {
        "id": "RwOCQxo4iGB7",
        "colab_type": "text"
      },
      "source": [
        "## *Basic data cleaning*"
      ]
    },
    {
      "cell_type": "code",
      "metadata": {
        "id": "DrR5QL7TiGB8",
        "colab_type": "code",
        "colab": {
          "base_uri": "https://localhost:8080/",
          "height": 151
        },
        "outputId": "d391dccf-4ea7-403b-d5ad-b6cb0c5ae2f6"
      },
      "source": [
        "data[\"predicted_category\"].value_counts()"
      ],
      "execution_count": 3,
      "outputs": [
        {
          "output_type": "execute_result",
          "data": {
            "text/plain": [
              "affection           34168\n",
              "achievement         33993\n",
              "enjoy_the_moment    11144\n",
              "bonding             10727\n",
              "leisure              7458\n",
              "nature               1843\n",
              "exercise             1202\n",
              "Name: predicted_category, dtype: int64"
            ]
          },
          "metadata": {
            "tags": []
          },
          "execution_count": 3
        }
      ]
    },
    {
      "cell_type": "code",
      "metadata": {
        "id": "1Gvi6A2miGCD",
        "colab_type": "code",
        "colab": {
          "base_uri": "https://localhost:8080/",
          "height": 823
        },
        "outputId": "e63f5b6f-ede7-4caa-b6d8-9dfc23e82963"
      },
      "source": [
        "data[\"num_sentence\"].value_counts()"
      ],
      "execution_count": 4,
      "outputs": [
        {
          "output_type": "execute_result",
          "data": {
            "text/plain": [
              "1     83711\n",
              "2      9542\n",
              "3      3847\n",
              "4      1624\n",
              "5       821\n",
              "6       336\n",
              "7       183\n",
              "8       107\n",
              "10       68\n",
              "9        61\n",
              "11       35\n",
              "13       26\n",
              "12       21\n",
              "16       17\n",
              "18       17\n",
              "14       14\n",
              "17       14\n",
              "19       12\n",
              "21       10\n",
              "25        7\n",
              "15        7\n",
              "23        7\n",
              "24        5\n",
              "26        5\n",
              "22        4\n",
              "29        3\n",
              "31        3\n",
              "30        3\n",
              "20        3\n",
              "27        2\n",
              "32        2\n",
              "37        2\n",
              "40        2\n",
              "56        1\n",
              "46        1\n",
              "53        1\n",
              "51        1\n",
              "48        1\n",
              "69        1\n",
              "35        1\n",
              "45        1\n",
              "44        1\n",
              "42        1\n",
              "58        1\n",
              "34        1\n",
              "28        1\n",
              "60        1\n",
              "Name: num_sentence, dtype: int64"
            ]
          },
          "metadata": {
            "tags": []
          },
          "execution_count": 4
        }
      ]
    },
    {
      "cell_type": "code",
      "metadata": {
        "id": "sqcxXVJ6iGCN",
        "colab_type": "code",
        "colab": {
          "base_uri": "https://localhost:8080/",
          "height": 151
        },
        "outputId": "17b3f3dc-0d6e-45cf-a87d-e960f4659943"
      },
      "source": [
        "# deleting happy moments with more than 10 sentences\n",
        "mod_data = data.loc[data['num_sentence'] <= 10]\n",
        "mod_data[\"predicted_category\"].value_counts()"
      ],
      "execution_count": 5,
      "outputs": [
        {
          "output_type": "execute_result",
          "data": {
            "text/plain": [
              "affection           34020\n",
              "achievement         33966\n",
              "enjoy_the_moment    11115\n",
              "bonding             10700\n",
              "leisure              7458\n",
              "nature               1839\n",
              "exercise             1202\n",
              "Name: predicted_category, dtype: int64"
            ]
          },
          "metadata": {
            "tags": []
          },
          "execution_count": 5
        }
      ]
    },
    {
      "cell_type": "code",
      "metadata": {
        "id": "-Yd4iDuhiGCQ",
        "colab_type": "code",
        "colab": {}
      },
      "source": [
        "## categorical to numerical\n",
        "encode = {\n",
        "    \"affection\" : 0,\n",
        "    \"achievement\"  : 1,       \n",
        "    \"bonding\" : 2,    \n",
        "    \"enjoy_the_moment\" : 3,     \n",
        "    \"leisure\"  : 4,    \n",
        "    \"nature\" : 5,    \n",
        "    \"exercise\" : 6\n",
        "}"
      ],
      "execution_count": 6,
      "outputs": []
    },
    {
      "cell_type": "code",
      "metadata": {
        "id": "X57ZmFp5iGCU",
        "colab_type": "code",
        "colab": {
          "base_uri": "https://localhost:8080/",
          "height": 313
        },
        "outputId": "bdcee7db-1dcc-443b-ae12-f2e7f6103429"
      },
      "source": [
        "mod_data[\"predicted_category\"] = mod_data[\"predicted_category\"].apply(lambda x: encode[x])\n",
        "mod_data.head()"
      ],
      "execution_count": 7,
      "outputs": [
        {
          "output_type": "stream",
          "text": [
            "/usr/local/lib/python3.6/dist-packages/ipykernel_launcher.py:1: SettingWithCopyWarning: \n",
            "A value is trying to be set on a copy of a slice from a DataFrame.\n",
            "Try using .loc[row_indexer,col_indexer] = value instead\n",
            "\n",
            "See the caveats in the documentation: https://pandas.pydata.org/pandas-docs/stable/user_guide/indexing.html#returning-a-view-versus-a-copy\n",
            "  \"\"\"Entry point for launching an IPython kernel.\n"
          ],
          "name": "stderr"
        },
        {
          "output_type": "execute_result",
          "data": {
            "text/html": [
              "<div>\n",
              "<style scoped>\n",
              "    .dataframe tbody tr th:only-of-type {\n",
              "        vertical-align: middle;\n",
              "    }\n",
              "\n",
              "    .dataframe tbody tr th {\n",
              "        vertical-align: top;\n",
              "    }\n",
              "\n",
              "    .dataframe thead th {\n",
              "        text-align: right;\n",
              "    }\n",
              "</style>\n",
              "<table border=\"1\" class=\"dataframe\">\n",
              "  <thead>\n",
              "    <tr style=\"text-align: right;\">\n",
              "      <th></th>\n",
              "      <th>hmid</th>\n",
              "      <th>wid</th>\n",
              "      <th>reflection_period</th>\n",
              "      <th>original_hm</th>\n",
              "      <th>cleaned_hm</th>\n",
              "      <th>modified</th>\n",
              "      <th>num_sentence</th>\n",
              "      <th>ground_truth_category</th>\n",
              "      <th>predicted_category</th>\n",
              "    </tr>\n",
              "  </thead>\n",
              "  <tbody>\n",
              "    <tr>\n",
              "      <th>0</th>\n",
              "      <td>27673</td>\n",
              "      <td>2053</td>\n",
              "      <td>24h</td>\n",
              "      <td>I went on a successful date with someone I fel...</td>\n",
              "      <td>I went on a successful date with someone I fel...</td>\n",
              "      <td>True</td>\n",
              "      <td>1</td>\n",
              "      <td>NaN</td>\n",
              "      <td>0</td>\n",
              "    </tr>\n",
              "    <tr>\n",
              "      <th>1</th>\n",
              "      <td>27674</td>\n",
              "      <td>2</td>\n",
              "      <td>24h</td>\n",
              "      <td>I was happy when my son got 90% marks in his e...</td>\n",
              "      <td>I was happy when my son got 90% marks in his e...</td>\n",
              "      <td>True</td>\n",
              "      <td>1</td>\n",
              "      <td>NaN</td>\n",
              "      <td>0</td>\n",
              "    </tr>\n",
              "    <tr>\n",
              "      <th>2</th>\n",
              "      <td>27675</td>\n",
              "      <td>1936</td>\n",
              "      <td>24h</td>\n",
              "      <td>I went to the gym this morning and did yoga.</td>\n",
              "      <td>I went to the gym this morning and did yoga.</td>\n",
              "      <td>True</td>\n",
              "      <td>1</td>\n",
              "      <td>NaN</td>\n",
              "      <td>6</td>\n",
              "    </tr>\n",
              "    <tr>\n",
              "      <th>3</th>\n",
              "      <td>27676</td>\n",
              "      <td>206</td>\n",
              "      <td>24h</td>\n",
              "      <td>We had a serious talk with some friends of our...</td>\n",
              "      <td>We had a serious talk with some friends of our...</td>\n",
              "      <td>True</td>\n",
              "      <td>2</td>\n",
              "      <td>bonding</td>\n",
              "      <td>2</td>\n",
              "    </tr>\n",
              "    <tr>\n",
              "      <th>4</th>\n",
              "      <td>27677</td>\n",
              "      <td>6227</td>\n",
              "      <td>24h</td>\n",
              "      <td>I went with grandchildren to butterfly display...</td>\n",
              "      <td>I went with grandchildren to butterfly display...</td>\n",
              "      <td>True</td>\n",
              "      <td>1</td>\n",
              "      <td>NaN</td>\n",
              "      <td>0</td>\n",
              "    </tr>\n",
              "  </tbody>\n",
              "</table>\n",
              "</div>"
            ],
            "text/plain": [
              "    hmid   wid  ... ground_truth_category predicted_category\n",
              "0  27673  2053  ...                   NaN                  0\n",
              "1  27674     2  ...                   NaN                  0\n",
              "2  27675  1936  ...                   NaN                  6\n",
              "3  27676   206  ...               bonding                  2\n",
              "4  27677  6227  ...                   NaN                  0\n",
              "\n",
              "[5 rows x 9 columns]"
            ]
          },
          "metadata": {
            "tags": []
          },
          "execution_count": 7
        }
      ]
    },
    {
      "cell_type": "markdown",
      "metadata": {
        "id": "wgA0FFWLiGCd",
        "colab_type": "text"
      },
      "source": [
        "## *Data cleaning for NLP*"
      ]
    },
    {
      "cell_type": "code",
      "metadata": {
        "id": "Ra86m67GjtO_",
        "colab_type": "code",
        "colab": {
          "base_uri": "https://localhost:8080/",
          "height": 101
        },
        "outputId": "143577ee-7ecf-44c4-a9bb-da6b26af8c17"
      },
      "source": [
        "import nltk\n",
        "nltk.download('punkt')\n",
        "nltk.download('stopwords')"
      ],
      "execution_count": 9,
      "outputs": [
        {
          "output_type": "stream",
          "text": [
            "[nltk_data] Downloading package punkt to /root/nltk_data...\n",
            "[nltk_data]   Unzipping tokenizers/punkt.zip.\n",
            "[nltk_data] Downloading package stopwords to /root/nltk_data...\n",
            "[nltk_data]   Unzipping corpora/stopwords.zip.\n"
          ],
          "name": "stdout"
        },
        {
          "output_type": "execute_result",
          "data": {
            "text/plain": [
              "True"
            ]
          },
          "metadata": {
            "tags": []
          },
          "execution_count": 9
        }
      ]
    },
    {
      "cell_type": "code",
      "metadata": {
        "id": "RXAS8RWKiGCe",
        "colab_type": "code",
        "colab": {
          "base_uri": "https://localhost:8080/",
          "height": 1000
        },
        "outputId": "afbd01f2-c755-45f4-fff8-3dfc31b7776e"
      },
      "source": [
        "import string\n",
        "from nltk.tokenize import word_tokenize\n",
        "from nltk.corpus import stopwords\n",
        "\n",
        "happy_lines = list()\n",
        "lines = mod_data[\"cleaned_hm\"].values.tolist()\n",
        "\n",
        "for line in lines:\n",
        "    # tokenize the text\n",
        "    tokens = word_tokenize(line)\n",
        "    tokens = [w.lower() for w in tokens]\n",
        "    # remove puntuations\n",
        "    table = str.maketrans('', '', string.punctuation)\n",
        "    stripped = [w.translate(table) for w in tokens]\n",
        "    # remove non alphabetic characters\n",
        "    words = [word for word in stripped if word.isalpha()]\n",
        "    happy_lines.append(words)\n",
        "    \n",
        "happy_lines[0:5]"
      ],
      "execution_count": 10,
      "outputs": [
        {
          "output_type": "execute_result",
          "data": {
            "text/plain": [
              "[['i',\n",
              "  'went',\n",
              "  'on',\n",
              "  'a',\n",
              "  'successful',\n",
              "  'date',\n",
              "  'with',\n",
              "  'someone',\n",
              "  'i',\n",
              "  'felt',\n",
              "  'sympathy',\n",
              "  'and',\n",
              "  'connection',\n",
              "  'with'],\n",
              " ['i',\n",
              "  'was',\n",
              "  'happy',\n",
              "  'when',\n",
              "  'my',\n",
              "  'son',\n",
              "  'got',\n",
              "  'marks',\n",
              "  'in',\n",
              "  'his',\n",
              "  'examination'],\n",
              " ['i', 'went', 'to', 'the', 'gym', 'this', 'morning', 'and', 'did', 'yoga'],\n",
              " ['we',\n",
              "  'had',\n",
              "  'a',\n",
              "  'serious',\n",
              "  'talk',\n",
              "  'with',\n",
              "  'some',\n",
              "  'friends',\n",
              "  'of',\n",
              "  'ours',\n",
              "  'who',\n",
              "  'have',\n",
              "  'been',\n",
              "  'flaky',\n",
              "  'lately',\n",
              "  'they',\n",
              "  'understood',\n",
              "  'and',\n",
              "  'we',\n",
              "  'had',\n",
              "  'a',\n",
              "  'good',\n",
              "  'evening',\n",
              "  'hanging',\n",
              "  'out'],\n",
              " ['i',\n",
              "  'went',\n",
              "  'with',\n",
              "  'grandchildren',\n",
              "  'to',\n",
              "  'butterfly',\n",
              "  'display',\n",
              "  'at',\n",
              "  'crohn',\n",
              "  'conservatory']]"
            ]
          },
          "metadata": {
            "tags": []
          },
          "execution_count": 10
        }
      ]
    },
    {
      "cell_type": "markdown",
      "metadata": {
        "id": "5oecOU8biGCh",
        "colab_type": "text"
      },
      "source": [
        "## *Train-test split*"
      ]
    },
    {
      "cell_type": "code",
      "metadata": {
        "id": "TuHMSS9KiGCk",
        "colab_type": "code",
        "colab": {
          "base_uri": "https://localhost:8080/",
          "height": 50
        },
        "outputId": "991bfbe1-dc17-426e-aae5-4eda054557ed"
      },
      "source": [
        "validation_split = 0.2\n",
        "max_length = 55\n",
        "\n",
        "tokenizer_obj = Tokenizer()\n",
        "tokenizer_obj.fit_on_texts(happy_lines)\n",
        "sequences = tokenizer_obj.texts_to_sequences(happy_lines)\n",
        "\n",
        "word_index = tokenizer_obj.word_index\n",
        "print(\"unique tokens - \"+str(len(word_index)))\n",
        "vocab_size = len(tokenizer_obj.word_index) + 1\n",
        "print('vocab_size - '+str(vocab_size))\n",
        "\n",
        "lines_pad = pad_sequences(sequences, maxlen=max_length, padding='post')\n",
        "category =  mod_data['predicted_category'].values\n",
        "\n",
        "indices = np.arange(lines_pad.shape[0])\n",
        "np.random.shuffle(indices)\n",
        "lines_pad = lines_pad[indices]\n",
        "category = category[indices]\n",
        "\n",
        "n_values = np.max(category) + 1\n",
        "Y = np.eye(n_values)[category]\n",
        "\n",
        "num_validation_samples = int(validation_split * lines_pad.shape[0])\n",
        "\n",
        "X_train_pad = lines_pad[:-num_validation_samples]\n",
        "y_train = Y[:-num_validation_samples]\n",
        "X_test_pad = lines_pad[-num_validation_samples:]\n",
        "y_test = Y[-num_validation_samples:]"
      ],
      "execution_count": 11,
      "outputs": [
        {
          "output_type": "stream",
          "text": [
            "unique tokens - 26183\n",
            "vocab_size - 26184\n"
          ],
          "name": "stdout"
        }
      ]
    },
    {
      "cell_type": "code",
      "metadata": {
        "id": "8wCmL2N2iGCt",
        "colab_type": "code",
        "colab": {
          "base_uri": "https://localhost:8080/",
          "height": 84
        },
        "outputId": "06854e84-a973-4246-995c-02ac6712d5e0"
      },
      "source": [
        "print('Shape of X_train_pad:', X_train_pad.shape)\n",
        "print('Shape of y_train:', y_train.shape)\n",
        "\n",
        "print('Shape of X_test_pad:', X_test_pad.shape)\n",
        "print('Shape of y_test:', y_test.shape)"
      ],
      "execution_count": 12,
      "outputs": [
        {
          "output_type": "stream",
          "text": [
            "Shape of X_train_pad: (80240, 55)\n",
            "Shape of y_train: (80240, 7)\n",
            "Shape of X_test_pad: (20060, 55)\n",
            "Shape of y_test: (20060, 7)\n"
          ],
          "name": "stdout"
        }
      ]
    },
    {
      "cell_type": "markdown",
      "metadata": {
        "id": "prXgvw5AiGCz",
        "colab_type": "text"
      },
      "source": [
        "## *Custom word2vec model*"
      ]
    },
    {
      "cell_type": "code",
      "metadata": {
        "id": "E6lKzePaiGC1",
        "colab_type": "code",
        "colab": {
          "base_uri": "https://localhost:8080/",
          "height": 34
        },
        "outputId": "c0f53085-2e1f-4d2d-a5ad-b638ddaba063"
      },
      "source": [
        "import gensim\n",
        "model = gensim.models.Word2Vec(sentences=happy_lines, size=100, window=5, workers=4, min_count=1, sg=0) #sg= 1:skip-gram 0:cbow\n",
        "vocab_words = list(model.wv.vocab)                                                                      \n",
        "print(len(vocab_words))"
      ],
      "execution_count": 13,
      "outputs": [
        {
          "output_type": "stream",
          "text": [
            "26183\n"
          ],
          "name": "stdout"
        }
      ]
    },
    {
      "cell_type": "code",
      "metadata": {
        "id": "uG_1zVTjiGC6",
        "colab_type": "code",
        "colab": {
          "base_uri": "https://localhost:8080/",
          "height": 70
        },
        "outputId": "6e184c0f-80b2-4f7c-d27e-4cb7fb840cd8"
      },
      "source": [
        "filename = \"happydb_word2vec_full.txt\"\n",
        "model.wv.save_word2vec_format(filename, binary=False)"
      ],
      "execution_count": 14,
      "outputs": [
        {
          "output_type": "stream",
          "text": [
            "/usr/local/lib/python3.6/dist-packages/smart_open/smart_open_lib.py:253: UserWarning: This function is deprecated, use smart_open.open instead. See the migration notes for details: https://github.com/RaRe-Technologies/smart_open/blob/master/README.rst#migrating-to-the-new-open-function\n",
            "  'See the migration notes for details: %s' % _MIGRATION_NOTES_URL\n"
          ],
          "name": "stderr"
        }
      ]
    },
    {
      "cell_type": "code",
      "metadata": {
        "id": "kpmde7W_iGC9",
        "colab_type": "code",
        "colab": {}
      },
      "source": [
        "embedding_index = {}\n",
        "f = open(os.path.join('', 'happydb_word2vec_full.txt'),  encoding = \"utf-8\")\n",
        "for line in f:\n",
        "    values = line.split()\n",
        "    word = values[0]\n",
        "    coeff = np.asarray(values[1:], dtype='float32')\n",
        "    embedding_index[word] = coeff\n",
        "f.close()"
      ],
      "execution_count": 15,
      "outputs": []
    },
    {
      "cell_type": "code",
      "metadata": {
        "id": "IqbmbEKkiGDA",
        "colab_type": "code",
        "colab": {}
      },
      "source": [
        "embedding_dim = 100\n",
        "embedding_matrix = np.zeros((len(word_index) + 1, embedding_dim))\n",
        "for word, i in word_index.items():\n",
        "    embedding_vector = embedding_index.get(word)\n",
        "    if embedding_vector is not None:\n",
        "        embedding_matrix[i] = embedding_vector"
      ],
      "execution_count": 16,
      "outputs": []
    },
    {
      "cell_type": "code",
      "metadata": {
        "id": "p61LgaPmiGDF",
        "colab_type": "code",
        "colab": {}
      },
      "source": [
        "embedding_layer = Embedding(len(word_index) + 1,\n",
        "                            embedding_dim,\n",
        "                            weights=[embedding_matrix],\n",
        "                            input_length=max_length,\n",
        "                            trainable=False)"
      ],
      "execution_count": 17,
      "outputs": []
    },
    {
      "cell_type": "code",
      "metadata": {
        "id": "3Zxd68x-iGDI",
        "colab_type": "code",
        "colab": {
          "base_uri": "https://localhost:8080/",
          "height": 269
        },
        "outputId": "c7f97360-6cd6-4b6b-af0a-fb928a792c6b"
      },
      "source": [
        "# define model\n",
        "model_own = Sequential()\n",
        "model_own.add(embedding_layer)\n",
        "model_own.add(LSTM(units=32,  dropout=0.2, recurrent_dropout=0.25))\n",
        "model_own.add(Dense(7, activation='softmax'))\n",
        "\n",
        "model_own.compile(loss='categorical_crossentropy', optimizer='adam', metrics=['accuracy'])\n",
        "\n",
        "print(model_own.summary())"
      ],
      "execution_count": 28,
      "outputs": [
        {
          "output_type": "stream",
          "text": [
            "Model: \"sequential_2\"\n",
            "_________________________________________________________________\n",
            "Layer (type)                 Output Shape              Param #   \n",
            "=================================================================\n",
            "embedding_1 (Embedding)      (None, 55, 100)           2618400   \n",
            "_________________________________________________________________\n",
            "lstm_2 (LSTM)                (None, 32)                17024     \n",
            "_________________________________________________________________\n",
            "dense_2 (Dense)              (None, 7)                 231       \n",
            "=================================================================\n",
            "Total params: 2,635,655\n",
            "Trainable params: 17,255\n",
            "Non-trainable params: 2,618,400\n",
            "_________________________________________________________________\n",
            "None\n"
          ],
          "name": "stdout"
        }
      ]
    },
    {
      "cell_type": "code",
      "metadata": {
        "id": "5lJ2mb5Gsj-l",
        "colab_type": "code",
        "colab": {
          "base_uri": "https://localhost:8080/",
          "height": 538
        },
        "outputId": "cd1815d9-b7bb-4090-9446-789a9e6fc81a"
      },
      "source": [
        "history = model_own.fit(X_train_pad, y_train, batch_size=32, epochs=15, validation_data=(X_test_pad, y_test), verbose=1)"
      ],
      "execution_count": 31,
      "outputs": [
        {
          "output_type": "stream",
          "text": [
            "Train on 80240 samples, validate on 20060 samples\n",
            "Epoch 1/15\n",
            "80240/80240 [==============================] - 81s 1ms/step - loss: 0.5710 - accuracy: 0.8092 - val_loss: 0.4884 - val_accuracy: 0.8290\n",
            "Epoch 2/15\n",
            "80240/80240 [==============================] - 80s 1ms/step - loss: 0.5056 - accuracy: 0.8248 - val_loss: 0.4498 - val_accuracy: 0.8411\n",
            "Epoch 3/15\n",
            "80240/80240 [==============================] - 80s 1ms/step - loss: 0.4645 - accuracy: 0.8364 - val_loss: 0.4162 - val_accuracy: 0.8508\n",
            "Epoch 4/15\n",
            "80240/80240 [==============================] - 81s 1ms/step - loss: 0.4388 - accuracy: 0.8436 - val_loss: 0.3916 - val_accuracy: 0.8561\n",
            "Epoch 5/15\n",
            "80240/80240 [==============================] - 82s 1ms/step - loss: 0.4206 - accuracy: 0.8497 - val_loss: 0.3881 - val_accuracy: 0.8592\n",
            "Epoch 6/15\n",
            "80240/80240 [==============================] - 80s 1ms/step - loss: 0.4080 - accuracy: 0.8516 - val_loss: 0.3783 - val_accuracy: 0.8613\n",
            "Epoch 7/15\n",
            "80240/80240 [==============================] - 80s 991us/step - loss: 0.3973 - accuracy: 0.8561 - val_loss: 0.3706 - val_accuracy: 0.8657\n",
            "Epoch 8/15\n",
            "80240/80240 [==============================] - 83s 1ms/step - loss: 0.3934 - accuracy: 0.8566 - val_loss: 0.3662 - val_accuracy: 0.8654\n",
            "Epoch 9/15\n",
            "80240/80240 [==============================] - 85s 1ms/step - loss: 0.3854 - accuracy: 0.8601 - val_loss: 0.3591 - val_accuracy: 0.8678\n",
            "Epoch 10/15\n",
            "80240/80240 [==============================] - 82s 1ms/step - loss: 0.3825 - accuracy: 0.8615 - val_loss: 0.3540 - val_accuracy: 0.8700\n",
            "Epoch 11/15\n",
            "80240/80240 [==============================] - 82s 1ms/step - loss: 0.3758 - accuracy: 0.8630 - val_loss: 0.3500 - val_accuracy: 0.8717\n",
            "Epoch 12/15\n",
            "80240/80240 [==============================] - 84s 1ms/step - loss: 0.3742 - accuracy: 0.8638 - val_loss: 0.3495 - val_accuracy: 0.8722\n",
            "Epoch 13/15\n",
            "80240/80240 [==============================] - 84s 1ms/step - loss: 0.3698 - accuracy: 0.8650 - val_loss: 0.3505 - val_accuracy: 0.8694\n",
            "Epoch 14/15\n",
            "80240/80240 [==============================] - 83s 1ms/step - loss: 0.3698 - accuracy: 0.8643 - val_loss: 0.3503 - val_accuracy: 0.8709\n",
            "Epoch 15/15\n",
            "80240/80240 [==============================] - 83s 1ms/step - loss: 0.3647 - accuracy: 0.8664 - val_loss: 0.3475 - val_accuracy: 0.8699\n"
          ],
          "name": "stdout"
        }
      ]
    },
    {
      "cell_type": "code",
      "metadata": {
        "id": "jPrbg9bHiGDV",
        "colab_type": "code",
        "colab": {
          "base_uri": "https://localhost:8080/",
          "height": 545
        },
        "outputId": "8fd0b68b-e559-4a4c-c810-94d5408244e0"
      },
      "source": [
        "\n",
        "# Plot results\n",
        "import matplotlib.pyplot as plt\n",
        "\n",
        "acc = history.history['accuracy']\n",
        "val_acc = history.history['val_accuracy']\n",
        "loss = history.history['loss']\n",
        "val_loss = history.history['val_loss']\n",
        "\n",
        "epochs = range(1, len(acc)+1)\n",
        "\n",
        "plt.plot(epochs, acc, 'g', label='Training accuracy')\n",
        "plt.plot(epochs, val_acc, 'r', label='Validation accuracy')\n",
        "plt.title('Training and validation accuracy')\n",
        "plt.legend()\n",
        "\n",
        "plt.figure()\n",
        "\n",
        "plt.plot(epochs, loss, 'g', label='Training loss')\n",
        "plt.plot(epochs, val_loss, 'r', label='Validation loss')\n",
        "plt.title('Training and validation loss')\n",
        "plt.legend()\n",
        "\n",
        "plt.show()"
      ],
      "execution_count": 34,
      "outputs": [
        {
          "output_type": "display_data",
          "data": {
            "image/png": "[encoded data removed]",
            "text/plain": [
              "<Figure size 432x288 with 1 Axes>"
            ]
          },
          "metadata": {
            "tags": [],
            "needs_background": "light"
          }
        },
        {
          "output_type": "display_data",
          "data": {
            "image/png": "[encoded data removed]",
            "text/plain": [
              "<Figure size 432x288 with 1 Axes>"
            ]
          },
          "metadata": {
            "tags": [],
            "needs_background": "light"
          }
        }
      ]
    },
    {
      "cell_type": "code",
      "metadata": {
        "id": "Kt5Roz_jsk4R",
        "colab_type": "code",
        "colab": {}
      },
      "source": [
        ""
      ],
      "execution_count": null,
      "outputs": []
    }
  ]
}