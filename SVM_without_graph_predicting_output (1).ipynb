{
  "nbformat": 4,
  "nbformat_minor": 0,
  "metadata": {
    "colab": {
      "name": "SVM without graph predicting output",
      "provenance": []
    },
    "kernelspec": {
      "name": "python3",
      "display_name": "Python 3"
    }
  },
  "cells": [
    {
      "cell_type": "markdown",
      "metadata": {
        "id": "dgaZBm1ozOBL",
        "colab_type": "text"
      },
      "source": [
        "Code Explanation\n",
        "http://www.codershood.info/2019/01/10/support-vector-machine-machine-learning-algorithm-with-example-and-code/"
      ]
    },
    {
      "cell_type": "code",
      "metadata": {
        "id": "wCbdEKI3vXyt",
        "colab_type": "code",
        "colab": {}
      },
      "source": [
        "# Importing the libs\n",
        "import pandas as pd\n",
        "from random import randint\n",
        "\n",
        "class GenerateCsv:\n",
        "    def generateRandomSalary(self, digitCount):\n",
        "         rangeStart = 10**(digitCount-1)\n",
        "         rangEnd = (10**digitCount)-1\n",
        "         return randint(rangeStart, rangEnd)\n",
        "     \n",
        "    def createCsv(self):\n",
        "        userid = []\n",
        "        ageCounter = []\n",
        "        salaryCounter = []\n",
        "        boughtCounter = []\n",
        "        highestSalary = 0;\n",
        "        for x in range(400):\n",
        "            bought = 0\n",
        "            randomSalary = 0    \n",
        "            age = randint(18, 60)\n",
        "            randomSalary = self.generateRandomSalary(randint(4, 5))            \n",
        "            if highestSalary < randomSalary:\n",
        "                highestSalary = randomSalary                \n",
        "            if age > 40:\n",
        "                bought = randint(0,1)             \n",
        "            if age > 40 and highestSalary/2 < randomSalary:\n",
        "                bought = 1\n",
        "            userid.append(x + 1)\n",
        "            ageCounter.append(age)\n",
        "            salaryCounter.append(randomSalary)\n",
        "            boughtCounter.append(bought)\n",
        "            \n",
        "        finalUserData = {\n",
        "            'id': userid, \n",
        "            'age': ageCounter,\n",
        "            'salary': salaryCounter,\n",
        "            tput'bought': boughtCounter\n",
        "        }\n",
        "        df = pd.DataFrame(finalUserData, columns = ['id', 'age', 'salary', 'bought'])\n",
        "        df.to_csv('supermall.csv')\n",
        "    \n",
        "GenerateCsv().createCsv()\n"
      ],
      "execution_count": 0,
      "outputs": []
    },
    {
      "cell_type": "code",
      "metadata": {
        "id": "_CygKiSXsuIQ",
        "colab_type": "code",
        "colab": {
          "base_uri": "https://localhost:8080/",
          "height": 68
        },
        "outputId": "8403353a-1862-4ecc-c5f4-dbc7d9bfc565"
      },
      "source": [
        "# Importing the libraries\n",
        "import pandas as pd\n",
        "from sklearn.preprocessing import StandardScaler\n",
        "from sklearn.svm import SVC\n",
        "\n",
        "class Model:\n",
        "    X = None\n",
        "    Y = None\n",
        "    standardScaler = None\n",
        "   \n",
        "    # Importing the dataset\n",
        "    def importData(self):\n",
        "        dataset = pd.read_csv('supermall.csv')\n",
        "        self.X = dataset.iloc[:, [2,3]].values\n",
        "        self.Y = dataset.iloc[:, 4].values\n",
        "\n",
        "    # Applying feature scaling on the train data\n",
        "    def doFatureScaling(self):\n",
        "        self.standardScaler = StandardScaler()\n",
        "        self.X = self.standardScaler.fit_transform(self.X)\n",
        "\n",
        "    def isBuying(self):\n",
        "        self.importData()\n",
        "        self.doFatureScaling()\n",
        "        \n",
        "        # Fitting Gaussian (RBF) Kernel SVM to the Training set\n",
        "        classifier = SVC(kernel = 'rbf', random_state = 0)\n",
        "        \n",
        "        # Fitting Linear Kernel SVM to the Training set\n",
        "        # classifier = SVC(kernel = 'linear', random_state = 0)\n",
        "        \n",
        "        classifier.fit(self.X, self.Y)    \n",
        "        \n",
        "        userAge = float(input(\"Enter the user's age? \"))\n",
        "        userSalary = float(input(\"What is the salary of user? \"))\n",
        "        \n",
        "        # Applying feature scaling on the test data\n",
        "        testData = self.standardScaler.transform([[userAge, userSalary]])    \n",
        "        prediction = classifier.predict(testData)\n",
        "        \n",
        "        print('This user is most likely to buy the product' if  prediction[0] == 1 else 'This user is not gonna buy the your product.')\n",
        "\n",
        "model = Model()\n",
        "model.isBuying()"
      ],
      "execution_count": 6,
      "outputs": [
        {
          "output_type": "stream",
          "text": [
            "Enter the user's age? 36\n",
            "What is the salary of user? 35000\n",
            "This user is not gonna buy the your product.\n"
          ],
          "name": "stdout"
        }
      ]
    },
    {
      "cell_type": "code",
      "metadata": {
        "id": "F-91eZFhtKov",
        "colab_type": "code",
        "colab": {}
      },
      "source": [
        ""
      ],
      "execution_count": 0,
      "outputs": []
    }
  ]
}