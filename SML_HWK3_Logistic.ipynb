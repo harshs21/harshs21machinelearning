{
 "cells": [
  {
   "cell_type": "code",
   "execution_count": 1,
   "metadata": {
    "collapsed": true
   },
   "outputs": [],
   "source": [
    "#Importing packages\n",
    "import numpy as np\n",
    "import matplotlib.pyplot as plt\n",
    "import pandas as pd\n",
    "import math\n",
    "import os\n",
    "import scipy.io as scipy\n",
    "from collections import defaultdict\n",
    "%matplotlib inline"
   ]
  },
  {
   "cell_type": "code",
   "execution_count": 2,
   "metadata": {
    "collapsed": true
   },
   "outputs": [],
   "source": [
    "#Setting Working Directory\n",
    "os.chdir(\"C:/Users/Sagar Ghiya/Desktop\")"
   ]
  },
  {
   "cell_type": "code",
   "execution_count": 3,
   "metadata": {
    "collapsed": true
   },
   "outputs": [],
   "source": [
    "#Loading data\n",
    "data1 = scipy.loadmat('data1')"
   ]
  },
  {
   "cell_type": "code",
   "execution_count": 4,
   "metadata": {},
   "outputs": [
    {
     "data": {
      "text/plain": [
       "dict"
      ]
     },
     "execution_count": 4,
     "metadata": {},
     "output_type": "execute_result"
    }
   ],
   "source": [
    "type(data1)"
   ]
  },
  {
   "cell_type": "code",
   "execution_count": 5,
   "metadata": {},
   "outputs": [
    {
     "data": {
      "text/plain": [
       "dict_keys(['__header__', '__version__', '__globals__', 'X_trn', 'X_tst', 'Y_trn', 'Y_tst'])"
      ]
     },
     "execution_count": 5,
     "metadata": {},
     "output_type": "execute_result"
    }
   ],
   "source": [
    "data1.keys()"
   ]
  },
  {
   "cell_type": "code",
   "execution_count": 6,
   "metadata": {
    "collapsed": true
   },
   "outputs": [],
   "source": [
    "x_train = np.matrix(data1['X_trn'])\n",
    "y_train = np.matrix(data1['Y_trn'])"
   ]
  },
  {
   "cell_type": "code",
   "execution_count": 7,
   "metadata": {},
   "outputs": [
    {
     "data": {
      "text/plain": [
       "(136, 2)"
      ]
     },
     "execution_count": 7,
     "metadata": {},
     "output_type": "execute_result"
    }
   ],
   "source": [
    "x_train.shape"
   ]
  },
  {
   "cell_type": "code",
   "execution_count": 8,
   "metadata": {},
   "outputs": [
    {
     "data": {
      "text/plain": [
       "(136, 1)"
      ]
     },
     "execution_count": 8,
     "metadata": {},
     "output_type": "execute_result"
    }
   ],
   "source": [
    "y_train.shape"
   ]
  },
  {
   "cell_type": "code",
   "execution_count": 9,
   "metadata": {
    "collapsed": true
   },
   "outputs": [],
   "source": [
    "#Storing data as matrix \n",
    "x_test = np.matrix(data1['X_tst'])\n",
    "y_test = np.matrix(data1['Y_tst'])"
   ]
  },
  {
   "cell_type": "code",
   "execution_count": 10,
   "metadata": {},
   "outputs": [
    {
     "data": {
      "text/plain": [
       "(14, 2)"
      ]
     },
     "execution_count": 10,
     "metadata": {},
     "output_type": "execute_result"
    }
   ],
   "source": [
    "x_test.shape"
   ]
  },
  {
   "cell_type": "code",
   "execution_count": 11,
   "metadata": {},
   "outputs": [
    {
     "data": {
      "text/plain": [
       "(14, 1)"
      ]
     },
     "execution_count": 11,
     "metadata": {},
     "output_type": "execute_result"
    }
   ],
   "source": [
    "y_test.shape"
   ]
  },
  {
   "cell_type": "code",
   "execution_count": 12,
   "metadata": {},
   "outputs": [
    {
     "data": {
      "text/plain": [
       "[<matplotlib.lines.Line2D at 0x2f145792ef0>,\n",
       " <matplotlib.lines.Line2D at 0x2f14579f1d0>]"
      ]
     },
     "execution_count": 12,
     "metadata": {},
     "output_type": "execute_result"
    },
    {
     "data": {
      "image/png": "[encoded data removed]",
      "text/plain": [
       "<matplotlib.figure.Figure at 0x2f145446208>"
      ]
     },
     "metadata": {},
     "output_type": "display_data"
    }
   ],
   "source": [
    "#Data exploration for Train Data\n",
    "plt.plot(x_train,y_train,'o')"
   ]
  },
  {
   "cell_type": "code",
   "execution_count": 13,
   "metadata": {},
   "outputs": [
    {
     "data": {
      "text/plain": [
       "[<matplotlib.lines.Line2D at 0x2f145828550>,\n",
       " <matplotlib.lines.Line2D at 0x2f145828668>]"
      ]
     },
     "execution_count": 13,
     "metadata": {},
     "output_type": "execute_result"
    },
    {
     "data": {
      "image/png": "[encoded data removed]",
      "text/plain": [
       "<matplotlib.figure.Figure at 0x2f145778c88>"
      ]
     },
     "metadata": {},
     "output_type": "display_data"
    }
   ],
   "source": [
    "#Data Exploration for Test Data\n",
    "plt.plot(x_test,y_test,'ro')"
   ]
  },
  {
   "cell_type": "code",
   "execution_count": 14,
   "metadata": {
    "collapsed": true
   },
   "outputs": [],
   "source": [
    "# Sigmoid function\n",
    "def sigmoid(z):\n",
    "    return 1 / (1 + np.exp(-z))\n",
    "\n"
   ]
  },
  {
   "cell_type": "code",
   "execution_count": 15,
   "metadata": {
    "collapsed": true
   },
   "outputs": [],
   "source": [
    "#Cost Function\n",
    "def CostFunc(X, y, omega, lamb):\n",
    "    y_hat = sigmoid(X * omega)\n",
    "    one = np.multiply(y, np.log(y_hat))\n",
    "    two = np.multiply((1 - y), np.log(1 - y_hat))\n",
    "    reg = (lamb / 2 * len(X)) * np.sum(np.power(omega[1:,:], 2))\n",
    "    return (-1/len(X)) * np.sum(one + two) + reg"
   ]
  },
  {
   "cell_type": "code",
   "execution_count": 16,
   "metadata": {
    "collapsed": true
   },
   "outputs": [],
   "source": [
    "#Stochastic Gradient descent to obtain optimal omega\n",
    "def sgd(X, y, theta, rho, minibatch_size, lamb=0, threshold=0.0001, iters=1000):\n",
    "    temp = np.matrix(np.zeros(theta.shape))\n",
    "    parameters = theta.ravel().shape[1]\n",
    "    cost = [np.inf]\n",
    "    \n",
    "    while True:\n",
    "        for b in range(math.ceil(len(X)/minibatch_size)):\n",
    "            # generates random samples without replacement, all unique\n",
    "            random_idx = np.random.choice(len(X), size=min(len(X), minibatch_size), replace = False)\n",
    "\n",
    "            # Get pair of (X, y) of the current minibatch/chunk\n",
    "            X_mini = X[random_idx]\n",
    "            y_mini = y[random_idx]\n",
    "            \n",
    "            error = sigmoid(np.dot(X_mini,theta)) - y_mini\n",
    "            \n",
    "            for j in range(parameters):\n",
    "                term = np.multiply(error, X_mini[:,j])\n",
    "                temp[j,0] = theta[j,0] - ((rho/ len(X_mini)) * (np.sum(term) + lamb * theta[j,0]))\n",
    "\n",
    "            theta = temp\n",
    "            \n",
    "        cost.append(CostFunc(X, y, theta, lamb))\n",
    "        \n",
    "        #print(cost[-1])\n",
    "        \n",
    "        if (cost[-2]-cost[-1]) > 0 and (cost[-2]-cost[-1]) < threshold:\n",
    "            break\n",
    "        \n",
    "    return theta, cost"
   ]
  },
  {
   "cell_type": "code",
   "execution_count": 17,
   "metadata": {
    "collapsed": true
   },
   "outputs": [],
   "source": [
    "lambdas = [0.01,0.03,0.1,0.3,1]"
   ]
  },
  {
   "cell_type": "code",
   "execution_count": 18,
   "metadata": {
    "collapsed": true
   },
   "outputs": [],
   "source": [
    "#Regularization function\n",
    "def regularizationParameter(X, y, kfolds, alpha, minibatch_size, threshold=0.0001, lambda_list = lambdas):\n",
    "    theta1 = np.matrix(np.zeros((X.shape[1],1)))\n",
    "    \n",
    "    shuffled_idx = np.random.choice(len(X), size=len(X), replace = False)\n",
    "    idx_per_fold = math.floor(len(X)/kfolds)\n",
    "    if len(X) % kfolds !=0:\n",
    "        kfolds+=1\n",
    "        \n",
    "    lambda_errorlist = defaultdict(list)\n",
    "    \n",
    "    for lamb in lambdas:\n",
    "        for k in range(kfolds):\n",
    "            #holdout_idx = np.arange(k*idx_per_fold, (k+1)*idx_per_fold)\n",
    "            holdout_idx = shuffled_idx[k*idx_per_fold : (k+1)*idx_per_fold]\n",
    "            #X_holdout = X[k*idx_per_fold : (k+1)*idx_per_fold]\n",
    "            #X_training = np.delete(X,holdout_idx, axis=0)\n",
    "            # Holdout data - kth fold\n",
    "            X_holdout = X[holdout_idx]\n",
    "            y_holdout = y[holdout_idx]\n",
    "            # Training data - other than kth fold\n",
    "            X_training = X[~holdout_idx]\n",
    "            y_training = y[~holdout_idx]\n",
    "            \n",
    "            omega1, _ = sgd(X_training, y_training, theta1, alpha, minibatch_size, lamb, threshold)\n",
    "            holdout_error_lk = CostFunc(X_holdout, y_holdout, omega1, lamb)\n",
    "            \n",
    "            lambda_errorlist[lamb].append(holdout_error_lk)\n",
    "            #print(\"{0}th holdout error(λ={1}): {2}\".format(k, lamb, holdout_error_lk))\n",
    "        print(\"Average error on k-holdout sets for lamda={0} is {1}\".format(lamb,np.mean(lambda_errorlist[lamb])))\n",
    "    lambda_optimal = min(lambda_errorlist, key= lambda l: np.mean(lambda_errorlist[l]))\n",
    "    \n",
    "    return lambda_optimal"
   ]
  },
  {
   "cell_type": "code",
   "execution_count": 19,
   "metadata": {
    "collapsed": true
   },
   "outputs": [],
   "source": [
    "#For Plotting\n",
    "def plot(X_train, y_train, X_test, y_test, theta, title):\n",
    "    # Dataframe with X and y concatenated\n",
    "    test_df = pd.DataFrame(data=np.column_stack((X_test[:,1:],y_test)), columns=['X1','X2','Y'])\n",
    "    train_df = pd.DataFrame(data=np.column_stack((X_train[:,1:],y_train)), columns=['X1','X2','Y'])\n",
    "\n",
    "    positive_test = test_df[test_df['Y'].isin([1])]  \n",
    "    negative_test = test_df[test_df['Y'].isin([0])]\n",
    "\n",
    "    positive_train = train_df[train_df['Y'].isin([1])]  \n",
    "    negative_train = train_df[train_df['Y'].isin([0])]\n",
    "    \n",
    "    fig, ax = plt.subplots(figsize=(12,8))  \n",
    "\n",
    "    w0 = theta.item(0)\n",
    "    w1, w2 = theta.item(1), theta.item(2)\n",
    "\n",
    "    x_hyperplane = np.arange(math.floor(train_df['X1'].min()), math.ceil(train_df['X1'].max()),0.1)\n",
    "    y_hyperplane = (-w0-w1*x_hyperplane)/w2\n",
    "\n",
    "    ax.scatter(positive_train['X1'], positive_train['X2'], s=50, marker='x', label='Train Positive', c='b')  \n",
    "    ax.scatter(positive_test['X1'], positive_test['X2'], s=50, marker='x', label='Test Positive', facecolors='none', edgecolors='b')  \n",
    "    \n",
    "    ax.scatter(negative_train['X1'], negative_train['X2'], s=50, marker='o', label='Train Negative', c='r')  \n",
    "    ax.scatter(negative_test['X1'], negative_test['X2'], s=50, marker='o', label='Test Negative', facecolors='none', edgecolors='r')  \n",
    "    \n",
    "    plt.plot(x_hyperplane, y_hyperplane, 'k-', label='Decision Boundary')\n",
    "\n",
    "    plt.legend(bbox_to_anchor=(1, 0), loc=\"upper right\", ncol=5,\n",
    "                bbox_transform=fig.transFigure, fontsize = 'medium', columnspacing = 0.5)  \n",
    "    \n",
    "    ax.set_xlabel('X1')  \n",
    "    ax.set_ylabel('X2') \n",
    "    plt.title(title)\n",
    "    fig.tight_layout()\n",
    "    plt.show()"
   ]
  },
  {
   "cell_type": "code",
   "execution_count": 20,
   "metadata": {
    "collapsed": true
   },
   "outputs": [],
   "source": [
    "#Function to predict classes\n",
    "def predict(theta, X):  \n",
    "    prob = sigmoid(X * theta)\n",
    "    return [1 if x >= 0.5 else 0 for x in prob]"
   ]
  },
  {
   "cell_type": "code",
   "execution_count": 21,
   "metadata": {
    "collapsed": true
   },
   "outputs": [],
   "source": [
    "#Adding intercept to data \n",
    "X1_train = np.hstack((np.ones((x_train.shape[0], 1)), x_train))\n",
    "X1_test = np.hstack((np.ones((x_test.shape[0], 1)), x_test))"
   ]
  },
  {
   "cell_type": "code",
   "execution_count": 22,
   "metadata": {},
   "outputs": [
    {
     "name": "stdout",
     "output_type": "stream",
     "text": [
      "Average error on k-holdout sets for lamda=0.01 is 0.5556604917674114\n",
      "Average error on k-holdout sets for lamda=0.03 is 0.5792530424341357\n",
      "Average error on k-holdout sets for lamda=0.1 is 0.6193689660057571\n",
      "Average error on k-holdout sets for lamda=0.3 is 0.6576455593541894\n",
      "Average error on k-holdout sets for lamda=1 is 0.6797639902517638\n",
      "Optimal value for lamda:0.01\n"
     ]
    }
   ],
   "source": [
    "#Finding regularization parameter lambda\n",
    "alpha = 0.0001\n",
    "minibatch_size = 5\n",
    "kfolds_10 = 10\n",
    "\n",
    "lambda_optimal1 = regularizationParameter(X1_train, y_train, kfolds_10, alpha, minibatch_size)\n",
    "print(\"Optimal value for lamda:{0}\".format(lambda_optimal1))"
   ]
  },
  {
   "cell_type": "code",
   "execution_count": 23,
   "metadata": {},
   "outputs": [
    {
     "data": {
      "text/plain": [
       "matrix([[ 0.],\n",
       "        [ 0.],\n",
       "        [ 0.]])"
      ]
     },
     "execution_count": 23,
     "metadata": {},
     "output_type": "execute_result"
    }
   ],
   "source": [
    "#Assigning theta to 0\n",
    "theta = np.matrix(np.zeros((X1_train.shape[1],1)))\n",
    "theta"
   ]
  },
  {
   "cell_type": "code",
   "execution_count": 24,
   "metadata": {},
   "outputs": [
    {
     "name": "stdout",
     "output_type": "stream",
     "text": [
      "Theta for training data:\n",
      " [[ 0.00602208]\n",
      " [ 0.26373233]\n",
      " [-0.19584832]]\n"
     ]
    }
   ],
   "source": [
    "#Training theta\n",
    "theta_sg1, cost_sg1 = sgd(X1_train, y_train, theta,alpha, minibatch_size=10, lamb=lambda_optimal1, threshold=0.0001)\n",
    "print(\"Theta for training data:\\n\",theta_sg1)"
   ]
  },
  {
   "cell_type": "code",
   "execution_count": 25,
   "metadata": {},
   "outputs": [
    {
     "name": "stdout",
     "output_type": "stream",
     "text": [
      "Classification Error = 0.01\n",
      "No of mis-classified Training data points: 1\n",
      "accuracy = 99.26%\n"
     ]
    }
   ],
   "source": [
    "#Classification accuracy on train data\n",
    "predictions_trn = predict(theta_sg1, X1_train)  \n",
    "correct = [1 if a == b[0] else 0 for (a, b) in zip(predictions_trn, y_train.tolist())]  \n",
    "accuracy = (sum(map(int, correct)) / len(correct)*100)  \n",
    "print('Classification Error = {0:.2f}'.format(correct.count(0)/len(correct)))\n",
    "print('No of mis-classified Training data points: {0}'.format(correct.count(0)))\n",
    "print('accuracy = {0:.2f}%'.format(accuracy))"
   ]
  },
  {
   "cell_type": "code",
   "execution_count": 26,
   "metadata": {},
   "outputs": [
    {
     "name": "stdout",
     "output_type": "stream",
     "text": [
      "Classification Error = 0.00\n",
      "No of mis-classified Test data points: 0\n",
      "accuracy = 100.00%\n"
     ]
    }
   ],
   "source": [
    "#Classification Accuracy on Test Data\n",
    "predictions_tst = predict(theta_sg1, X1_test)  \n",
    "correct = [1 if a == b[0] else 0 for (a, b) in zip(predictions_tst, y_test.tolist())]  \n",
    "accuracy = (sum(map(int, correct)) / len(correct)*100)  \n",
    "print('Classification Error = {0:.2f}'.format(correct.count(0)/len(correct)))\n",
    "print('No of mis-classified Test data points: {0}'.format(correct.count(0)))\n",
    "print('accuracy = {0:.2f}%'.format(accuracy))"
   ]
  },
  {
   "cell_type": "code",
   "execution_count": 27,
   "metadata": {},
   "outputs": [
    {
     "data": {
      "image/png": "[encoded data removed]",
      "text/plain": [
       "<matplotlib.figure.Figure at 0x2f145865e10>"
      ]
     },
     "metadata": {},
     "output_type": "display_data"
    }
   ],
   "source": [
    "plot(X1_train, y_train, X1_test, y_test, theta_sg1, title = \"Logistic Regression - Dataset 1\")"
   ]
  },
  {
   "cell_type": "code",
   "execution_count": 28,
   "metadata": {
    "collapsed": true
   },
   "outputs": [],
   "source": [
    "#DATASET 2"
   ]
  },
  {
   "cell_type": "code",
   "execution_count": 29,
   "metadata": {
    "collapsed": true
   },
   "outputs": [],
   "source": [
    "data2 = scipy.loadmat('data2')"
   ]
  },
  {
   "cell_type": "code",
   "execution_count": 30,
   "metadata": {
    "collapsed": true
   },
   "outputs": [],
   "source": [
    "X2_train, y2_train = np.matrix(data2['X_trn']), np.matrix(data2['Y_trn'])\n",
    "X2_test, y2_test = np.matrix(data2['X_tst']), np.matrix(data2['Y_tst'])"
   ]
  },
  {
   "cell_type": "code",
   "execution_count": 31,
   "metadata": {
    "collapsed": true
   },
   "outputs": [],
   "source": [
    "#Adding intercept\n",
    "X2_train = np.hstack((np.ones((X2_train.shape[0], 1)), X2_train))\n",
    "X2_test = np.hstack((np.ones((X2_test.shape[0], 1)), X2_test))"
   ]
  },
  {
   "cell_type": "code",
   "execution_count": 32,
   "metadata": {},
   "outputs": [
    {
     "name": "stdout",
     "output_type": "stream",
     "text": [
      "Average error on k-holdout sets for lamda=0.01 is 0.6914515411771304\n",
      "Average error on k-holdout sets for lamda=0.03 is 0.6928518888002847\n",
      "Average error on k-holdout sets for lamda=0.1 is 0.6927511320975022\n",
      "Average error on k-holdout sets for lamda=0.3 is 0.6927277976499785\n",
      "Average error on k-holdout sets for lamda=1 is 0.6927229102830338\n",
      "Optimal value for lamda:0.01\n"
     ]
    }
   ],
   "source": [
    "#Calculating hyperparameter lambda\n",
    "alpha = 0.0001\n",
    "minibatch_size = 5\n",
    "kfolds_10 = 10\n",
    "\n",
    "lambda_optimal2 = regularizationParameter(X2_train, y2_train, kfolds_10, alpha, minibatch_size)\n",
    "print(\"Optimal value for lamda:{0}\".format(lambda_optimal2))"
   ]
  },
  {
   "cell_type": "code",
   "execution_count": 33,
   "metadata": {},
   "outputs": [
    {
     "data": {
      "text/plain": [
       "matrix([[ 0.],\n",
       "        [ 0.],\n",
       "        [ 0.]])"
      ]
     },
     "execution_count": 33,
     "metadata": {},
     "output_type": "execute_result"
    }
   ],
   "source": [
    "theta2 = np.matrix(np.zeros((X2_train.shape[1],1)))\n",
    "theta2"
   ]
  },
  {
   "cell_type": "code",
   "execution_count": 34,
   "metadata": {},
   "outputs": [
    {
     "name": "stdout",
     "output_type": "stream",
     "text": [
      "Theta for training data(Stochastic Logistic Regression):\n",
      " [[ 0.00485037]\n",
      " [ 0.18384461]\n",
      " [-0.08274535]]\n"
     ]
    }
   ],
   "source": [
    "#Training Theta\n",
    "theta_sg2, cost_sg2 = sgd(X2_train, y2_train, theta2, alpha,minibatch_size=10, lamb=lambda_optimal2, threshold=0.0001)\n",
    "print(\"Theta for training data(Stochastic Logistic Regression):\\n\",theta_sg2)"
   ]
  },
  {
   "cell_type": "code",
   "execution_count": 35,
   "metadata": {
    "scrolled": true
   },
   "outputs": [
    {
     "name": "stdout",
     "output_type": "stream",
     "text": [
      "Classification Error = 0.10\n",
      "No of mis-classified Training data points: 12\n",
      "accuracy = 90.48%\n"
     ]
    }
   ],
   "source": [
    "#Classification Accuracy on Train Data\n",
    "predictions_trn_2 = predict(theta_sg2, X2_train)  \n",
    "correct = [1 if ((a == 1 and b[0] == 1) or (a == 0 and b[0] == 0)) else 0 for (a, b) in zip(predictions_trn_2, y2_train.tolist())]  \n",
    "accuracy = (sum(map(int, correct)) / len(correct)*100)  \n",
    "print('Classification Error = {0:.2f}'.format(correct.count(0)/len(correct)))\n",
    "print('No of mis-classified Training data points: {0}'.format(correct.count(0)))\n",
    "print('accuracy = {0:.2f}%'.format(accuracy))"
   ]
  },
  {
   "cell_type": "code",
   "execution_count": 36,
   "metadata": {},
   "outputs": [
    {
     "name": "stdout",
     "output_type": "stream",
     "text": [
      "Classification Error = 0.14\n",
      "No of mis-classified Test data points: 2\n",
      "accuracy = 85.71%\n"
     ]
    }
   ],
   "source": [
    "#Classification Accuracy on Test Data\n",
    "predictions_tst_2 = predict(theta_sg2, X2_test)  \n",
    "correct = [1 if ((a == 1 and b[0] == 1) or (a == 0 and b[0] == 0)) else 0 for (a, b) in zip(predictions_tst_2, y2_test.tolist())]  \n",
    "accuracy = (sum(map(int, correct)) / len(correct)*100)  \n",
    "print('Classification Error = {0:.2f}'.format(correct.count(0)/len(correct)))\n",
    "print('No of mis-classified Test data points: {0}'.format(correct.count(0)))\n",
    "print('accuracy = {0:.2f}%'.format(accuracy))"
   ]
  },
  {
   "cell_type": "code",
   "execution_count": 37,
   "metadata": {},
   "outputs": [
    {
     "data": {
      "image/png": "[encoded data removed]",
      "text/plain": [
       "<matplotlib.figure.Figure at 0x2f1458711d0>"
      ]
     },
     "metadata": {},
     "output_type": "display_data"
    }
   ],
   "source": [
    "plot(X2_train, y2_train, X2_test, y2_test, theta_sg2, title = \"Logistic Regression - Dataset 2\")"
   ]
  },
  {
   "cell_type": "code",
   "execution_count": 38,
   "metadata": {
    "collapsed": true
   },
   "outputs": [],
   "source": [
    "#The classification error is more in part B as compared to part A. This is because dataset 1 has 2 classes which are well sperated from each other. So we get \n",
    "# a proper hyperplane which seperates both classes. However in dataset 2 classes are not well seperated. There are few points which are mixed and hence there is more error. "
   ]
  }
 ],
 "metadata": {
  "kernelspec": {
   "display_name": "Python 3",
   "language": "python",
   "name": "python3"
  },
  "language_info": {
   "codemirror_mode": {
    "name": "ipython",
    "version": 3
   },
   "file_extension": ".py",
   "mimetype": "text/x-python",
   "name": "python",
   "nbconvert_exporter": "python",
   "pygments_lexer": "ipython3",
   "version": "3.6.3"
  }
 },
 "nbformat": 4,
 "nbformat_minor": 2
}
