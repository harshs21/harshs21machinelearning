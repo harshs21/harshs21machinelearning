{
  "nbformat": 4,
  "nbformat_minor": 0,
  "metadata": {
    "colab": {
      "name": "Other Similiarity Functions.ipynb",
      "provenance": []
    },
    "kernelspec": {
      "name": "python3",
      "display_name": "Python 3"
    }
  },
  "cells": [
    {
      "cell_type": "markdown",
      "metadata": {
        "id": "Pss6jcSlvDrz",
        "colab_type": "text"
      },
      "source": [
        "**Python | Similarity metrics of strings**\n",
        "This particular utility is quite in demand nowadays due to the similarity computation requirements in many fields of Computer Science such as Machine Learning, A.I and web development domains, hence techniques to compute similarity between any given containers can be quite useful. Let’s discuss certain ways in which this can be done.\n",
        "\n",
        "Method #1 : Using Naive Approach(sum() + zip())\n",
        "We can perform this particular task using the naive approach, using sum and zip functions we can formulate a utility function that can compute the similarity of both the strings."
      ]
    },
    {
      "cell_type": "code",
      "metadata": {
        "id": "49pWFp5mtldq",
        "colab_type": "code",
        "colab": {
          "base_uri": "https://localhost:8080/",
          "height": 34
        },
        "outputId": "747ef291-5b2e-4388-a153-8f7ec94adf7d"
      },
      "source": [
        "# Python3 code to demonstrate  \n",
        "# similarity between strings \n",
        "# using naive method (sum() + zip()) \n",
        "def similar(str1, str2): \n",
        "    str1 = str1 + ' ' * (len(str2) - len(str1)) \n",
        "    str2 = str2 + ' ' * (len(str1) - len(str2)) \n",
        "    return sum(1 if i == j else 0 \n",
        "               for i, j in zip(str1, str2)) / float(len(str1)) \n",
        "  \n",
        "# Initializing strings \n",
        "test_string1 = 'Geeksforgeeks'\n",
        "test_string2 = 'Geeks4geeks'\n",
        "  \n",
        "# using naive method (sum() + zip()) \n",
        "# similarity between strings \n",
        "res = similar(test_string1, test_string2) \n",
        "  \n",
        "# printing the result \n",
        "print (\"The similarity between 2 strings is : \" + str(res)) "
      ],
      "execution_count": 6,
      "outputs": [
        {
          "output_type": "stream",
          "text": [
            "The similarity between 2 strings is : 0.38461538461538464\n"
          ],
          "name": "stdout"
        }
      ]
    },
    {
      "cell_type": "markdown",
      "metadata": {
        "id": "BREpPS08vwDh",
        "colab_type": "text"
      },
      "source": [
        "**Method #2 : Using SequenceMatcher.ratio()**\n",
        "There’s an inbuilt method, that helps to perform this particular task and is recommended to achieve this particular task as it doesn’t require custom approach but uses built in constructs to perform task more efficiently."
      ]
    },
    {
      "cell_type": "code",
      "metadata": {
        "id": "03Oo8oakvqPu",
        "colab_type": "code",
        "colab": {
          "base_uri": "https://localhost:8080/",
          "height": 34
        },
        "outputId": "c4304645-c3bd-4634-edbb-5b3c0dc8df25"
      },
      "source": [
        "# Python3 code to demonstrate \n",
        "# similarity between strings \n",
        "# using SequenceMatcher.ratio() \n",
        "from difflib import SequenceMatcher \n",
        "\n",
        "# Utility function to compute similarity \n",
        "def similar(str1, str2): \n",
        "\treturn SequenceMatcher(None, str1, str2).ratio() \n",
        "\n",
        "# Initializing strings \n",
        "test_string1 = 'Geeksforgeeks'\n",
        "test_string2 = 'Geeks'\n",
        "\n",
        "# using SequenceMatcher.ratio() \n",
        "# similarity between strings \n",
        "res = similar(test_string1, test_string2) \n",
        "\n",
        "# printing the result \n",
        "print (\"The similarity between 2 strings is : \" + str(res)) \n"
      ],
      "execution_count": 5,
      "outputs": [
        {
          "output_type": "stream",
          "text": [
            "The similarity between 2 strings is : 0.5555555555555556\n"
          ],
          "name": "stdout"
        }
      ]
    },
    {
      "cell_type": "code",
      "metadata": {
        "id": "yfUJB9o3uNm_",
        "colab_type": "code",
        "colab": {}
      },
      "source": [
        ""
      ],
      "execution_count": 0,
      "outputs": []
    }
  ]
}