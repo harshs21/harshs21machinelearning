{
  "nbformat": 4,
  "nbformat_minor": 0,
  "metadata": {
    "colab": {
      "name": "intro_word_embeddings.ipynb",
      "provenance": [],
      "collapsed_sections": []
    },
    "kernelspec": {
      "display_name": "Python 3",
      "language": "python",
      "name": "python3"
    },
    "language_info": {
      "codemirror_mode": {
        "name": "ipython",
        "version": 3
      },
      "file_extension": ".py",
      "mimetype": "text/x-python",
      "name": "python",
      "nbconvert_exporter": "python",
      "pygments_lexer": "ipython3",
      "version": "3.6.5"
    }
  },
  "cells": [
    {
      "cell_type": "markdown",
      "metadata": {
        "colab_type": "text",
        "id": "xy8HXbLYe-zc"
      },
      "source": [
        "##### Copyright 2018 The TensorFlow Authors."
      ]
    },
    {
      "cell_type": "code",
      "metadata": {
        "colab_type": "code",
        "id": "Q0_10N6De-zh",
        "colab": {}
      },
      "source": [
        "#@title Licensed under the Apache License, Version 2.0 (the \"License\");\n",
        "# you may not use this file except in compliance with the License.\n",
        "# You may obtain a copy of the License at\n",
        "#\n",
        "# https://www.apache.org/licenses/LICENSE-2.0\n",
        "#\n",
        "# Unless required by applicable law or agreed to in writing, software\n",
        "# distributed under the License is distributed on an \"AS IS\" BASIS,\n",
        "# WITHOUT WARRANTIES OR CONDITIONS OF ANY KIND, either express or implied.\n",
        "# See the License for the specific language governing permissions and\n",
        "# limitations under the License."
      ],
      "execution_count": 0,
      "outputs": []
    },
    {
      "cell_type": "markdown",
      "metadata": {
        "colab_type": "text",
        "id": "jiR0ETqae-zt"
      },
      "source": [
        "# Introduction to Word Embeddings"
      ]
    },
    {
      "cell_type": "markdown",
      "metadata": {
        "colab_type": "text",
        "id": "SkppDVzme-zu"
      },
      "source": [
        "<table class=\"tfo-notebook-buttons\" align=\"left\">\n",
        "  <td>\n",
        "    <a target=\"_blank\" href=\"\"><img src=\"https://www.tensorflow.org/images/tf_logo_32px.png\" />View on TensorFlow.org</a>\n",
        "  </td>\n",
        "  <td>\n",
        "    <a target=\"_blank\" href=\"\"><img src=\"https://www.tensorflow.org/images/colab_logo_32px.png\" />Run in Google Colab</a>\n",
        "  </td>\n",
        "  <td>\n",
        "    <a target=\"_blank\" href=\"\"><img src=\"https://www.tensorflow.org/images/GitHub-Mark-32px.png\" />View source on GitHub</a>\n",
        "  </td>\n",
        "</table>"
      ]
    },
    {
      "cell_type": "markdown",
      "metadata": {
        "colab_type": "text",
        "id": "Aj5d6ZHae-zz"
      },
      "source": [
        "This tutorial shows how to train a sentiment classifer on the IMDB dataset using learned word embeddings. As a bonus, we show how to visualize these embeddings in the [TensorFlow Embedding Projector](http://projector.tensorflow.org). \n",
        "\n",
        "First, here's a bit of background. Before we can build a model to predict the sentiment of a review, first we will need a way to represent the words of the review as numbers, so they can be processed by our network. There are several strategies to convert words to numbers.\n",
        "\n",
        "As a first attempt, we might one-hot encode each word. One problem with this approach is efficiency. A one-hot encoded vector is sparse (meaning, most indicices are zero). Imagine we have 10,000 words in our vocabulary. To one-hot encode each one, we would create a vector where 99.99% of the elements are zero!\n",
        "\n",
        "Instead, we can encode each word using a unique number. For example, we might assign 1 to 'the', 42 to 'dog', and 96 to 'cat', and so on. Using these numbers, we could encode a sentence like \"The dog and cat sat on the mat\" as \\[1, 42, 96, ...\\]. One problem still remains. Although we know dogs and cats are related, our representation doesn't encode that information for the classifier (the numbers 42 and 96 were arbitrarily chosen). \n",
        "\n",
        "Unlike the above methods, a word embedding is learned from data. An embedding represents each word as a n-dimensional vector of floating point values. These values are traininable parameters, weights learned while training the model. After training, we hope that similar words will be close together in the embedding space. We can visualize the learned embeddings by projecting them down to a 2- or 3-dimensional space.\n",
        "\n",
        "There are two ways to obtain word embeddings:\n",
        "\n",
        "* Learn word embeddings jointly with the main task you care about (e.g. sentiment classification). In this case, you would start with random word vectors, then learn your word vectors in the same way that you learn the weights of a neural network.\n",
        "\n",
        "* Load word embeddings into your model that were pre-computed using a different machine learning task than the one you are trying to solve. These are called \"pre-trained word embeddings\".\n",
        "\n",
        "Here, we will take the first approach."
      ]
    },
    {
      "cell_type": "code",
      "metadata": {
        "colab_type": "code",
        "id": "7zQoILT9e-z2",
        "outputId": "fb52a330-ffe1-4754-f198-3ff3547091ea",
        "colab": {
          "base_uri": "https://localhost:8080/",
          "height": 34
        }
      },
      "source": [
        "import tensorflow as tf\n",
        "from tensorflow import keras\n",
        "print(tf.__version__)"
      ],
      "execution_count": 0,
      "outputs": [
        {
          "output_type": "stream",
          "text": [
            "1.8.0\n"
          ],
          "name": "stdout"
        }
      ]
    },
    {
      "cell_type": "markdown",
      "metadata": {
        "colab_type": "text",
        "id": "X6MReNwJlOHJ"
      },
      "source": [
        "# Download the IMDB dataset\n",
        "\n",
        "The IMDB dataset comes packaged with TensorFlow. It has already been preprocessed such that the reviews (sequences of words) have been converted to sequences of integers, where each integer represents a specific word in a dictionary."
      ]
    },
    {
      "cell_type": "code",
      "metadata": {
        "colab_type": "code",
        "id": "pxf4Qu3xe-0E",
        "colab": {}
      },
      "source": [
        "imdb = keras.datasets.imdb\n",
        "\n",
        "# Number of words to consider as features\n",
        "num_words = 20000\n",
        "\n",
        "# load IMDB dataset as lists of integers\n",
        "(train_data, train_labels), (test_data, test_labels) = imdb.load_data(num_words=num_words)"
      ],
      "execution_count": 0,
      "outputs": []
    },
    {
      "cell_type": "markdown",
      "metadata": {
        "colab_type": "text",
        "id": "BGBirQQ2l1h7"
      },
      "source": [
        "The argument num_words=20000 keeps the top 20,000 most frequently occurring words in the training data."
      ]
    },
    {
      "cell_type": "code",
      "metadata": {
        "colab_type": "code",
        "id": "GDRePL1flhhw",
        "outputId": "64ba8f56-847f-47fc-ee17-0825e51ae24a",
        "colab": {
          "base_uri": "https://localhost:8080/",
          "height": 34
        }
      },
      "source": [
        "print(\"Training examples: {}, labels: {}\".format(len(train_data), len(train_labels)))"
      ],
      "execution_count": 0,
      "outputs": [
        {
          "output_type": "stream",
          "text": [
            "Training examples: 25000, labels: 25000\n"
          ],
          "name": "stdout"
        }
      ]
    },
    {
      "cell_type": "markdown",
      "metadata": {
        "colab_type": "text",
        "id": "RdVN8hYGloP7"
      },
      "source": [
        "The text of reviews have been converted to integers, where each integer represents a specific word in a dictionary. Here's what the first review looks like:"
      ]
    },
    {
      "cell_type": "code",
      "metadata": {
        "colab_type": "code",
        "id": "gO0nNEZklltp",
        "outputId": "7f9b25f2-6ba1-409d-8727-3a27423d8fe8",
        "colab": {
          "base_uri": "https://localhost:8080/",
          "height": 54
        }
      },
      "source": [
        "print(train_data[0])"
      ],
      "execution_count": 0,
      "outputs": [
        {
          "output_type": "stream",
          "text": [
            "[1, 14, 22, 16, 43, 530, 973, 1622, 1385, 65, 458, 4468, 66, 3941, 4, 173, 36, 256, 5, 25, 100, 43, 838, 112, 50, 670, 2, 9, 35, 480, 284, 5, 150, 4, 172, 112, 167, 2, 336, 385, 39, 4, 172, 4536, 1111, 17, 546, 38, 13, 447, 4, 192, 50, 16, 6, 147, 2025, 19, 14, 22, 4, 1920, 4613, 469, 4, 22, 71, 87, 12, 16, 43, 530, 38, 76, 15, 13, 1247, 4, 22, 17, 515, 17, 12, 16, 626, 18, 19193, 5, 62, 386, 12, 8, 316, 8, 106, 5, 4, 2223, 5244, 16, 480, 66, 3785, 33, 4, 130, 12, 16, 38, 619, 5, 25, 124, 51, 36, 135, 48, 25, 1415, 33, 6, 22, 12, 215, 28, 77, 52, 5, 14, 407, 16, 82, 10311, 8, 4, 107, 117, 5952, 15, 256, 4, 2, 7, 3766, 5, 723, 36, 71, 43, 530, 476, 26, 400, 317, 46, 7, 4, 12118, 1029, 13, 104, 88, 4, 381, 15, 297, 98, 32, 2071, 56, 26, 141, 6, 194, 7486, 18, 4, 226, 22, 21, 134, 476, 26, 480, 5, 144, 30, 5535, 18, 51, 36, 28, 224, 92, 25, 104, 4, 226, 65, 16, 38, 1334, 88, 12, 16, 283, 5, 16, 4472, 113, 103, 32, 15, 16, 5345, 19, 178, 32]\n"
          ],
          "name": "stdout"
        }
      ]
    },
    {
      "cell_type": "markdown",
      "metadata": {
        "colab_type": "text",
        "id": "bxGWS8mWlrGh"
      },
      "source": [
        "Movie reviews may be different lengths. The below code shows the number of words in the first and second reviews. Since inputs to a neural network must be the same length, we'll need to resolve this."
      ]
    },
    {
      "cell_type": "code",
      "metadata": {
        "colab_type": "code",
        "id": "x6Bbi27-ltzb",
        "outputId": "bed21543-b621-465b-9a2a-9854db01d021",
        "colab": {
          "base_uri": "https://localhost:8080/",
          "height": 34
        }
      },
      "source": [
        "len(train_data[0]), len(train_data[1])"
      ],
      "execution_count": 0,
      "outputs": [
        {
          "output_type": "execute_result",
          "data": {
            "text/plain": [
              "(218, 189)"
            ]
          },
          "metadata": {
            "tags": []
          },
          "execution_count": 6
        }
      ]
    },
    {
      "cell_type": "markdown",
      "metadata": {
        "colab_type": "text",
        "id": "aLcQxHtmmHBb"
      },
      "source": [
        "# Prepocess Data\n",
        "We will pad the arrays so they all have the same length, using the [https://www.tensorflow.org/api_docs/python/tf/keras/preprocessing/sequence/pad_sequences](pad_sequences) method. In this case, TensorFlow will create new matrix of shape ```max_len * num_examples```:"
      ]
    },
    {
      "cell_type": "code",
      "metadata": {
        "colab_type": "code",
        "id": "A2JwvoSve-0H",
        "outputId": "393a478f-1624-4dc2-a844-bfa09ffacb40",
        "colab": {
          "base_uri": "https://localhost:8080/",
          "height": 34
        }
      },
      "source": [
        "# Cut texts after this number of words \n",
        "max_len = 500\n",
        "\n",
        "# Convert our lists of integers into 2D tensors\n",
        "train_data = keras.preprocessing.sequence.pad_sequences(train_data, \n",
        "                                                        maxlen=max_len)\n",
        "test_data = keras.preprocessing.sequence.pad_sequences(test_data, \n",
        "                                                       maxlen=max_len)\n",
        "\n",
        "print(train_data.shape)"
      ],
      "execution_count": 0,
      "outputs": [
        {
          "output_type": "stream",
          "text": [
            "(25000, 500)\n"
          ],
          "name": "stdout"
        }
      ]
    },
    {
      "cell_type": "markdown",
      "metadata": {
        "colab_type": "text",
        "id": "I2oJlJoQe-0L"
      },
      "source": [
        "Notice the pad sequences method worked by prepending '0's to the start of the sequence:"
      ]
    },
    {
      "cell_type": "code",
      "metadata": {
        "colab_type": "code",
        "id": "MvAGi0aPmsRH",
        "outputId": "6a05df18-f10e-48e9-ce9a-01d1e3732fe1",
        "colab": {
          "base_uri": "https://localhost:8080/",
          "height": 255
        }
      },
      "source": [
        "print(train_data[0])"
      ],
      "execution_count": 0,
      "outputs": [
        {
          "output_type": "stream",
          "text": [
            "[    0     0     0     0     0     0     0     0     0     0     0     0\n",
            "     0     0     0     0     0     0     0     0     0     0     0     0\n",
            "     0     0     0     0     0     0     0     0     0     0     0     0\n",
            "     0     0     0     0     0     0     0     0     0     0     0     0\n",
            "     0     0     0     0     0     0     0     0     0     0     0     0\n",
            "     0     0     0     0     0     0     0     0     0     0     0     0\n",
            "     0     0     0     0     0     0     0     0     0     0     0     0\n",
            "     0     0     0     0     0     0     0     0     0     0     0     0\n",
            "     0     0     0     0     0     0     0     0     0     0     0     0\n",
            "     0     0     0     0     0     0     0     0     0     0     0     0\n",
            "     0     0     0     0     0     0     0     0     0     0     0     0\n",
            "     0     0     0     0     0     0     0     0     0     0     0     0\n",
            "     0     0     0     0     0     0     0     0     0     0     0     0\n",
            "     0     0     0     0     0     0     0     0     0     0     0     0\n",
            "     0     0     0     0     0     0     0     0     0     0     0     0\n",
            "     0     0     0     0     0     0     0     0     0     0     0     0\n",
            "     0     0     0     0     0     0     0     0     0     0     0     0\n",
            "     0     0     0     0     0     0     0     0     0     0     0     0\n",
            "     0     0     0     0     0     0     0     0     0     0     0     0\n",
            "     0     0     0     0     0     0     0     0     0     0     0     0\n",
            "     0     0     0     0     0     0     0     0     0     0     0     0\n",
            "     0     0     0     0     0     0     0     0     0     0     0     0\n",
            "     0     0     0     0     0     0     0     0     0     0     0     0\n",
            "     0     0     0     0     0     0     1    14    22    16    43   530\n",
            "   973  1622  1385    65   458  4468    66  3941     4   173    36   256\n",
            "     5    25   100    43   838   112    50   670     2     9    35   480\n",
            "   284     5   150     4   172   112   167     2   336   385    39     4\n",
            "   172  4536  1111    17   546    38    13   447     4   192    50    16\n",
            "     6   147  2025    19    14    22     4  1920  4613   469     4    22\n",
            "    71    87    12    16    43   530    38    76    15    13  1247     4\n",
            "    22    17   515    17    12    16   626    18 19193     5    62   386\n",
            "    12     8   316     8   106     5     4  2223  5244    16   480    66\n",
            "  3785    33     4   130    12    16    38   619     5    25   124    51\n",
            "    36   135    48    25  1415    33     6    22    12   215    28    77\n",
            "    52     5    14   407    16    82 10311     8     4   107   117  5952\n",
            "    15   256     4     2     7  3766     5   723    36    71    43   530\n",
            "   476    26   400   317    46     7     4 12118  1029    13   104    88\n",
            "     4   381    15   297    98    32  2071    56    26   141     6   194\n",
            "  7486    18     4   226    22    21   134   476    26   480     5   144\n",
            "    30  5535    18    51    36    28   224    92    25   104     4   226\n",
            "    65    16    38  1334    88    12    16   283     5    16  4472   113\n",
            "   103    32    15    16  5345    19   178    32]\n"
          ],
          "name": "stdout"
        }
      ]
    },
    {
      "cell_type": "markdown",
      "metadata": {
        "colab_type": "text",
        "id": "UA34t8p1mu7-"
      },
      "source": [
        "# Build a Multi-Layer Perceptron\n",
        "We are now ready to build our model. We will use an [Embedding](https://www.tensorflow.org/api_docs/python/tf/keras/layers/Embedding) layer to map from an integer that corresponds to a word, to a vector of floating point weights (the embedding). These weights are learned when we train the model."
      ]
    },
    {
      "cell_type": "code",
      "metadata": {
        "colab_type": "code",
        "id": "rl_sY4nFe-0N",
        "outputId": "b6d174e9-0b82-4d4a-c377-87df511cd7a4",
        "scrolled": false,
        "colab": {
          "base_uri": "https://localhost:8080/",
          "height": 649
        }
      },
      "source": [
        "from keras.models import Sequential\n",
        "from keras.layers import Dense, Embedding, GlobalAveragePooling1D\n",
        "\n",
        "embedding_dimension = 16\n",
        "\n",
        "model = Sequential()\n",
        "model.add(Embedding(num_words, embedding_dimension, input_length=max_len))\n",
        "\n",
        "# Our output is a 3D tensor of shape (samples, vocab_size, embedding_dimension)\n",
        "# we will use `GlobalAveragePooling` before our fully connected layer. In the past, this used to be a Flatten layer\n",
        "model.add(GlobalAveragePooling1D())\n",
        "\n",
        "# Add a classifier on top.\n",
        "model.add(Dense(1, activation='sigmoid') )\n",
        "model.compile(optimizer='adam', loss='binary_crossentropy', metrics=['acc'])\n",
        "\n",
        "model.summary()\n",
        "\n",
        "history = model.fit(\n",
        "    train_data,\n",
        "    train_labels,\n",
        "    epochs=10,\n",
        "    batch_size=32,\n",
        "    validation_split=0.2\n",
        ")"
      ],
      "execution_count": 0,
      "outputs": [
        {
          "output_type": "stream",
          "text": [
            "_________________________________________________________________\n",
            "Layer (type)                 Output Shape              Param #   \n",
            "=================================================================\n",
            "embedding_1 (Embedding)      (None, 500, 16)           320000    \n",
            "_________________________________________________________________\n",
            "global_average_pooling1d_1 ( (None, 16)                0         \n",
            "_________________________________________________________________\n",
            "dense_1 (Dense)              (None, 1)                 17        \n",
            "=================================================================\n",
            "Total params: 320,017\n",
            "Trainable params: 320,017\n",
            "Non-trainable params: 0\n",
            "_________________________________________________________________\n"
          ],
          "name": "stdout"
        },
        {
          "output_type": "stream",
          "text": [
            "Using TensorFlow backend.\n"
          ],
          "name": "stderr"
        },
        {
          "output_type": "stream",
          "text": [
            "Train on 20000 samples, validate on 5000 samples\n",
            "Epoch 1/10\n",
            "20000/20000 [==============================] - 6s 298us/step - loss: 0.6723 - acc: 0.6895 - val_loss: 0.6342 - val_acc: 0.7728\n",
            "Epoch 2/10\n",
            "20000/20000 [==============================] - 6s 290us/step - loss: 0.5795 - acc: 0.8067 - val_loss: 0.5277 - val_acc: 0.8170\n",
            "Epoch 3/10\n",
            "20000/20000 [==============================] - 6s 281us/step - loss: 0.4762 - acc: 0.8497 - val_loss: 0.4457 - val_acc: 0.8516\n",
            "Epoch 4/10\n",
            "20000/20000 [==============================] - 6s 286us/step - loss: 0.3999 - acc: 0.8728 - val_loss: 0.3944 - val_acc: 0.8644\n",
            "Epoch 5/10\n",
            "20000/20000 [==============================] - 6s 297us/step - loss: 0.3462 - acc: 0.8896 - val_loss: 0.3577 - val_acc: 0.8738\n",
            "Epoch 6/10\n",
            "20000/20000 [==============================] - 6s 323us/step - loss: 0.3078 - acc: 0.8993 - val_loss: 0.3335 - val_acc: 0.8778\n",
            "Epoch 7/10\n",
            "20000/20000 [==============================] - 8s 390us/step - loss: 0.2784 - acc: 0.9079 - val_loss: 0.3156 - val_acc: 0.8830\n",
            "Epoch 8/10\n",
            "20000/20000 [==============================] - 8s 401us/step - loss: 0.2550 - acc: 0.9148 - val_loss: 0.3034 - val_acc: 0.8868\n",
            "Epoch 9/10\n",
            "20000/20000 [==============================] - 6s 319us/step - loss: 0.2349 - acc: 0.9215 - val_loss: 0.2939 - val_acc: 0.8890\n",
            "Epoch 10/10\n",
            "20000/20000 [==============================] - 6s 281us/step - loss: 0.2182 - acc: 0.9276 - val_loss: 0.2869 - val_acc: 0.8916\n"
          ],
          "name": "stdout"
        }
      ]
    },
    {
      "cell_type": "markdown",
      "metadata": {
        "colab_type": "text",
        "id": "qyXxmsDGe-0V"
      },
      "source": [
        "Our classifier has a validation accuracy of about 89%. Note that we make use of only the first 500 words in each review. We are also GlobalAveragePooling on our embedding before passing it to a single Dense layer, which treats each word separately without taking into consideration the ordering of the words in the sequence. To reach higher accuracy, it would be helpful to use a recurrent layer or 1D convolution which will take the sequence of the words into consideration."
      ]
    },
    {
      "cell_type": "markdown",
      "metadata": {
        "colab_type": "text",
        "id": "yNJEYzWCTopy"
      },
      "source": [
        "# Visualize Embeddings with the Embedding Projector\n",
        "\n",
        "Recall the reviews are encoded as series of integers in our training data. Before we can visualize the learned embeddings, first we will need to determine which word corresponds to each number. In this case, the IMDB dataset includes a utility method ```.word_index()``` that contains a mapping from words to numbers. We will use this to build a reversed word index, which maps from numbers to words."
      ]
    },
    {
      "cell_type": "code",
      "metadata": {
        "colab_type": "code",
        "id": "96uw4Szxe-0b",
        "colab": {}
      },
      "source": [
        "# A dictionary mapping words to an integer index\n",
        "word_index = imdb.get_word_index()\n",
        "\n",
        "# The first indices are reserved\n",
        "word_index = {k:(v+3) for k,v in word_index.items()} \n",
        "word_index[\"<PAD>\"] = 0\n",
        "word_index[\"<START>\"] = 1\n",
        "word_index[\"<UNK>\"] = 2  # unknown\n",
        "word_index[\"<UNUSED>\"] = 3\n",
        "\n",
        "reverse_word_index = dict([(value, key) for (key, value) in word_index.items()])\n",
        "\n",
        "def decode_review(text):\n",
        "    return ' '.join([reverse_word_index[i] for i in text])"
      ],
      "execution_count": 0,
      "outputs": []
    },
    {
      "cell_type": "markdown",
      "metadata": {
        "colab_type": "text",
        "id": "uZ6qkJOdfmfj"
      },
      "source": [
        "Now we can use the decode_review function to display the text for the first review. You will see padding at the beginning, since this review was shorter than our 250 word maximum length."
      ]
    },
    {
      "cell_type": "code",
      "metadata": {
        "colab_type": "code",
        "id": "FZaYLC13flhp",
        "outputId": "4d520690-780f-4785-8c36-10275bb33890",
        "colab": {
          "base_uri": "https://localhost:8080/",
          "height": 54
        }
      },
      "source": [
        "decode_review(train_data[0])"
      ],
      "execution_count": 0,
      "outputs": [
        {
          "output_type": "execute_result",
          "data": {
            "text/plain": [
              "\"<PAD> <PAD> <PAD> <PAD> <PAD> <PAD> <PAD> <PAD> <PAD> <PAD> <PAD> <PAD> <PAD> <PAD> <PAD> <PAD> <PAD> <PAD> <PAD> <PAD> <PAD> <PAD> <PAD> <PAD> <PAD> <PAD> <PAD> <PAD> <PAD> <PAD> <PAD> <PAD> <PAD> <PAD> <PAD> <PAD> <PAD> <PAD> <PAD> <PAD> <PAD> <PAD> <PAD> <PAD> <PAD> <PAD> <PAD> <PAD> <PAD> <PAD> <PAD> <PAD> <PAD> <PAD> <PAD> <PAD> <PAD> <PAD> <PAD> <PAD> <PAD> <PAD> <PAD> <PAD> <PAD> <PAD> <PAD> <PAD> <PAD> <PAD> <PAD> <PAD> <PAD> <PAD> <PAD> <PAD> <PAD> <PAD> <PAD> <PAD> <PAD> <PAD> <PAD> <PAD> <PAD> <PAD> <PAD> <PAD> <PAD> <PAD> <PAD> <PAD> <PAD> <PAD> <PAD> <PAD> <PAD> <PAD> <PAD> <PAD> <PAD> <PAD> <PAD> <PAD> <PAD> <PAD> <PAD> <PAD> <PAD> <PAD> <PAD> <PAD> <PAD> <PAD> <PAD> <PAD> <PAD> <PAD> <PAD> <PAD> <PAD> <PAD> <PAD> <PAD> <PAD> <PAD> <PAD> <PAD> <PAD> <PAD> <PAD> <PAD> <PAD> <PAD> <PAD> <PAD> <PAD> <PAD> <PAD> <PAD> <PAD> <PAD> <PAD> <PAD> <PAD> <PAD> <PAD> <PAD> <PAD> <PAD> <PAD> <PAD> <PAD> <PAD> <PAD> <PAD> <PAD> <PAD> <PAD> <PAD> <PAD> <PAD> <PAD> <PAD> <PAD> <PAD> <PAD> <PAD> <PAD> <PAD> <PAD> <PAD> <PAD> <PAD> <PAD> <PAD> <PAD> <PAD> <PAD> <PAD> <PAD> <PAD> <PAD> <PAD> <PAD> <PAD> <PAD> <PAD> <PAD> <PAD> <PAD> <PAD> <PAD> <PAD> <PAD> <PAD> <PAD> <PAD> <PAD> <PAD> <PAD> <PAD> <PAD> <PAD> <PAD> <PAD> <PAD> <PAD> <PAD> <PAD> <PAD> <PAD> <PAD> <PAD> <PAD> <PAD> <PAD> <PAD> <PAD> <PAD> <PAD> <PAD> <PAD> <PAD> <PAD> <PAD> <PAD> <PAD> <PAD> <PAD> <PAD> <PAD> <PAD> <PAD> <PAD> <PAD> <PAD> <PAD> <PAD> <PAD> <PAD> <PAD> <PAD> <PAD> <PAD> <PAD> <PAD> <PAD> <PAD> <PAD> <PAD> <PAD> <PAD> <PAD> <PAD> <PAD> <PAD> <PAD> <PAD> <PAD> <PAD> <PAD> <PAD> <PAD> <PAD> <PAD> <PAD> <PAD> <PAD> <PAD> <PAD> <PAD> <PAD> <PAD> <PAD> <PAD> <PAD> <PAD> <PAD> <PAD> <PAD> <PAD> <START> this film was just brilliant casting location scenery story direction everyone's really suited the part they played and you could just imagine being there robert <UNK> is an amazing actor and now the same being director <UNK> father came from the same scottish island as myself so i loved the fact there was a real connection with this film the witty remarks throughout the film were great it was just brilliant so much that i bought the film as soon as it was released for retail and would recommend it to everyone to watch and the fly fishing was amazing really cried at the end it was so sad and you know what they say if you cry at a film it must have been good and this definitely was also congratulations to the two little boy's that played the <UNK> of norman and paul they were just brilliant children are often left out of the praising list i think because the stars that play them all grown up are such a big profile for the whole film but these children are amazing and should be praised for what they have done don't you think the whole story was so lovely because it was true and was someone's life after all that was shared with us all\""
            ]
          },
          "metadata": {
            "tags": []
          },
          "execution_count": 11
        }
      ]
    },
    {
      "cell_type": "markdown",
      "metadata": {
        "colab_type": "text",
        "id": "2ngIjD8HhHsS"
      },
      "source": [
        "Now that we have the number to word mapping, we are ready to retrieve the learned embedding from the model. This gives us a matrix of weights. Each row corresponds to the embedding for that number in our ```reversed_word_dict``` above, and the corresponding word can be found in ```word_index```.\n",
        "\n",
        "We retrieve the weights by using the ```model.layers``` and ```model.weights``` methods. In this case, the embedding layer is the first layer we added to the model.\n",
        "\n"
      ]
    },
    {
      "cell_type": "code",
      "metadata": {
        "colab_type": "code",
        "id": "N7o16O-aUlzv",
        "outputId": "1654fa8f-dc2a-42a1-a2c6-c5a9fb1bfe5d",
        "colab": {
          "base_uri": "https://localhost:8080/",
          "height": 34
        }
      },
      "source": [
        "e = model.layers[0]\n",
        "weights = e.get_weights()[0]\n",
        "print(weights.shape) # 1000, 16. Each word is mapped to an embedding vector."
      ],
      "execution_count": 0,
      "outputs": [
        {
          "output_type": "stream",
          "text": [
            "(20000, 16)\n"
          ],
          "name": "stdout"
        }
      ]
    },
    {
      "cell_type": "markdown",
      "metadata": {
        "colab_type": "text",
        "id": "hbOD5Rv3hV1m"
      },
      "source": [
        "Next, we will format these for visualization in the embedding projector. To do so, we will need to provide two files in tab separated format: a file of vectors (containing the embedding), and a file of meta data (containing the words)."
      ]
    },
    {
      "cell_type": "code",
      "metadata": {
        "colab_type": "code",
        "id": "U2q09l-8WB0j",
        "colab": {}
      },
      "source": [
        "out_v = open('vecs.tsv', 'w')\n",
        "out_m = open('meta.tsv', 'w')\n",
        "for word_num in range(num_words):\n",
        "  word = reverse_word_index[word_num]\n",
        "  embeddings = weights[word_num]\n",
        "  out_m.write(word + \"\\n\")\n",
        "  out_v.write('\\t'.join([str(x) for x in embeddings]) + \"\\n\")\n",
        "out_v.close()\n",
        "out_m.close()"
      ],
      "execution_count": 0,
      "outputs": []
    },
    {
      "cell_type": "markdown",
      "metadata": {
        "colab_type": "text",
        "id": "JGYPLGwqhrH6"
      },
      "source": [
        "If you are running this tutorial in [Colaboratory](https://colab.research.google.com), you can use the following snippet to download these files to your local machine."
      ]
    },
    {
      "cell_type": "code",
      "metadata": {
        "colab_type": "code",
        "id": "0yuZjaYRWG2A",
        "colab": {},
        "outputId": "f41be9d5-e7c7-4719-bc72-d10f61ea4ecb"
      },
      "source": [
        "from google.colab import files\n",
        "files.download('vecs.tsv')\n",
        "files.download('meta.tsv')"
      ],
      "execution_count": 0,
      "outputs": [
        {
          "output_type": "error",
          "ename": "ModuleNotFoundError",
          "evalue": "No module named 'google.colab'",
          "traceback": [
            "\u001b[0;31m---------------------------------------------------------------------------\u001b[0m",
            "\u001b[0;31mModuleNotFoundError\u001b[0m                       Traceback (most recent call last)",
            "\u001b[0;32m<ipython-input-14-4ab75b70af1d>\u001b[0m in \u001b[0;36m<module>\u001b[0;34m()\u001b[0m\n\u001b[0;32m----> 1\u001b[0;31m \u001b[0;32mfrom\u001b[0m \u001b[0mgoogle\u001b[0m\u001b[0;34m.\u001b[0m\u001b[0mcolab\u001b[0m \u001b[0;32mimport\u001b[0m \u001b[0mfiles\u001b[0m\u001b[0;34m\u001b[0m\u001b[0m\n\u001b[0m\u001b[1;32m      2\u001b[0m \u001b[0mfiles\u001b[0m\u001b[0;34m.\u001b[0m\u001b[0mdownload\u001b[0m\u001b[0;34m(\u001b[0m\u001b[0;34m'vecs.tsv'\u001b[0m\u001b[0;34m)\u001b[0m\u001b[0;34m\u001b[0m\u001b[0m\n\u001b[1;32m      3\u001b[0m \u001b[0mfiles\u001b[0m\u001b[0;34m.\u001b[0m\u001b[0mdownload\u001b[0m\u001b[0;34m(\u001b[0m\u001b[0;34m'meta.tsv'\u001b[0m\u001b[0;34m)\u001b[0m\u001b[0;34m\u001b[0m\u001b[0m\n",
            "\u001b[0;31mModuleNotFoundError\u001b[0m: No module named 'google.colab'"
          ]
        }
      ]
    },
    {
      "cell_type": "markdown",
      "metadata": {
        "colab_type": "text",
        "id": "SM0_cG11deiq"
      },
      "source": [
        "Now, you can open the [Embedding Projector](http://projector.tensorflow.org/) in a new window, and click on 'Load data'. Upload the ```vecs.tsv``` and ```meta.tsv``` files from above. Next, click 'Search', and type in a word to find its closest neighbors. With this small dataset, not all of the learned embeddings will be interpretable, though some will be! \n",
        "\n",
        "For example, try searching for 'beautiful'. The learned embeddings you see may be different, they depend on random weight initialization used by the model. When the author of this tutorial ran it, they saw \"loved\" and \"wonderful\" were the closest neighbors. Likewise, the closest neigbhors for \"lame\" were \"awful, and poorly\".\n",
        "\n"
      ]
    },
    {
      "cell_type": "markdown",
      "metadata": {
        "id": "EoifquCJ1wYW",
        "colab_type": "text"
      },
      "source": [
        "# A More Advanced Model\n",
        "We will implement a more advanced model that demonstrates two things:\n",
        "1. The use of pre-trained embeddings.\n",
        "2. The use of a 1D CNN. \n",
        "\n",
        "We will be implementing a Depthwise Separable Convolutional Neural Network, which is a type of CNN that was written about in a paper published by Francois Chollet that is found here: https://arxiv.org/abs/1610.02357. Because CNN makes use of a sliding window, it will take the order of words in our text into consideration."
      ]
    },
    {
      "cell_type": "code",
      "metadata": {
        "id": "men1EDnp1wYY",
        "colab_type": "code",
        "colab": {}
      },
      "source": [
        "# download pretrained GloVe embeddings\n",
        "!wget http://nlp.stanford.edu/data/glove.6B.zip"
      ],
      "execution_count": 0,
      "outputs": []
    },
    {
      "cell_type": "code",
      "metadata": {
        "id": "DwhZALGv1wYf",
        "colab_type": "code",
        "colab": {}
      },
      "source": [
        "!unzip glove.6B.zip"
      ],
      "execution_count": 0,
      "outputs": []
    },
    {
      "cell_type": "code",
      "metadata": {
        "id": "eMUEWz5z1wYn",
        "colab_type": "code",
        "colab": {}
      },
      "source": [
        "import os\n",
        "import numpy as np"
      ],
      "execution_count": 0,
      "outputs": []
    },
    {
      "cell_type": "code",
      "metadata": {
        "id": "FtK4t2VN1wYu",
        "colab_type": "code",
        "colab": {},
        "outputId": "90e4fb25-fe91-42f2-9060-d189723439ed"
      },
      "source": [
        "glove_dir = './'\n",
        "\n",
        "embeddings_index = {} #initialize dictionary\n",
        "f = open(os.path.join(glove_dir, 'glove.6B.100d.txt'))\n",
        "for line in f:\n",
        "    values = line.split()\n",
        "    word = values[0]\n",
        "    coefs = np.asarray(values[1:], dtype='float32')\n",
        "    embeddings_index[word] = coefs\n",
        "f.close()\n",
        "\n",
        "print('Found %s word vectors.' % len(embeddings_index))"
      ],
      "execution_count": 0,
      "outputs": [
        {
          "output_type": "stream",
          "text": [
            "Found 400000 word vectors.\n"
          ],
          "name": "stdout"
        }
      ]
    },
    {
      "cell_type": "code",
      "metadata": {
        "id": "X8YW1Kri1wY1",
        "colab_type": "code",
        "colab": {}
      },
      "source": [
        "embedding_dim = 100\n",
        "\n",
        "embedding_matrix = np.zeros((num_words, embedding_dim)) #create an array of zeros with word_num rows and embedding_dim columns\n",
        "for word, i in word_index.items():\n",
        "    embedding_vector = embeddings_index.get(word)\n",
        "    if i < num_words:\n",
        "        if embedding_vector is not None:\n",
        "            # Words not found in embedding index will be all-zeros.\n",
        "            embedding_matrix[i] = embedding_vector"
      ],
      "execution_count": 0,
      "outputs": []
    },
    {
      "cell_type": "code",
      "metadata": {
        "id": "ICRnbiy71wY8",
        "colab_type": "code",
        "colab": {}
      },
      "source": [
        "from keras import initializers, models, regularizers\n",
        "from keras.layers import Dense, Dropout, Embedding, SeparableConv1D, MaxPooling1D, GlobalAveragePooling1D"
      ],
      "execution_count": 0,
      "outputs": []
    },
    {
      "cell_type": "code",
      "metadata": {
        "id": "AxecXyqU1wZE",
        "colab_type": "code",
        "colab": {}
      },
      "source": [
        "# let's define a Sequential model\n",
        "cnnModel = models.Sequential()\n",
        "\n",
        "#let's add an embedding layer. For now, it's not pre-trained\n",
        "cnnModel.add(Embedding(num_words, \n",
        "                    embedding_dim, \n",
        "                    input_length=max_len,\n",
        "                      weights=[embedding_matrix],\n",
        "                      trainable=False))"
      ],
      "execution_count": 0,
      "outputs": []
    },
    {
      "cell_type": "markdown",
      "metadata": {
        "id": "EONYuWsF1wZR",
        "colab_type": "text"
      },
      "source": [
        "Our sepCNN is defined as blocks. Each block will be made up as follows:\n",
        "* Dropout Layer\n",
        "* SepConv1D Layer\n",
        "* SepConv1D Layer\n",
        "* MaxPooling Layer\n",
        "\n",
        "The number of blocks to have in the network is a hyperparameter"
      ]
    },
    {
      "cell_type": "code",
      "metadata": {
        "id": "B8DXiIZ01wZT",
        "colab_type": "code",
        "colab": {}
      },
      "source": [
        "blocks = 4 # int, number of pairs of sepCNN and pooling blocks in the model.\n",
        "dropout_rate = 0.3 # float, percentage of input to drop at Dropout layers. Recommended range 0.2-0.5\n",
        "filters = 50 # int, output dimension of the layers. Recommended range 50 - 300\n",
        "kernel_size = 5 #int, length of the convolution window. Recommended values 3 or 5\n",
        "pool_size = 1 # int, factor by which to downscale input at MaxPooling layer.\n",
        "\n",
        "for _ in range(blocks):\n",
        "    cnnModel.add(Dropout(rate=dropout_rate))\n",
        "    cnnModel.add(SeparableConv1D(filters=filters,\n",
        "                             kernel_size= kernel_size,\n",
        "                             activation= 'relu',\n",
        "                             bias_initializer= 'random_uniform',\n",
        "                             depthwise_initializer= 'random_uniform',\n",
        "                             padding= 'same'))\n",
        "    cnnModel.add(SeparableConv1D(filters=filters,\n",
        "                             kernel_size= kernel_size,\n",
        "                             activation= 'relu',\n",
        "                             bias_initializer= 'random_uniform',\n",
        "                             depthwise_initializer= 'random_uniform',\n",
        "                             padding= 'same'))\n",
        "    cnnModel.add(MaxPooling1D(pool_size=pool_size))"
      ],
      "execution_count": 0,
      "outputs": []
    },
    {
      "cell_type": "markdown",
      "metadata": {
        "id": "kYlJy_s81wZa",
        "colab_type": "text"
      },
      "source": [
        "We will complete our model architecture by by adding the following layers:\n",
        "* SeparableConv1D\n",
        "* SeparableConv1D\n",
        "* GlobalAveragePooling1D\n",
        "* Dropout\n",
        "* Dense"
      ]
    },
    {
      "cell_type": "code",
      "metadata": {
        "id": "afbE3XW11wZb",
        "colab_type": "code",
        "colab": {}
      },
      "source": [
        "cnnModel.add(SeparableConv1D(filters=filters * 2,\n",
        "                         kernel_size= kernel_size,\n",
        "                         activation= 'relu',\n",
        "                         bias_initializer= 'random_normal',\n",
        "                         depthwise_initializer= 'random_normal',\n",
        "                         padding='same'))\n",
        "cnnModel.add(SeparableConv1D(filters=filters * 2,\n",
        "                         kernel_size= kernel_size,\n",
        "                         activation= 'relu',\n",
        "                         bias_initializer= 'random_normal',\n",
        "                         depthwise_initializer= 'random_normal',\n",
        "                         padding='same'))\n",
        "cnnModel.add(GlobalAveragePooling1D())\n",
        "cnnModel.add(Dropout(rate= dropout_rate))\n",
        "cnnModel.add(Dense(1, activation='sigmoid'))"
      ],
      "execution_count": 0,
      "outputs": []
    },
    {
      "cell_type": "markdown",
      "metadata": {
        "id": "EnjlABOr1wZj",
        "colab_type": "text"
      },
      "source": [
        "At this point, we have the beginnings of a deep convolutional neural network. We can see the architecture in it's entirity below."
      ]
    },
    {
      "cell_type": "code",
      "metadata": {
        "id": "5LjnJycP1wZk",
        "colab_type": "code",
        "colab": {},
        "outputId": "1c175610-3e96-4604-a499-621956827cfd"
      },
      "source": [
        "cnnModel.summary()"
      ],
      "execution_count": 0,
      "outputs": [
        {
          "output_type": "stream",
          "text": [
            "_________________________________________________________________\n",
            "Layer (type)                 Output Shape              Param #   \n",
            "=================================================================\n",
            "embedding_7 (Embedding)      (None, 500, 100)          2000000   \n",
            "_________________________________________________________________\n",
            "dropout_24 (Dropout)         (None, 500, 100)          0         \n",
            "_________________________________________________________________\n",
            "separable_conv1d_47 (Separab (None, 500, 50)           5550      \n",
            "_________________________________________________________________\n",
            "separable_conv1d_48 (Separab (None, 500, 50)           2800      \n",
            "_________________________________________________________________\n",
            "max_pooling1d_19 (MaxPooling (None, 500, 50)           0         \n",
            "_________________________________________________________________\n",
            "dropout_25 (Dropout)         (None, 500, 50)           0         \n",
            "_________________________________________________________________\n",
            "separable_conv1d_49 (Separab (None, 500, 50)           2800      \n",
            "_________________________________________________________________\n",
            "separable_conv1d_50 (Separab (None, 500, 50)           2800      \n",
            "_________________________________________________________________\n",
            "max_pooling1d_20 (MaxPooling (None, 500, 50)           0         \n",
            "_________________________________________________________________\n",
            "dropout_26 (Dropout)         (None, 500, 50)           0         \n",
            "_________________________________________________________________\n",
            "separable_conv1d_51 (Separab (None, 500, 50)           2800      \n",
            "_________________________________________________________________\n",
            "separable_conv1d_52 (Separab (None, 500, 50)           2800      \n",
            "_________________________________________________________________\n",
            "max_pooling1d_21 (MaxPooling (None, 500, 50)           0         \n",
            "_________________________________________________________________\n",
            "dropout_27 (Dropout)         (None, 500, 50)           0         \n",
            "_________________________________________________________________\n",
            "separable_conv1d_53 (Separab (None, 500, 50)           2800      \n",
            "_________________________________________________________________\n",
            "separable_conv1d_54 (Separab (None, 500, 50)           2800      \n",
            "_________________________________________________________________\n",
            "max_pooling1d_22 (MaxPooling (None, 500, 50)           0         \n",
            "_________________________________________________________________\n",
            "separable_conv1d_55 (Separab (None, 500, 100)          5350      \n",
            "_________________________________________________________________\n",
            "separable_conv1d_56 (Separab (None, 500, 100)          10600     \n",
            "_________________________________________________________________\n",
            "global_average_pooling1d_7 ( (None, 100)               0         \n",
            "_________________________________________________________________\n",
            "dropout_28 (Dropout)         (None, 100)               0         \n",
            "_________________________________________________________________\n",
            "dense_7 (Dense)              (None, 1)                 101       \n",
            "=================================================================\n",
            "Total params: 2,041,201\n",
            "Trainable params: 41,201\n",
            "Non-trainable params: 2,000,000\n",
            "_________________________________________________________________\n"
          ],
          "name": "stdout"
        }
      ]
    },
    {
      "cell_type": "markdown",
      "metadata": {
        "id": "M0mJkB3T1wZx",
        "colab_type": "text"
      },
      "source": [
        "Let's compile and train the model"
      ]
    },
    {
      "cell_type": "code",
      "metadata": {
        "id": "YNd2sxcq1wZy",
        "colab_type": "code",
        "colab": {}
      },
      "source": [
        "from keras.optimizers import Adam"
      ],
      "execution_count": 0,
      "outputs": []
    },
    {
      "cell_type": "code",
      "metadata": {
        "id": "BsrGr9Vo1wZ6",
        "colab_type": "code",
        "colab": {}
      },
      "source": [
        "cnnModel.compile(optimizer=Adam(0.1), loss='binary_crossentropy', metrics=['acc'])"
      ],
      "execution_count": 0,
      "outputs": []
    },
    {
      "cell_type": "code",
      "metadata": {
        "id": "VJNDULrs1waE",
        "colab_type": "code",
        "colab": {},
        "outputId": "db6c249d-e138-4f1d-a68e-6cffd7af5562"
      },
      "source": [
        "history = cnnModel.fit(\n",
        "    train_data,\n",
        "    train_labels,\n",
        "    epochs=3,\n",
        "    batch_size=512,\n",
        "    validation_split=0.2\n",
        ")"
      ],
      "execution_count": 0,
      "outputs": [
        {
          "output_type": "stream",
          "text": [
            "Train on 20000 samples, validate on 5000 samples\n",
            "Epoch 1/3\n",
            "20000/20000 [==============================] - 246s 12ms/step - loss: 0.6955 - acc: 0.4998 - val_loss: 0.6946 - val_acc: 0.4938\n",
            "Epoch 2/3\n",
            "20000/20000 [==============================] - 235s 12ms/step - loss: 0.6940 - acc: 0.5009 - val_loss: 0.6946 - val_acc: 0.4938\n",
            "Epoch 3/3\n",
            "20000/20000 [==============================] - 228s 11ms/step - loss: 0.6936 - acc: 0.4993 - val_loss: 0.6933 - val_acc: 0.4938\n"
          ],
          "name": "stdout"
        }
      ]
    },
    {
      "cell_type": "markdown",
      "metadata": {
        "id": "nGApKgOW1waL",
        "colab_type": "text"
      },
      "source": [
        "# Next steps\n",
        "* To learn more about Word Embeddings, we recommend browsing [this](https://www.tensorflow.org/tutorials/representation/word2vec) older tutorial (the code is out of date, and we recommend skipping it in favor of the newer version here, but the explanation and diagrams are useful).\n",
        "\n",
        "* [TensorFlow Hub](https://www.tensorflow.org/hub/) contains large databases of pretrained word embeddings you can download and reuse in your projects (although at the time of writing, these use a different progamming style than the one in this tutorial)."
      ]
    },
    {
      "cell_type": "code",
      "metadata": {
        "id": "0SjvySRf1waM",
        "colab_type": "code",
        "colab": {}
      },
      "source": [
        ""
      ],
      "execution_count": 0,
      "outputs": []
    }
  ]
}