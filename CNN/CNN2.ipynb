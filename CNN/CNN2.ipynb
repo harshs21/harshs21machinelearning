{
  "nbformat": 4,
  "nbformat_minor": 0,
  "metadata": {
    "colab": {
      "name": "CNN2.ipynb",
      "provenance": [],
      "collapsed_sections": []
    },
    "kernelspec": {
      "name": "python3",
      "display_name": "Python 3"
    }
  },
  "cells": [
    {
      "cell_type": "code",
      "metadata": {
        "id": "PiEeCBrNJrXv",
        "colab_type": "code",
        "colab": {}
      },
      "source": [
        "from keras.datasets import cifar10\n",
        "from keras.layers import Input, Lambda, Dense, Dropout, Flatten\n",
        "from keras.utils import np_utils as u\n",
        "from keras.layers.convolutional import Conv2D, MaxPooling2D\n",
        "import numpy as np\n",
        "from sklearn.model_selection import train_test_split\n",
        "import matplotlib.pyplot as plt\n",
        "from keras.models import Sequential\n",
        "from keras.optimizers import SGD\n",
        "import pandas as pd\n",
        "from sklearn import metrics"
      ],
      "execution_count": 0,
      "outputs": []
    },
    {
      "cell_type": "code",
      "metadata": {
        "id": "PGI0kCmLPWqw",
        "colab_type": "code",
        "colab": {
          "base_uri": "https://localhost:8080/",
          "height": 51
        },
        "outputId": "42c14145-33dd-4e88-832f-0df5e205a03c"
      },
      "source": [
        "(X, y), (X_test, y_test) = cifar10.load_data()"
      ],
      "execution_count": 26,
      "outputs": [
        {
          "output_type": "stream",
          "text": [
            "Downloading data from https://www.cs.toronto.edu/~kriz/cifar-10-python.tar.gz\n",
            "170500096/170498071 [==============================] - 4s 0us/step\n"
          ],
          "name": "stdout"
        }
      ]
    },
    {
      "cell_type": "code",
      "metadata": {
        "id": "hZQ2pzo-MB9S",
        "colab_type": "code",
        "colab": {}
      },
      "source": [
        "X, X_test = X.astype('float32')/255.0, X_test.astype('float32')/255.0\n",
        "y, y_test = u.to_categorical(y, 10), u.to_categorical(y_test, 10)"
      ],
      "execution_count": 0,
      "outputs": []
    },
    {
      "cell_type": "code",
      "metadata": {
        "id": "HqIHU8iBMl7N",
        "colab_type": "code",
        "colab": {}
      },
      "source": [
        "model = Sequential()\n",
        "\n",
        "model.add(Conv2D(32, (3, 3), input_shape=(32, 32, 3), padding='same', activation='relu'))\n",
        "model.add(Dropout(0.2))\n",
        "\n",
        "model.add(Conv2D(32, (3, 3), activation='relu', padding='valid'))\n",
        "model.add(MaxPooling2D(pool_size=(2, 2)))\n",
        "model.add(Flatten())\n",
        "\n",
        "model.add(Dense(512, activation='relu'))\n",
        "model.add(Dropout(0.3))\n",
        "\n",
        "model.add(Dense(10, activation='softmax'))\n",
        "\n",
        "model.compile(loss='categorical_crossentropy', optimizer=SGD(momentum=0.5, decay=0.0004))"
      ],
      "execution_count": 0,
      "outputs": []
    },
    {
      "cell_type": "code",
      "metadata": {
        "id": "iVHpdYkxNHHC",
        "colab_type": "code",
        "colab": {}
      },
      "source": [
        "model.save_weights(\"cifar10.hdf5\")"
      ],
      "execution_count": 0,
      "outputs": []
    },
    {
      "cell_type": "code",
      "metadata": {
        "id": "Jqc2VTNcQKot",
        "colab_type": "code",
        "colab": {}
      },
      "source": [
        "print(\"Accuracy: &2.f%%\" %(model.evaluate(X.test, y_test)[1]*100))"
      ],
      "execution_count": 0,
      "outputs": []
    },
    {
      "cell_type": "code",
      "metadata": {
        "id": "oBnfob5sNrRf",
        "colab_type": "code",
        "colab": {
          "base_uri": "https://localhost:8080/",
          "height": 901
        },
        "outputId": "acafd88b-9a18-47b9-9d3f-01d77e0827ec"
      },
      "source": [
        "model.fit(X, y, validation_data=(X_test, y_test), epochs=25, batch_size=512)"
      ],
      "execution_count": 35,
      "outputs": [
        {
          "output_type": "stream",
          "text": [
            "Train on 50000 samples, validate on 10000 samples\n",
            "Epoch 1/25\n",
            "50000/50000 [==============================] - 151s 3ms/step - loss: 2.1717 - val_loss: 2.0173\n",
            "Epoch 2/25\n",
            "50000/50000 [==============================] - 149s 3ms/step - loss: 1.9507 - val_loss: 1.8886\n",
            "Epoch 3/25\n",
            "50000/50000 [==============================] - 147s 3ms/step - loss: 1.8592 - val_loss: 1.8115\n",
            "Epoch 4/25\n",
            "50000/50000 [==============================] - 147s 3ms/step - loss: 1.7876 - val_loss: 1.7426\n",
            "Epoch 5/25\n",
            "50000/50000 [==============================] - 147s 3ms/step - loss: 1.7327 - val_loss: 1.7016\n",
            "Epoch 6/25\n",
            "50000/50000 [==============================] - 151s 3ms/step - loss: 1.6893 - val_loss: 1.6747\n",
            "Epoch 7/25\n",
            "50000/50000 [==============================] - 147s 3ms/step - loss: 1.6549 - val_loss: 1.6227\n",
            "Epoch 8/25\n",
            "50000/50000 [==============================] - 147s 3ms/step - loss: 1.6240 - val_loss: 1.5891\n",
            "Epoch 9/25\n",
            "50000/50000 [==============================] - 147s 3ms/step - loss: 1.5963 - val_loss: 1.5580\n",
            "Epoch 10/25\n",
            "50000/50000 [==============================] - 151s 3ms/step - loss: 1.5753 - val_loss: 1.5509\n",
            "Epoch 11/25\n",
            "50000/50000 [==============================] - 147s 3ms/step - loss: 1.5584 - val_loss: 1.5190\n",
            "Epoch 12/25\n",
            "50000/50000 [==============================] - 147s 3ms/step - loss: 1.5381 - val_loss: 1.5050\n",
            "Epoch 13/25\n",
            "50000/50000 [==============================] - 147s 3ms/step - loss: 1.5200 - val_loss: 1.4997\n",
            "Epoch 14/25\n",
            "50000/50000 [==============================] - 150s 3ms/step - loss: 1.5074 - val_loss: 1.4871\n",
            "Epoch 15/25\n",
            "50000/50000 [==============================] - 147s 3ms/step - loss: 1.4935 - val_loss: 1.4706\n",
            "Epoch 16/25\n",
            "50000/50000 [==============================] - 147s 3ms/step - loss: 1.4826 - val_loss: 1.4501\n",
            "Epoch 17/25\n",
            "50000/50000 [==============================] - 146s 3ms/step - loss: 1.4704 - val_loss: 1.4400\n",
            "Epoch 18/25\n",
            "50000/50000 [==============================] - 150s 3ms/step - loss: 1.4570 - val_loss: 1.4346\n",
            "Epoch 19/25\n",
            "50000/50000 [==============================] - 147s 3ms/step - loss: 1.4491 - val_loss: 1.4415\n",
            "Epoch 20/25\n",
            "50000/50000 [==============================] - 147s 3ms/step - loss: 1.4369 - val_loss: 1.4064\n",
            "Epoch 21/25\n",
            "50000/50000 [==============================] - 147s 3ms/step - loss: 1.4251 - val_loss: 1.4074\n",
            "Epoch 22/25\n",
            "50000/50000 [==============================] - 151s 3ms/step - loss: 1.4180 - val_loss: 1.3926\n",
            "Epoch 23/25\n",
            "50000/50000 [==============================] - 147s 3ms/step - loss: 1.4051 - val_loss: 1.3789\n",
            "Epoch 24/25\n",
            "50000/50000 [==============================] - 147s 3ms/step - loss: 1.3979 - val_loss: 1.3864\n",
            "Epoch 25/25\n",
            "50000/50000 [==============================] - 147s 3ms/step - loss: 1.3891 - val_loss: 1.3682\n"
          ],
          "name": "stdout"
        },
        {
          "output_type": "execute_result",
          "data": {
            "text/plain": [
              "<keras.callbacks.callbacks.History at 0x7f77758fb940>"
            ]
          },
          "metadata": {
            "tags": []
          },
          "execution_count": 35
        }
      ]
    },
    {
      "cell_type": "code",
      "metadata": {
        "id": "W39j0sb0QTU5",
        "colab_type": "code",
        "colab": {}
      },
      "source": [
        "model.save_weights(\"cifar10.hdf5\")"
      ],
      "execution_count": 0,
      "outputs": []
    },
    {
      "cell_type": "code",
      "metadata": {
        "id": "hm1CHCjYQj-I",
        "colab_type": "code",
        "colab": {
          "base_uri": "https://localhost:8080/",
          "height": 51
        },
        "outputId": "6031f5bd-2302-48a8-b611-a79dc18b7c6d"
      },
      "source": [
        "print(\"Accuracy: \", (model.evaluate(X_test, y_test))*100)"
      ],
      "execution_count": 50,
      "outputs": [
        {
          "output_type": "stream",
          "text": [
            "10000/10000 [==============================] - 8s 823us/step\n",
            "Accuracy:  136.820248298645\n"
          ],
          "name": "stdout"
        }
      ]
    },
    {
      "cell_type": "code",
      "metadata": {
        "id": "GXPWaWY_Q4QB",
        "colab_type": "code",
        "colab": {}
      },
      "source": [
        ""
      ],
      "execution_count": 0,
      "outputs": []
    }
  ]
}