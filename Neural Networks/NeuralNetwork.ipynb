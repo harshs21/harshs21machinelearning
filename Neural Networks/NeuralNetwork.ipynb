{
 "cells": [
  {
   "cell_type": "code",
   "execution_count": 1,
   "metadata": {},
   "outputs": [],
   "source": [
    "import numpy as np\n",
    "import matplotlib.pyplot as plt\n",
    "\n",
    "def relu(Z):\n",
    "    R = np.maximum(0, Z)\n",
    "    return R\n",
    "\n",
    "def sigmoid(Z):\n",
    "    S = 1 / (1 + np.exp(-1 * Z))\n",
    "    return S\n",
    "\n",
    "def relu_derivative(Z):\n",
    "    Z[Z >= 0] = 1\n",
    "    Z[Z < 0]  = 0\n",
    "    return Z\n",
    "\n",
    "def sigmoid_derivative(Z):\n",
    "    SD = sigmoid(Z) * (1 - sigmoid(Z))\n",
    "    return SD"
   ]
  },
  {
   "cell_type": "code",
   "execution_count": 2,
   "metadata": {},
   "outputs": [],
   "source": [
    "class model():\n",
    "    \n",
    "    def __init__(self):\n",
    "        \n",
    "        self.layers = []\n",
    "        self.L = 0\n",
    "        self.W = {}\n",
    "        self.b = {}\n",
    "        self.A = {}\n",
    "        self.Z = {}\n",
    "        self.dA = {}\n",
    "        self.dZ = {}\n",
    "        self.dW = {}\n",
    "        self.db = {}\n",
    "        self.cost = 0.\n",
    "        self.m = 0\n",
    "        self.lam = 0\n",
    "        self.cost_history = []\n",
    "        self.acc_history = []\n",
    "        self.alpha_history = []\n",
    "        self.alpha = 0.\n",
    "        self.iterations = 0\n",
    "\n",
    "        return\n",
    "    \n",
    "    def add_layers(self, list_of_layers):\n",
    "        \n",
    "        self.layers = list_of_layers\n",
    "        self.L = len(self.layers) - 1 # Number of layers excluding the input feature layer\n",
    "        \n",
    "        return\n",
    "    \n",
    "    def init_params(self):\n",
    "        \n",
    "        for i in range(1, self.L + 1):\n",
    "            self.W[str(i)] = np.random.randn(self.layers[i], self.layers[i - 1]) * np.sqrt(2. / self.layers[i - 1])\n",
    "            self.b[str(i)] = np.zeros((self.layers[i], 1))\n",
    "            \n",
    "        return\n",
    "    \n",
    "    def forward_prop(self, X):\n",
    "        \n",
    "        self.A['0'] = X\n",
    "        \n",
    "        for i in range(1, self.L + 1):\n",
    "            self.Z[str(i)] = np.dot(self.W[str(i)], self.A[str(i - 1)]) + self.b[str(i)]\n",
    "            if i == self.L:\n",
    "                # Output layer, Sigmoid activation\n",
    "                self.A[str(i)] = sigmoid(self.Z[str(i)])\n",
    "            else:\n",
    "                # Hidden layer, Relu activataion\n",
    "                self.A[str(i)] = relu(self.Z[str(i)])\n",
    "        \n",
    "        return\n",
    "    \n",
    "    def compute_cost(self, Y):\n",
    "        \n",
    "        self.cost = -1 * np.sum(np.multiply(Y, np.log(self.A[str(self.L)])) + \n",
    "                           np.multiply(1 - Y, np.log(1 - self.A[str(self.L)]))) / self.m \n",
    "        \n",
    "        if self.lam != 0:\n",
    "            reg = (self.lam / (2 * self.m))\n",
    "            for i in range(1, self.L + 1):\n",
    "                reg += np.sum(np.dot(self.W[str(i)], self.W[str(i)].T))\n",
    "            self.cost += reg\n",
    "            \n",
    "        self.cost_history.append(self.cost)\n",
    "        \n",
    "        return\n",
    "    \n",
    "    def backward_prop(self, Y):\n",
    "        \n",
    "        # We need dA[str(L)] to start the backward prop computation\n",
    "        self.dA[str(self.L)] = -1 * (np.divide(Y, self.A[str(self.L)]) - np.divide(1 - Y, 1 - self.A[str(self.L)]))\n",
    "        self.dZ[str(self.L)] = np.multiply(self.dA[str(self.L)], sigmoid_derivative(self.Z[str(self.L)]))\n",
    "        self.dW[str(self.L)] = np.dot(self.dZ[str(self.L)], self.A[str(self.L - 1)].T) / self.m + (self.lam/self.m) * self.W[str(self.L)]\n",
    "        self.db[str(self.L)] = np.sum(self.dZ[str(self.L)], axis = 1, keepdims = True) / self.m\n",
    "        self.dA[str(self.L - 1)] = np.dot(self.W[str(self.L)].T, self.dZ[str(self.L)])\n",
    "            \n",
    "        for i in reversed(range(1, self.L)):\n",
    "\n",
    "            self.dZ[str(i)] = np.multiply(self.dA[str(i)], relu_derivative(self.Z[str(i)]))\n",
    "            self.dW[str(i)] = np.dot(self.dZ[str(i)], self.A[str(i - 1)].T) / self.m + (self.lam/self.m) * self.W[str(i)]\n",
    "            self.db[str(i)] = np.sum(self.dZ[str(i)], axis = 1, keepdims = True) / self.m\n",
    "            self.dA[str(i - 1)] = np.dot(self.W[str(i)].T, self.dZ[str(i)])\n",
    "        \n",
    "        return\n",
    "    \n",
    "    def update_params(self):\n",
    "        \n",
    "        for i in range(1, self.L + 1):\n",
    "            self.W[str(i)] = self.W[str(i)] - self.alpha * self.dW[str(i)]\n",
    "            self.b[str(i)] = self.b[str(i)] - self.alpha * self.db[str(i)]\n",
    "        \n",
    "        return\n",
    "    \n",
    "    def train(self, X, Y, iterations = 10, \n",
    "        alpha = 0.001, decay = True, decay_iter = 5, decay_rate = 0.9, stop_decay_counter = 100,\n",
    "        verbose = True, lam = 0):\n",
    "        \n",
    "        self.m = Y.shape[1]\n",
    "        self.alpha = alpha\n",
    "        self.iterations = iterations\n",
    "        self.lam = lam\n",
    "        \n",
    "        # initialize parameters\n",
    "        self.init_params()\n",
    "\n",
    "        for i in range(iterations):\n",
    "            # forward prop\n",
    "            self.forward_prop(X)\n",
    "            # compute cost\n",
    "            self.compute_cost(Y)\n",
    "            # backward prop\n",
    "            self.backward_prop(Y)\n",
    "            # update params\n",
    "            self.update_params()\n",
    "            # evaluate\n",
    "            self.acc_history.append(self.evaluate(X, Y, in_training = True))\n",
    "            # save alpha\n",
    "            self.alpha_history.append(self.alpha)\n",
    "            # learning rate decay\n",
    "            if decay and stop_decay_counter > 0 and i % decay_iter == 0:\n",
    "                self.alpha = decay_rate * self.alpha\n",
    "                stop_decay_counter -= 1\n",
    "            # display cost per iteration\n",
    "            if verbose:\n",
    "                print('Cost after {} iterations: {}'.format(i, self.cost))\n",
    "        \n",
    "        return\n",
    "    \n",
    "    def predict(self, X, in_training = False):\n",
    "        \n",
    "        if in_training == False:\n",
    "            self.forward_prop(X)\n",
    "            \n",
    "        preds = self.A[str(self.L)] >= 0.5\n",
    "        preds = np.squeeze(preds)\n",
    "        \n",
    "        return preds\n",
    "        \n",
    "    def evaluate(self, X, Y, in_training = False):\n",
    "        \n",
    "        examples = X.shape[1]\n",
    "        \n",
    "        pred = self.predict(X, in_training = in_training)\n",
    "        pred = pred.reshape(1, examples)\n",
    "        diff = np.sum(abs(pred - Y))\n",
    "        acc = (examples - np.sum(diff)) / examples\n",
    "        \n",
    "        return acc\n",
    "    \n",
    "    def plot_cost(self):\n",
    "        \n",
    "        plt.plot(range(self.iterations), self.cost_history, color = 'b')\n",
    "        plt.show()\n",
    "        \n",
    "        return\n",
    "    \n",
    "    def plot_acc(self):\n",
    "        \n",
    "        plt.plot(range(self.iterations), self.acc_history, color = 'r')\n",
    "        plt.show()\n",
    "        \n",
    "        return\n",
    "    \n",
    "    def plot_alpha(self):\n",
    "        \n",
    "        plt.plot(range(self.iterations), self.alpha_history, color = 'g')\n",
    "        plt.show()\n",
    "        \n",
    "        return"
   ]
  },
  {
   "cell_type": "code",
   "execution_count": 3,
   "metadata": {},
   "outputs": [],
   "source": [
    "m = model()\n",
    "m.add_layers([2, 2, 1])\n",
    "X = np.array([\n",
    "    [1., 0., 0., 0., -10., 9.],\n",
    "    [0., 1., 0., -6., -4., -1.]\n",
    "])\n",
    "Y = np.array([1, 1, 1, 0, 0, 1])\n",
    "Y = Y.reshape(1, 6)\n",
    "\n",
    "m.train(X, Y, iterations = 50, alpha = 0.1, verbose = False)"
   ]
  },
  {
   "cell_type": "code",
   "execution_count": 4,
   "metadata": {},
   "outputs": [
    {
     "data": {
      "image/png": "[encoded data removed]",
      "text/plain": [
       "<Figure size 432x288 with 1 Axes>"
      ]
     },
     "metadata": {
      "needs_background": "light"
     },
     "output_type": "display_data"
    },
    {
     "data": {
      "image/png": "[encoded data removed]",
      "text/plain": [
       "<Figure size 432x288 with 1 Axes>"
      ]
     },
     "metadata": {
      "needs_background": "light"
     },
     "output_type": "display_data"
    }
   ],
   "source": [
    "m.plot_cost()\n",
    "m.plot_acc()"
   ]
  },
  {
   "cell_type": "code",
   "execution_count": 5,
   "metadata": {},
   "outputs": [
    {
     "name": "stdout",
     "output_type": "stream",
     "text": [
      "1.0\n"
     ]
    }
   ],
   "source": [
    "print(m.evaluate(X, Y))"
   ]
  },
  {
   "cell_type": "code",
   "execution_count": 6,
   "metadata": {},
   "outputs": [
    {
     "name": "stdout",
     "output_type": "stream",
     "text": [
      "[ True  True  True False False  True]\n"
     ]
    }
   ],
   "source": [
    "print(m.predict(X))"
   ]
  },
  {
   "cell_type": "code",
   "execution_count": 9,
   "metadata": {},
   "outputs": [
    {
     "data": {
      "text/html": [
       "<div>\n",
       "<style scoped>\n",
       "    .dataframe tbody tr th:only-of-type {\n",
       "        vertical-align: middle;\n",
       "    }\n",
       "\n",
       "    .dataframe tbody tr th {\n",
       "        vertical-align: top;\n",
       "    }\n",
       "\n",
       "    .dataframe thead th {\n",
       "        text-align: right;\n",
       "    }\n",
       "</style>\n",
       "<table border=\"1\" class=\"dataframe\">\n",
       "  <thead>\n",
       "    <tr style=\"text-align: right;\">\n",
       "      <th></th>\n",
       "      <th>0.051267</th>\n",
       "      <th>0.69956</th>\n",
       "      <th>1</th>\n",
       "    </tr>\n",
       "  </thead>\n",
       "  <tbody>\n",
       "    <tr>\n",
       "      <th>0</th>\n",
       "      <td>-0.092742</td>\n",
       "      <td>0.68494</td>\n",
       "      <td>1</td>\n",
       "    </tr>\n",
       "    <tr>\n",
       "      <th>1</th>\n",
       "      <td>-0.213710</td>\n",
       "      <td>0.69225</td>\n",
       "      <td>1</td>\n",
       "    </tr>\n",
       "    <tr>\n",
       "      <th>2</th>\n",
       "      <td>-0.375000</td>\n",
       "      <td>0.50219</td>\n",
       "      <td>1</td>\n",
       "    </tr>\n",
       "    <tr>\n",
       "      <th>3</th>\n",
       "      <td>-0.513250</td>\n",
       "      <td>0.46564</td>\n",
       "      <td>1</td>\n",
       "    </tr>\n",
       "    <tr>\n",
       "      <th>4</th>\n",
       "      <td>-0.524770</td>\n",
       "      <td>0.20980</td>\n",
       "      <td>1</td>\n",
       "    </tr>\n",
       "  </tbody>\n",
       "</table>\n",
       "</div>"
      ],
      "text/plain": [
       "   0.051267  0.69956  1\n",
       "0 -0.092742  0.68494  1\n",
       "1 -0.213710  0.69225  1\n",
       "2 -0.375000  0.50219  1\n",
       "3 -0.513250  0.46564  1\n",
       "4 -0.524770  0.20980  1"
      ]
     },
     "execution_count": 9,
     "metadata": {},
     "output_type": "execute_result"
    }
   ],
   "source": [
    "import pandas as pd\n",
    "\n",
    "df = pd.read_csv('Downloads/ex2data2.csv', sep = ',')\n",
    "df.head()"
   ]
  },
  {
   "cell_type": "code",
   "execution_count": 11,
   "metadata": {},
   "outputs": [
    {
     "name": "stdout",
     "output_type": "stream",
     "text": [
      "(117, 2)\n",
      "(117, 1)\n"
     ]
    }
   ],
   "source": [
    "X_train = df.iloc[:,:-1]\n",
    "Y_train = df.iloc[:, -1]\n",
    "\n",
    "X_train = np.array(X_train)\n",
    "Y_train = np.array(Y_train)\n",
    "Y_train = Y_train.reshape(Y_train.shape[0], 1)\n",
    "\n",
    "print(X_train.shape)\n",
    "print(Y_train.shape)"
   ]
  },
  {
   "cell_type": "code",
   "execution_count": 12,
   "metadata": {},
   "outputs": [],
   "source": [
    "mean = np.mean(X_train, axis = 0)\n",
    "variance = np.var(X_train, axis = 0)\n",
    "\n",
    "X_train = np.divide((X_train - mean), variance)"
   ]
  },
  {
   "cell_type": "code",
   "execution_count": 13,
   "metadata": {},
   "outputs": [
    {
     "name": "stdout",
     "output_type": "stream",
     "text": [
      "[-0.59818375  1.89017682]\n"
     ]
    }
   ],
   "source": [
    "print(X_train[0])"
   ]
  },
  {
   "cell_type": "code",
   "execution_count": 14,
   "metadata": {},
   "outputs": [],
   "source": [
    "Y_train = Y_train - 1\n",
    "# Changing label 1 to 0 and label 2 to 1"
   ]
  },
  {
   "cell_type": "code",
   "execution_count": 21,
   "metadata": {},
   "outputs": [
    {
     "name": "stdout",
     "output_type": "stream",
     "text": [
      "(117, 2)\n",
      "(117, 1)\n",
      "(32, 2)\n",
      "(32, 1)\n"
     ]
    }
   ],
   "source": [
    "# Split the data into test and train sets\n",
    "from sklearn.utils import shuffle\n",
    "\n",
    "X_train, Y_train = shuffle(X_train, Y_train)\n",
    "\n",
    "X_test = X_train[85:,:]\n",
    "Y_test = Y_train[85:,:]\n",
    "\n",
    "X_train_ = X_train[:250,:]\n",
    "Y_train_ = Y_train[:250,:]\n",
    "\n",
    "print(X_train_.shape)\n",
    "print(Y_train_.shape)\n",
    "print(X_test.shape)\n",
    "print(Y_test.shape)"
   ]
  },
  {
   "cell_type": "code",
   "execution_count": 22,
   "metadata": {},
   "outputs": [],
   "source": [
    "X_train_ = X_train_.reshape(2, 117)\n",
    "Y_train_ = Y_train_.reshape(1, 117)\n",
    "X_test  = X_test.reshape(2, 32)\n",
    "Y_test  = Y_test.reshape(1, 32)"
   ]
  },
  {
   "cell_type": "code",
   "execution_count": 151,
   "metadata": {},
   "outputs": [],
   "source": [
    "m = model()\n",
    "m.add_layers([2, 8, 8, 1])\n",
    "\n",
    "m.train(X_train_, Y_train_, alpha = 0.001, decay_rate = 0.90, decay_iter = 15, stop_decay_counter = 100, \n",
    "        iterations = 12500, verbose = False, lam = 2)"
   ]
  },
  {
   "cell_type": "code",
   "execution_count": 152,
   "metadata": {},
   "outputs": [
    {
     "data": {
      "image/png": "[encoded data removed]",
      "text/plain": [
       "<Figure size 432x288 with 1 Axes>"
      ]
     },
     "metadata": {
      "needs_background": "light"
     },
     "output_type": "display_data"
    }
   ],
   "source": [
    "m.plot_cost()"
   ]
  },
  {
   "cell_type": "code",
   "execution_count": 153,
   "metadata": {},
   "outputs": [
    {
     "data": {
      "image/png": "[encoded data removed]",
      "text/plain": [
       "<Figure size 432x288 with 1 Axes>"
      ]
     },
     "metadata": {
      "needs_background": "light"
     },
     "output_type": "display_data"
    }
   ],
   "source": [
    "m.plot_acc()"
   ]
  },
  {
   "cell_type": "code",
   "execution_count": 154,
   "metadata": {
    "scrolled": true
   },
   "outputs": [
    {
     "name": "stdout",
     "output_type": "stream",
     "text": [
      "Test set acc =  0.46875\n"
     ]
    }
   ],
   "source": [
    "print('Test set acc = ', m.evaluate(X_test, Y_test))"
   ]
  }
 ],
 "metadata": {
  "kernelspec": {
   "display_name": "Python 3",
   "language": "python",
   "name": "python3"
  },
  "language_info": {
   "codemirror_mode": {
    "name": "ipython",
    "version": 3
   },
   "file_extension": ".py",
   "mimetype": "text/x-python",
   "name": "python",
   "nbconvert_exporter": "python",
   "pygments_lexer": "ipython3",
   "version": "3.7.6"
  }
 },
 "nbformat": 4,
 "nbformat_minor": 4
}
