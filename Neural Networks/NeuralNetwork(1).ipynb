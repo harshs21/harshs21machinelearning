{
  "nbformat": 4,
  "nbformat_minor": 0,
  "metadata": {
    "colab": {
      "name": "NeuralNetwork(1).ipynb",
      "provenance": [],
      "collapsed_sections": []
    },
    "kernelspec": {
      "name": "python3",
      "display_name": "Python 3"
    }
  },
  "cells": [
    {
      "cell_type": "code",
      "metadata": {
        "id": "EjVx0z2ixzoD",
        "colab_type": "code",
        "colab": {}
      },
      "source": [
        "import numpy as np\n",
        "import matplotlib.pyplot as plt\n",
        "\n",
        "def relu(Z):\n",
        "    R = np.maximum(0, Z)\n",
        "    return R\n",
        "\n",
        "def sigmoid(Z):\n",
        "    S = 1 / (1 + np.exp(-1 * Z))\n",
        "    return S\n",
        "\n",
        "def relu_derivative(Z):\n",
        "    Z[Z >= 0] = 1\n",
        "    Z[Z < 0]  = 0\n",
        "    return Z\n",
        "\n",
        "def sigmoid_derivative(Z):\n",
        "    SD = sigmoid(Z) * (1 - sigmoid(Z))\n",
        "    return SD"
      ],
      "execution_count": 0,
      "outputs": []
    },
    {
      "cell_type": "code",
      "metadata": {
        "id": "VdS-acLMy9IP",
        "colab_type": "code",
        "colab": {}
      },
      "source": [
        "class model():\n",
        "    \n",
        "    def __init__(self):\n",
        "        \n",
        "        self.layers = []\n",
        "        self.L = 0\n",
        "        self.W = {}\n",
        "        self.b = {}\n",
        "        self.A = {}\n",
        "        self.Z = {}\n",
        "        self.dA = {}\n",
        "        self.dZ = {}\n",
        "        self.dW = {}\n",
        "        self.db = {}\n",
        "        self.cost = 0.\n",
        "        self.m = 0\n",
        "        self.lam = 0\n",
        "        self.cost_history = []\n",
        "        self.acc_history = []\n",
        "        self.alpha_history = []\n",
        "        self.alpha = 0.\n",
        "        self.iterations = 0\n",
        "\n",
        "        return\n",
        "    \n",
        "    def add_layers(self, list_of_layers):\n",
        "        \n",
        "        self.layers = list_of_layers\n",
        "        self.L = len(self.layers) - 1 # Number of layers excluding the input feature layer\n",
        "        \n",
        "        return\n",
        "    \n",
        "    def init_params(self):\n",
        "        \n",
        "        for i in range(1, self.L + 1):\n",
        "            self.W[str(i)] = np.random.randn(self.layers[i], self.layers[i - 1]) * np.sqrt(2. / self.layers[i - 1])\n",
        "            self.b[str(i)] = np.zeros((self.layers[i], 1))\n",
        "            \n",
        "        return\n",
        "    \n",
        "    def forward_prop(self, X):\n",
        "        \n",
        "        self.A['0'] = X\n",
        "        \n",
        "        for i in range(1, self.L + 1):\n",
        "            self.Z[str(i)] = np.dot(self.W[str(i)], self.A[str(i - 1)]) + self.b[str(i)]\n",
        "            if i == self.L:\n",
        "                # Output layer, Sigmoid activation\n",
        "                self.A[str(i)] = sigmoid(self.Z[str(i)])\n",
        "            else:\n",
        "                # Hidden layer, Relu activataion\n",
        "                self.A[str(i)] = relu(self.Z[str(i)])\n",
        "        \n",
        "        return\n",
        "    \n",
        "    def compute_cost(self, Y):\n",
        "        \n",
        "        self.cost = -1 * np.sum(np.multiply(Y, np.log(self.A[str(self.L)])) + \n",
        "                           np.multiply(1 - Y, np.log(1 - self.A[str(self.L)]))) / self.m \n",
        "        \n",
        "        if self.lam != 0:\n",
        "            reg = (self.lam / (2 * self.m))\n",
        "            for i in range(1, self.L + 1):\n",
        "                reg += np.sum(np.dot(self.W[str(i)], self.W[str(i)].T))\n",
        "            self.cost += reg\n",
        "            \n",
        "        self.cost_history.append(self.cost)\n",
        "        \n",
        "        return \n",
        "    \n",
        "    def backward_prop(self, Y):\n",
        "        \n",
        "        # We need dA[str(L)] to start the backward prop computation\n",
        "        self.dA[str(self.L)] = -1 * (np.divide(Y, self.A[str(self.L)]) - np.divide(1 - Y, 1 - self.A[str(self.L)]))\n",
        "        self.dZ[str(self.L)] = np.multiply(self.dA[str(self.L)], sigmoid_derivative(self.Z[str(self.L)]))\n",
        "        self.dW[str(self.L)] = np.dot(self.dZ[str(self.L)], self.A[str(self.L - 1)].T) / self.m + (self.lam/self.m) * self.W[str(self.L)]\n",
        "        self.db[str(self.L)] = np.sum(self.dZ[str(self.L)], axis = 1, keepdims = True) / self.m\n",
        "        self.dA[str(self.L - 1)] = np.dot(self.W[str(self.L)].T, self.dZ[str(self.L)])\n",
        "            \n",
        "        for i in reversed(range(1, self.L)):\n",
        "\n",
        "            self.dZ[str(i)] = np.multiply(self.dA[str(i)], relu_derivative(self.Z[str(i)]))\n",
        "            self.dW[str(i)] = np.dot(self.dZ[str(i)], self.A[str(i - 1)].T) / self.m + (self.lam/self.m) * self.W[str(i)]\n",
        "            self.db[str(i)] = np.sum(self.dZ[str(i)], axis = 1, keepdims = True) / self.m\n",
        "            self.dA[str(i - 1)] = np.dot(self.W[str(i)].T, self.dZ[str(i)])\n",
        "        \n",
        "        return\n",
        "    \n",
        "    def update_params(self):\n",
        "        \n",
        "        for i in range(1, self.L + 1):\n",
        "            self.W[str(i)] = self.W[str(i)] - self.alpha * self.dW[str(i)]\n",
        "            self.b[str(i)] = self.b[str(i)] - self.alpha * self.db[str(i)]\n",
        "        \n",
        "        return\n",
        "    \n",
        "    def train(self, X, Y, iterations = 10, \n",
        "        alpha = 0.001, decay = True, decay_iter = 5, decay_rate = 0.9, stop_decay_counter = 100,\n",
        "        verbose = True, lam = 0):\n",
        "        \n",
        "        self.m = Y.shape[1]\n",
        "        self.alpha = alpha\n",
        "        self.iterations = iterations\n",
        "        self.lam = lam\n",
        "        \n",
        "        # initialize parameters\n",
        "        self.init_params()\n",
        "\n",
        "        for i in range(iterations):\n",
        "            # forward prop\n",
        "            self.forward_prop(X)\n",
        "            # compute cost\n",
        "            self.compute_cost(Y)\n",
        "            # backward prop\n",
        "            self.backward_prop(Y)\n",
        "            # update params\n",
        "            self.update_params()\n",
        "            # evaluate\n",
        "            self.acc_history.append(self.evaluate(X, Y, in_training = True))\n",
        "            # save alpha\n",
        "            self.alpha_history.append(self.alpha)\n",
        "            # learning rate decay\n",
        "            if decay and stop_decay_counter > 0 and i % decay_iter == 0:\n",
        "                self.alpha = decay_rate * self.alpha\n",
        "                stop_decay_counter -= 1\n",
        "            # display cost per iteration\n",
        "            if verbose:\n",
        "                print('Cost after {} iterations: {}'.format(i, self.cost))\n",
        "            if  i % 1000 == 0:\n",
        "\n",
        "                 print (\"Cost after iteration %i: %f\" %(i, self.cost))\n",
        "       \n",
        "        return\n",
        "    \n",
        "    def predict(self, X, in_training = False):\n",
        "        \n",
        "        if in_training == False:\n",
        "            self.forward_prop(X)\n",
        "            \n",
        "        preds = self.A[str(self.L)] >= 0.5\n",
        "        preds = np.squeeze(preds)\n",
        "        \n",
        "        return preds\n",
        "        \n",
        "    def evaluate(self, X, Y, in_training = False):\n",
        "        \n",
        "        examples = X.shape[1]\n",
        "        \n",
        "        pred = self.predict(X, in_training = in_training)\n",
        "        pred = pred.reshape(1, examples)\n",
        "        diff = np.sum(abs(pred - Y))\n",
        "        acc = (examples - np.sum(diff)) / examples\n",
        "        \n",
        "        return acc\n",
        "    \n",
        "    def plot_cost(self):\n",
        "        \n",
        "        plt.plot(range(self.iterations), self.cost_history, color = 'b')\n",
        "        plt.show()\n",
        "        \n",
        "        return\n",
        "    \n",
        "    def plot_acc(self):\n",
        "        \n",
        "        plt.plot(range(self.iterations), self.acc_history, color = 'r')\n",
        "        plt.show()\n",
        "        \n",
        "        return\n",
        "    \n",
        "    def plot_alpha(self):\n",
        "        \n",
        "        plt.plot(range(self.iterations), self.alpha_history, color = 'g')\n",
        "        plt.show()\n",
        "        \n",
        "        return"
      ],
      "execution_count": 0,
      "outputs": []
    },
    {
      "cell_type": "code",
      "metadata": {
        "id": "sP_8ZVk6z_dP",
        "colab_type": "code",
        "outputId": "dcd0c3ad-8a26-4fd5-c62d-875224fea26a",
        "colab": {
          "base_uri": "https://localhost:8080/",
          "height": 204
        }
      },
      "source": [
        "import pandas as pd\n",
        "\n",
        "df = pd.read_csv('ex2data2.csv', sep = ',')\n",
        "df.head()"
      ],
      "execution_count": 5,
      "outputs": [
        {
          "output_type": "execute_result",
          "data": {
            "text/html": [
              "<div>\n",
              "<style scoped>\n",
              "    .dataframe tbody tr th:only-of-type {\n",
              "        vertical-align: middle;\n",
              "    }\n",
              "\n",
              "    .dataframe tbody tr th {\n",
              "        vertical-align: top;\n",
              "    }\n",
              "\n",
              "    .dataframe thead th {\n",
              "        text-align: right;\n",
              "    }\n",
              "</style>\n",
              "<table border=\"1\" class=\"dataframe\">\n",
              "  <thead>\n",
              "    <tr style=\"text-align: right;\">\n",
              "      <th></th>\n",
              "      <th>A</th>\n",
              "      <th>B</th>\n",
              "      <th>C</th>\n",
              "    </tr>\n",
              "  </thead>\n",
              "  <tbody>\n",
              "    <tr>\n",
              "      <th>0</th>\n",
              "      <td>-0.092742</td>\n",
              "      <td>0.68494</td>\n",
              "      <td>1</td>\n",
              "    </tr>\n",
              "    <tr>\n",
              "      <th>1</th>\n",
              "      <td>-0.213710</td>\n",
              "      <td>0.69225</td>\n",
              "      <td>1</td>\n",
              "    </tr>\n",
              "    <tr>\n",
              "      <th>2</th>\n",
              "      <td>-0.375000</td>\n",
              "      <td>0.50219</td>\n",
              "      <td>1</td>\n",
              "    </tr>\n",
              "    <tr>\n",
              "      <th>3</th>\n",
              "      <td>-0.513250</td>\n",
              "      <td>0.46564</td>\n",
              "      <td>1</td>\n",
              "    </tr>\n",
              "    <tr>\n",
              "      <th>4</th>\n",
              "      <td>-0.524770</td>\n",
              "      <td>0.20980</td>\n",
              "      <td>1</td>\n",
              "    </tr>\n",
              "  </tbody>\n",
              "</table>\n",
              "</div>"
            ],
            "text/plain": [
              "          A        B  C\n",
              "0 -0.092742  0.68494  1\n",
              "1 -0.213710  0.69225  1\n",
              "2 -0.375000  0.50219  1\n",
              "3 -0.513250  0.46564  1\n",
              "4 -0.524770  0.20980  1"
            ]
          },
          "metadata": {
            "tags": []
          },
          "execution_count": 5
        }
      ]
    },
    {
      "cell_type": "code",
      "metadata": {
        "id": "oXYY4e810Ahl",
        "colab_type": "code",
        "outputId": "96b3ac48-d346-4d89-9a54-ab59a8da4532",
        "colab": {
          "base_uri": "https://localhost:8080/",
          "height": 51
        }
      },
      "source": [
        "X_train = df.iloc[:,:-1]\n",
        "Y_train = df.iloc[:, -1]\n",
        "\n",
        "X_train = np.array(X_train)\n",
        "Y_train = np.array(Y_train)\n",
        "Y_train = Y_train.reshape(Y_train.shape[0], 1)\n",
        "\n",
        "print(X_train.shape)\n",
        "print(Y_train.shape)"
      ],
      "execution_count": 6,
      "outputs": [
        {
          "output_type": "stream",
          "text": [
            "(117, 2)\n",
            "(117, 1)\n"
          ],
          "name": "stdout"
        }
      ]
    },
    {
      "cell_type": "code",
      "metadata": {
        "id": "qQg1FXbb0FYI",
        "colab_type": "code",
        "colab": {}
      },
      "source": [
        "mean = np.mean(X_train, axis = 0)\n",
        "variance = np.var(X_train, axis = 0)\n",
        "\n",
        "X_train = np.divide((X_train - mean), variance)\n"
      ],
      "execution_count": 0,
      "outputs": []
    },
    {
      "cell_type": "code",
      "metadata": {
        "id": "LIXOrIQp0KoN",
        "colab_type": "code",
        "outputId": "1d79258d-63dc-4df6-fd40-22e523f62867",
        "colab": {
          "base_uri": "https://localhost:8080/",
          "height": 34
        }
      },
      "source": [
        "print(X_train[0])"
      ],
      "execution_count": 8,
      "outputs": [
        {
          "output_type": "stream",
          "text": [
            "[-0.59818375  1.89017682]\n"
          ],
          "name": "stdout"
        }
      ]
    },
    {
      "cell_type": "code",
      "metadata": {
        "id": "9oVeKs4u0OL2",
        "colab_type": "code",
        "colab": {}
      },
      "source": [
        "Y_train = Y_train - 1\n",
        "# Changing label 1 to 0 and label 2 to 1"
      ],
      "execution_count": 0,
      "outputs": []
    },
    {
      "cell_type": "code",
      "metadata": {
        "id": "-UvRBRHj0Gs8",
        "colab_type": "code",
        "outputId": "7486560e-ad1f-48b6-b453-7e5934e573e2",
        "colab": {
          "base_uri": "https://localhost:8080/",
          "height": 85
        }
      },
      "source": [
        "from sklearn.utils import shuffle\n",
        "\n",
        "X_train, Y_train = shuffle(X_train, Y_train)\n",
        "\n",
        "X_test = X_train[85:,:]\n",
        "Y_test = Y_train[85:,:]\n",
        "\n",
        "X_train_ = X_train[:250,:]\n",
        "Y_train_ = Y_train[:250,:]\n",
        "\n",
        "print(X_train_.shape)\n",
        "print(Y_train_.shape)\n",
        "print(X_test.shape)\n",
        "print(Y_test.shape)"
      ],
      "execution_count": 10,
      "outputs": [
        {
          "output_type": "stream",
          "text": [
            "(117, 2)\n",
            "(117, 1)\n",
            "(32, 2)\n",
            "(32, 1)\n"
          ],
          "name": "stdout"
        }
      ]
    },
    {
      "cell_type": "code",
      "metadata": {
        "id": "cW0wMqYQ0Ux3",
        "colab_type": "code",
        "colab": {}
      },
      "source": [
        "X_train_ = X_train_.reshape(2, 117)\n",
        "Y_train_ = Y_train_.reshape(1, 117)\n",
        "X_test  = X_test.reshape(2, 32)\n",
        "Y_test  = Y_test.reshape(1, 32)"
      ],
      "execution_count": 0,
      "outputs": []
    },
    {
      "cell_type": "code",
      "metadata": {
        "id": "kjLcNqMS0X0k",
        "colab_type": "code",
        "outputId": "96199f90-b328-41ec-e349-369f326867b0",
        "colab": {
          "base_uri": "https://localhost:8080/",
          "height": 238
        }
      },
      "source": [
        "m = model()\n",
        "m.add_layers([2, 5, 5, 1])\n",
        "\n",
        "m.train(X_train_, Y_train_, alpha = 0.0005, decay_rate = 0.90, decay_iter = 15, stop_decay_counter = 50, \n",
        "        iterations = 12500, verbose = False, lam = 2)"
      ],
      "execution_count": 23,
      "outputs": [
        {
          "output_type": "stream",
          "text": [
            "Cost after iteration 0: 20.878808\n",
            "Cost after iteration 1000: 20.323231\n",
            "Cost after iteration 2000: 20.306050\n",
            "Cost after iteration 3000: 20.289006\n",
            "Cost after iteration 4000: 20.272072\n",
            "Cost after iteration 5000: 20.255258\n",
            "Cost after iteration 6000: 20.238552\n",
            "Cost after iteration 7000: 20.221958\n",
            "Cost after iteration 8000: 20.205485\n",
            "Cost after iteration 9000: 20.189134\n",
            "Cost after iteration 10000: 20.172902\n",
            "Cost after iteration 11000: 20.156784\n",
            "Cost after iteration 12000: 20.140777\n"
          ],
          "name": "stdout"
        }
      ]
    },
    {
      "cell_type": "code",
      "metadata": {
        "id": "zexpSK8I3Nz0",
        "colab_type": "code",
        "outputId": "9d56e6c6-4457-461f-b5e1-796126535c60",
        "colab": {
          "base_uri": "https://localhost:8080/",
          "height": 265
        }
      },
      "source": [
        "m.plot_cost()"
      ],
      "execution_count": 24,
      "outputs": [
        {
          "output_type": "display_data",
          "data": {
            "image/png": "[encoded data removed]",
            "text/plain": [
              "<Figure size 432x288 with 1 Axes>"
            ]
          },
          "metadata": {
            "tags": [],
            "needs_background": "light"
          }
        }
      ]
    },
    {
      "cell_type": "code",
      "metadata": {
        "id": "6glv12Go4h96",
        "colab_type": "code",
        "outputId": "38510b01-b1ac-4236-ac49-12963b3ac061",
        "colab": {
          "base_uri": "https://localhost:8080/",
          "height": 268
        }
      },
      "source": [
        "m.plot_acc()"
      ],
      "execution_count": 25,
      "outputs": [
        {
          "output_type": "display_data",
          "data": {
            "image/png": "[encoded data removed]",
            "text/plain": [
              "<Figure size 432x288 with 1 Axes>"
            ]
          },
          "metadata": {
            "tags": [],
            "needs_background": "light"
          }
        }
      ]
    },
    {
      "cell_type": "code",
      "metadata": {
        "id": "z4h3b9iw4lBF",
        "colab_type": "code",
        "outputId": "3f90f2c1-7c21-486c-9e70-221feb2e3b34",
        "colab": {
          "base_uri": "https://localhost:8080/",
          "height": 34
        }
      },
      "source": [
        "print('Test set acc = ', m.evaluate(X_test, Y_test))"
      ],
      "execution_count": 26,
      "outputs": [
        {
          "output_type": "stream",
          "text": [
            "Test set acc =  0.34375\n"
          ],
          "name": "stdout"
        }
      ]
    },
    {
      "cell_type": "code",
      "metadata": {
        "id": "KG1s-GKT4oTh",
        "colab_type": "code",
        "outputId": "df7b048f-8350-41b5-c341-a1f7e7029f1d",
        "colab": {
          "base_uri": "https://localhost:8080/",
          "height": 265
        }
      },
      "source": [
        "m.plot_alpha()"
      ],
      "execution_count": 27,
      "outputs": [
        {
          "output_type": "display_data",
          "data": {
            "image/png": "[encoded data removed]",
            "text/plain": [
              "<Figure size 432x288 with 1 Axes>"
            ]
          },
          "metadata": {
            "tags": [],
            "needs_background": "light"
          }
        }
      ]
    },
    {
      "cell_type": "code",
      "metadata": {
        "id": "nLGQ0Mzo77K7",
        "colab_type": "code",
        "colab": {}
      },
      "source": [
        "def plot_decision_boundary(model, X, y):\n",
        "    # Set min and max values and give it some padding\n",
        "    x_min, x_max = X[0, :].min() - 1, X[0, :].max() + 1\n",
        "    y_min, y_max = X[1, :].min() - 1, X[1, :].max() + 1\n",
        "    h = 0.01\n",
        "    # Generate a grid of points with distance h between them\n",
        "    xx, yy = np.meshgrid(np.arange(x_min, x_max, h), np.arange(y_min, y_max, h))\n",
        "\n",
        "    \n",
        "\n",
        "\n",
        "    # Predict the function value for the whole grid\n",
        "    Z = model(np.c_[xx.ravel(), yy.ravel()])\n",
        "    Z = Z.reshape(xx.shape)\n",
        "    # Plot the contour and training examples\n",
        "    plt.contourf(xx, yy, Z, cmap=plt.cm.Spectral)\n",
        "    plt.ylabel('x2')\n",
        "    plt.xlabel('x1')\n",
        "    plt.scatter(X[0, :], X[1, :], c=y, cmap=plt.cm.Spectral)"
      ],
      "execution_count": 0,
      "outputs": []
    },
    {
      "cell_type": "code",
      "metadata": {
        "id": "4fNwpOJB0ekF",
        "colab_type": "code",
        "colab": {
          "base_uri": "https://localhost:8080/",
          "height": 299
        },
        "outputId": "4288df1d-faa4-4d39-f2e9-a92b463e8244"
      },
      "source": [
        "\n",
        "plot_decision_boundary(model , X_train_, Y_train_)"
      ],
      "execution_count": 78,
      "outputs": [
        {
          "output_type": "error",
          "ename": "TypeError",
          "evalue": "ignored",
          "traceback": [
            "\u001b[0;31m---------------------------------------------------------------------------\u001b[0m",
            "\u001b[0;31mTypeError\u001b[0m                                 Traceback (most recent call last)",
            "\u001b[0;32m<ipython-input-78-70527d573375>\u001b[0m in \u001b[0;36m<module>\u001b[0;34m()\u001b[0m\n\u001b[1;32m      1\u001b[0m \u001b[0;34m\u001b[0m\u001b[0m\n\u001b[0;32m----> 2\u001b[0;31m \u001b[0mplot_decision_boundary\u001b[0m\u001b[0;34m(\u001b[0m\u001b[0mmodel\u001b[0m \u001b[0;34m,\u001b[0m \u001b[0mX_train_\u001b[0m\u001b[0;34m,\u001b[0m \u001b[0mY_train_\u001b[0m\u001b[0;34m)\u001b[0m\u001b[0;34m\u001b[0m\u001b[0;34m\u001b[0m\u001b[0m\n\u001b[0m",
            "\u001b[0;32m<ipython-input-77-3ec2cac42470>\u001b[0m in \u001b[0;36mplot_decision_boundary\u001b[0;34m(model, X, y)\u001b[0m\n\u001b[1;32m     11\u001b[0m \u001b[0;34m\u001b[0m\u001b[0m\n\u001b[1;32m     12\u001b[0m     \u001b[0;31m# Predict the function value for the whole grid\u001b[0m\u001b[0;34m\u001b[0m\u001b[0;34m\u001b[0m\u001b[0;34m\u001b[0m\u001b[0m\n\u001b[0;32m---> 13\u001b[0;31m     \u001b[0mZ\u001b[0m \u001b[0;34m=\u001b[0m \u001b[0mmodel\u001b[0m\u001b[0;34m(\u001b[0m\u001b[0mnp\u001b[0m\u001b[0;34m.\u001b[0m\u001b[0mc_\u001b[0m\u001b[0;34m[\u001b[0m\u001b[0mxx\u001b[0m\u001b[0;34m.\u001b[0m\u001b[0mravel\u001b[0m\u001b[0;34m(\u001b[0m\u001b[0;34m)\u001b[0m\u001b[0;34m,\u001b[0m \u001b[0myy\u001b[0m\u001b[0;34m.\u001b[0m\u001b[0mravel\u001b[0m\u001b[0;34m(\u001b[0m\u001b[0;34m)\u001b[0m\u001b[0;34m]\u001b[0m\u001b[0;34m)\u001b[0m\u001b[0;34m\u001b[0m\u001b[0;34m\u001b[0m\u001b[0m\n\u001b[0m\u001b[1;32m     14\u001b[0m     \u001b[0mZ\u001b[0m \u001b[0;34m=\u001b[0m \u001b[0mZ\u001b[0m\u001b[0;34m.\u001b[0m\u001b[0mreshape\u001b[0m\u001b[0;34m(\u001b[0m\u001b[0mxx\u001b[0m\u001b[0;34m.\u001b[0m\u001b[0mshape\u001b[0m\u001b[0;34m)\u001b[0m\u001b[0;34m\u001b[0m\u001b[0;34m\u001b[0m\u001b[0m\n\u001b[1;32m     15\u001b[0m     \u001b[0;31m# Plot the contour and training examples\u001b[0m\u001b[0;34m\u001b[0m\u001b[0;34m\u001b[0m\u001b[0;34m\u001b[0m\u001b[0m\n",
            "\u001b[0;31mTypeError\u001b[0m: __init__() takes 1 positional argument but 2 were given"
          ]
        }
      ]
    },
    {
      "cell_type": "code",
      "metadata": {
        "id": "PzwuucQV1VE5",
        "colab_type": "code",
        "colab": {}
      },
      "source": [
        ""
      ],
      "execution_count": 0,
      "outputs": []
    }
  ]
}