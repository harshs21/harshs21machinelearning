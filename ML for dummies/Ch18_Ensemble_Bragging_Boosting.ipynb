{
  "nbformat": 4,
  "nbformat_minor": 0,
  "metadata": {
    "colab": {
      "name": "Ch18 Ensemble Bragging Boosting",
      "provenance": []
    },
    "kernelspec": {
      "name": "python3",
      "display_name": "Python 3"
    }
  },
  "cells": [
    {
      "cell_type": "code",
      "metadata": {
        "id": "01haEmP2snja",
        "colab_type": "code",
        "colab": {}
      },
      "source": [
        "import numpy as np\n",
        "from sklearn import datasets\n",
        "from sklearn.model_selection import validation_curve\n",
        "from sklearn.ensemble import RandomForestClassifier\n",
        "digits = datasets.load_digits()\n",
        "X,y = digits.data, digits.target\n",
        "series = [10, 25, 50, 100, 150, 200, 250, 300]\n",
        "RF = RandomForestClassifier(random_state=101)\n",
        "train_scores, test_scores = validation_curve(RF, X, y, 'n_estimators', param_range=series, cv=10, scoring='accuracy',n_jobs=-1)"
      ],
      "execution_count": 0,
      "outputs": []
    },
    {
      "cell_type": "code",
      "metadata": {
        "id": "Y_H4s5-u2wBj",
        "colab_type": "code",
        "colab": {
          "base_uri": "https://localhost:8080/",
          "height": 279
        },
        "outputId": "e26dcae5-8b8c-4949-a09e-2b4d0f937d3f"
      },
      "source": [
        "import matplotlib.pyplot as plt\n",
        "%matplotlib inline\n",
        "plt.figure()\n",
        "plt.plot(series, np.mean(test_scores,axis=1), '-o')\n",
        "plt.xlabel('number of trees')\n",
        "plt.ylabel('accuracy')\n",
        "plt.grid()\n",
        "plt.show()"
      ],
      "execution_count": 5,
      "outputs": [
        {
          "output_type": "display_data",
          "data": {
            "image/png": "[encoded data removed]",
            "text/plain": [
              "<Figure size 432x288 with 1 Axes>"
            ]
          },
          "metadata": {
            "tags": [],
            "needs_background": "light"
          }
        }
      ]
    },
    {
      "cell_type": "code",
      "metadata": {
        "id": "aaaSSNzK4H9E",
        "colab_type": "code",
        "colab": {
          "base_uri": "https://localhost:8080/",
          "height": 68
        },
        "outputId": "310becb6-6009-470b-a1b7-531e18208a0b"
      },
      "source": [
        "import numpy as np\n",
        "from sklearn.ensemble import AdaBoostClassifier\n",
        "from sklearn.tree import DecisionTreeClassifier\n",
        "from sklearn.linear_model import Perceptron\n",
        "from sklearn.naive_bayes import BernoulliNB\n",
        "from sklearn.model_selection import cross_val_score\n",
        "from sklearn import datasets\n",
        "digits = datasets.load_digits()\n",
        "X,y = digits.data, digits.target\n",
        "DT = cross_val_score(AdaBoostClassifier(\n",
        "DecisionTreeClassifier(),\n",
        "          random_state=101) ,X, y,\n",
        "           scoring='accuracy',cv=10)\n",
        "P = cross_val_score(AdaBoostClassifier(\n",
        "           Perceptron(), random_state=101,\n",
        "               algorithm='SAMME') ,X, y,\n",
        "              scoring='accuracy',cv=10)\n",
        "NB = cross_val_score(AdaBoostClassifier(\n",
        "      BernoulliNB(), random_state=101)\n",
        "        ,X,y,scoring='accuracy',cv=10)\n",
        "print (\"Decision trees: %0.3f\\nPerceptron: %0.3f\\n\"\n",
        "\"Naive Bayes: %0.3f\" % (np.mean(DT),np.mean(P), np.mean(NB)))"
      ],
      "execution_count": 8,
      "outputs": [
        {
          "output_type": "stream",
          "text": [
            "Decision trees: 0.825\n",
            "Perceptron: 0.913\n",
            "Naive Bayes: 0.801\n"
          ],
          "name": "stdout"
        }
      ]
    },
    {
      "cell_type": "code",
      "metadata": {
        "id": "zPn0XYY4q1gL",
        "colab_type": "code",
        "colab": {
          "base_uri": "https://localhost:8080/",
          "height": 34
        },
        "outputId": "892e061c-3056-4b15-c6d6-bb934efa8bd1"
      },
      "source": [
        "import numpy as np\n",
        "from sklearn.ensemble import GradientBoostingClassifier\n",
        "from sklearn.model_selection import cross_val_score\n",
        "from sklearn import datasets\n",
        "digits = datasets.load_digits()\n",
        "X,y = digits.data, digits.target\n",
        "GBM = cross_val_score(\n",
        "GradientBoostingClassifier(n_estimators=300,\n",
        "           subsample=0.8, max_depth=2, learning_rate=0.1,\n",
        "            random_state=101), X, y, scoring='accuracy',cv=10)\n",
        "print (\"GBM: %0.3f\" % (np.mean(GBM)))"
      ],
      "execution_count": 10,
      "outputs": [
        {
          "output_type": "stream",
          "text": [
            "GBM: 0.947\n"
          ],
          "name": "stdout"
        }
      ]
    },
    {
      "cell_type": "code",
      "metadata": {
        "id": "R82feeaVrPde",
        "colab_type": "code",
        "colab": {}
      },
      "source": [
        ""
      ],
      "execution_count": 0,
      "outputs": []
    }
  ]
}