{
  "nbformat": 4,
  "nbformat_minor": 0,
  "metadata": {
    "colab": {
      "name": "Ch.17 SVM kernals for digit datset.ipynb",
      "provenance": []
    },
    "kernelspec": {
      "name": "python3",
      "display_name": "Python 3"
    }
  },
  "cells": [
    {
      "cell_type": "code",
      "metadata": {
        "id": "AV8BbHBtxtYl",
        "colab_type": "code",
        "colab": {
          "base_uri": "https://localhost:8080/",
          "height": 224
        },
        "outputId": "433de044-8ab6-4eeb-c448-c69ea7ccb858"
      },
      "source": [
        "import matplotlib.pyplot as plt\n",
        "import matplotlib as mpl\n",
        "from sklearn.datasets import load_digits\n",
        "import numpy as np\n",
        "import random\n",
        "digits = load_digits()\n",
        "X,y = digits.data, digits.target\n",
        "%matplotlib inline\n",
        "random_examples = [random.randint(0,len(digits.images))\n",
        "                  for i in range(10)]\n",
        "for n,number in enumerate(random_examples):\n",
        "\n",
        "  plt.subplot(2, 5, n+1)\n",
        "  plt.imshow(digits.images[number],cmap='binary',\n",
        "  interpolation='none', extent=[0,8,0,8])\n",
        "  plt.grid()\n",
        "plt.show()"
      ],
      "execution_count": 3,
      "outputs": [
        {
          "output_type": "display_data",
          "data": {
            "image/png": "[encoded data removed]",
            "text/plain": [
              "<Figure size 432x288 with 10 Axes>"
            ]
          },
          "metadata": {
            "tags": [],
            "needs_background": "light"
          }
        }
      ]
    },
    {
      "cell_type": "code",
      "metadata": {
        "id": "UFzxZg0m0hkw",
        "colab_type": "code",
        "colab": {}
      },
      "source": [
        "from sklearn.model_selection import train_test_split\n",
        "from sklearn.model_selection import cross_val_score\n",
        "from sklearn.preprocessing import MinMaxScaler\n",
        "# We keep 30% random examples for test\n",
        "X_train, X_test, y_train, y_test = train_test_split(X,\n",
        "y, test_size=0.3, random_state=101)\n",
        "# We scale the data in the range [-1,1]\n",
        "scaling = MinMaxScaler(feature_range=(-1, 1)).fit(X_train)\n",
        "X_train = scaling.transform(X_train)\n",
        "X_test = scaling.transform(X_test)\n",
        "from sklearn.svm import SVC\n",
        "svm = SVC()\n",
        "cv_performance = cross_val_score(svm, X_train, y_train,\n",
        "cv=10)\n",
        "test_performance = svm.fit(X_train, y_train).score(X_test,\n",
        "y_test)"
      ],
      "execution_count": 0,
      "outputs": []
    },
    {
      "cell_type": "code",
      "metadata": {
        "id": "_BRw4ol8079R",
        "colab_type": "code",
        "colab": {
          "base_uri": "https://localhost:8080/",
          "height": 34
        },
        "outputId": "8e0a3c8d-2881-4392-a799-8fc4029a9d34"
      },
      "source": [
        "print ('Cross-validation accuracy score: %0.3f,'\n",
        "       ' test accuracy score: %0.3f'\n",
        "               % (np.mean(cv_performance),test_performance))"
      ],
      "execution_count": 7,
      "outputs": [
        {
          "output_type": "stream",
          "text": [
            "Cross-validation accuracy score: 0.986, test accuracy score: 0.987\n"
          ],
          "name": "stdout"
        }
      ]
    },
    {
      "cell_type": "code",
      "metadata": {
        "id": "RhN7dhg11RB8",
        "colab_type": "code",
        "colab": {
          "base_uri": "https://localhost:8080/",
          "height": 51
        },
        "outputId": "d3e332a8-369f-4b34-80ab-a5f9fcb9db57"
      },
      "source": [
        "from sklearn.model_selection import GridSearchCV\n",
        "import numpy as np\n",
        "learning_algo = SVC(kernel='linear', random_state=101)\n",
        "search_space = [{'kernel': ['linear'],\n",
        "'C': np.logspace(-3, 3, 7)},\n",
        "{'kernel': ['rbf'],\n",
        "'C':np.logspace(-3, 3, 7),\n",
        "'gamma': np.logspace(-3, 2, 6)}]\n",
        "gridsearch = GridSearchCV(learning_algo,\n",
        "param_grid=search_space,\n",
        "refit=True, cv=10)\n",
        "gridsearch.fit(X_train,y_train)\n",
        "print ('Best parameter: %s'\n",
        "% str(gridsearch.best_params_))\n",
        "cv_performance = gridsearch.best_score_\n",
        "test_performance = gridsearch.score(X_test, y_test)\n",
        "print ('Cross-validation accuracy score: %0.3f,'\n",
        "' test accuracy score: %0.3f'\n",
        "% (cv_performance,test_performance))\n"
      ],
      "execution_count": 13,
      "outputs": [
        {
          "output_type": "stream",
          "text": [
            "Best parameter: {'C': 10.0, 'gamma': 0.1, 'kernel': 'rbf'}\n",
            "Cross-validation accuracy score: 0.988, test accuracy score: 0.987\n"
          ],
          "name": "stdout"
        }
      ]
    },
    {
      "cell_type": "code",
      "metadata": {
        "id": "nAxyuZsL1c_V",
        "colab_type": "code",
        "colab": {
          "base_uri": "https://localhost:8080/",
          "height": 240
        },
        "outputId": "e95e3db1-8a0a-4d9a-f881-8009d42a5415"
      },
      "source": [
        "prediction = gridsearch.predict(X_test)\n",
        "wrong_prediction = (prediction!=y_test)\n",
        "test_digits = scaling.inverse_transform(X_test)\n",
        "for n,(number,yp,yt) in enumerate(zip(scaling.inverse_transform(X_test)[wrong_prediction],prediction[wrong_prediction],y_test[wrong_prediction])):\n",
        "\n",
        "  plt.subplot(2, 5, n+1)\n",
        "  plt.imshow(number.reshape((8,8)),cmap='binary',interpolation='none',extent=[0,8,0,8])\n",
        "  plt.title('pred:'+str(yp)+\"!=\"+str(yt))\n",
        "  plt.grid()\n",
        "plt.show()"
      ],
      "execution_count": 15,
      "outputs": [
        {
          "output_type": "display_data",
          "data": {
            "image/png": "[encoded data removed]",
            "text/plain": [
              "<Figure size 432x288 with 7 Axes>"
            ]
          },
          "metadata": {
            "tags": [],
            "needs_background": "light"
          }
        }
      ]
    },
    {
      "cell_type": "code",
      "metadata": {
        "id": "ln6lXmDa3gPw",
        "colab_type": "code",
        "colab": {}
      },
      "source": [
        ""
      ],
      "execution_count": 0,
      "outputs": []
    }
  ]
}