{
  "nbformat": 4,
  "nbformat_minor": 0,
  "metadata": {
    "colab": {
      "name": "Chapter 7 MLFD",
      "provenance": []
    },
    "kernelspec": {
      "name": "python3",
      "display_name": "Python 3"
    }
  },
  "cells": [
    {
      "cell_type": "code",
      "metadata": {
        "id": "dLPeHKXYcpuL",
        "colab_type": "code",
        "colab": {}
      },
      "source": [
        "myStr = \"Hello\"\n",
        "\n",
        "def printStr():\n",
        "  global myStr\n",
        "  print(myStr)\n",
        "  myStr = \"There!\"\n",
        "  print(myStr)"
      ],
      "execution_count": 0,
      "outputs": []
    },
    {
      "cell_type": "code",
      "metadata": {
        "id": "Nw0my8V1dbTo",
        "colab_type": "code",
        "colab": {
          "base_uri": "https://localhost:8080/",
          "height": 51
        },
        "outputId": "ba48097b-cddc-4d65-cb3e-1eee6e58f10b"
      },
      "source": [
        "printStr()"
      ],
      "execution_count": 3,
      "outputs": [
        {
          "output_type": "stream",
          "text": [
            "Hello\n",
            "There!\n"
          ],
          "name": "stdout"
        }
      ]
    },
    {
      "cell_type": "code",
      "metadata": {
        "id": "LiXs8aSMdwqk",
        "colab_type": "code",
        "colab": {}
      },
      "source": [
        "def DisplayMulti(*VarArgs):\n",
        "  for Arg in VarArgs:\n",
        "    if Arg.upper() == 'CONT':\n",
        "      continue\n",
        "      print('Continue Arguement: ' + Arg)\n",
        "    elif Arg.upper() == 'BREAK':\n",
        "      break\n",
        "      print('Break Arguement: ' + Arg)\n",
        "    print('Good Arguement: ' + Arg)"
      ],
      "execution_count": 0,
      "outputs": []
    },
    {
      "cell_type": "code",
      "metadata": {
        "id": "eWeN12gcfIaM",
        "colab_type": "code",
        "colab": {
          "base_uri": "https://localhost:8080/",
          "height": 85
        },
        "outputId": "358d65c7-7411-4809-a1cc-921d4bf6fcd8"
      },
      "source": [
        "DisplayMulti('Hello', 'Goodbye', 'First', 'Last')"
      ],
      "execution_count": 5,
      "outputs": [
        {
          "output_type": "stream",
          "text": [
            "Good Arguement: Hello\n",
            "Good Arguement: Goodbye\n",
            "Good Arguement: First\n",
            "Good Arguement: Last\n"
          ],
          "name": "stdout"
        }
      ]
    },
    {
      "cell_type": "code",
      "metadata": {
        "id": "Pd7ZWIAsfequ",
        "colab_type": "code",
        "colab": {
          "base_uri": "https://localhost:8080/",
          "height": 68
        },
        "outputId": "e3cc773b-6e7a-403b-d184-685510534cf9"
      },
      "source": [
        "DisplayMulti('Hello', 'Count', 'Goodbye', 'Break', 'Last')"
      ],
      "execution_count": 6,
      "outputs": [
        {
          "output_type": "stream",
          "text": [
            "Good Arguement: Hello\n",
            "Good Arguement: Count\n",
            "Good Arguement: Goodbye\n"
          ],
          "name": "stdout"
        }
      ]
    },
    {
      "cell_type": "code",
      "metadata": {
        "id": "oZyRSiQdfqlD",
        "colab_type": "code",
        "colab": {
          "base_uri": "https://localhost:8080/",
          "height": 102
        },
        "outputId": "a513dfdc-9378-4e73-d27c-ade698896259"
      },
      "source": [
        "DisplayMulti('Hello', 'Count', 'Goodbye', 'Continue', 'Last')"
      ],
      "execution_count": 7,
      "outputs": [
        {
          "output_type": "stream",
          "text": [
            "Good Arguement: Hello\n",
            "Good Arguement: Count\n",
            "Good Arguement: Goodbye\n",
            "Good Arguement: Continue\n",
            "Good Arguement: Last\n"
          ],
          "name": "stdout"
        }
      ]
    },
    {
      "cell_type": "code",
      "metadata": {
        "id": "ILeCMVmOf2Pa",
        "colab_type": "code",
        "colab": {
          "base_uri": "https://localhost:8080/",
          "height": 102
        },
        "outputId": "1ffdeb5c-7392-4593-c873-0ad556ccb93f"
      },
      "source": [
        "DisplayMulti('Hello', 'Count', 'Goodbye', 'Continue', 'Last', 'Break')"
      ],
      "execution_count": 8,
      "outputs": [
        {
          "output_type": "stream",
          "text": [
            "Good Arguement: Hello\n",
            "Good Arguement: Count\n",
            "Good Arguement: Goodbye\n",
            "Good Arguement: Continue\n",
            "Good Arguement: Last\n"
          ],
          "name": "stdout"
        }
      ]
    },
    {
      "cell_type": "code",
      "metadata": {
        "id": "yTiaIku-f8vd",
        "colab_type": "code",
        "colab": {}
      },
      "source": [
        "def secretNumber():\n",
        "  GotIt = False\n",
        "  while GotIt == False:\n",
        "    One = int(input(\"Type a number between 1 and 10: \" ))\n",
        "    Two = int(input(\"Type a number between 1 and 10: \" ))\n",
        "\n",
        "    if (One >= 1) and (One <=10):\n",
        "      if (Two >= 1) and (Two <=10):\n",
        "        print('Secret number is: ' + str(One * Two))\n",
        "        GotIt = True\n",
        "        continue\n",
        "      else:\n",
        "        print(\"Incorect second value!\")\n",
        "    else:\n",
        "      print(\"Incorrect first value!\")\n",
        "    print(\"Try again!\")"
      ],
      "execution_count": 0,
      "outputs": []
    },
    {
      "cell_type": "code",
      "metadata": {
        "id": "KGOrupfQhlWi",
        "colab_type": "code",
        "colab": {
          "base_uri": "https://localhost:8080/",
          "height": 136
        },
        "outputId": "e1b81469-13bd-48ac-b17f-c92e42c02f09"
      },
      "source": [
        "secretNumber()"
      ],
      "execution_count": 13,
      "outputs": [
        {
          "output_type": "stream",
          "text": [
            "Type a number between 1 and 10: 10\n",
            "Type a number between 1 and 10: 20\n",
            "Incorect second value!\n",
            "Try again!\n",
            "Type a number between 1 and 10: 10\n",
            "Type a number between 1 and 10: 5\n",
            "Secret number is: 50\n"
          ],
          "name": "stdout"
        }
      ]
    },
    {
      "cell_type": "code",
      "metadata": {
        "id": "58NfaXXJhwSQ",
        "colab_type": "code",
        "colab": {}
      },
      "source": [
        "MyTuple = (1, 2, 3, (4, 5, 6, (7, 8, 9)))"
      ],
      "execution_count": 0,
      "outputs": []
    },
    {
      "cell_type": "code",
      "metadata": {
        "id": "QPrwxbDGi269",
        "colab_type": "code",
        "colab": {
          "base_uri": "https://localhost:8080/",
          "height": 170
        },
        "outputId": "d5b13230-88d9-47c7-b052-d4e36642f698"
      },
      "source": [
        "for Value1 in MyTuple:\n",
        "  if type(Value1) == int:\n",
        "    print(Value1)\n",
        "  else:\n",
        "    for Value2 in Value1:\n",
        "      if type(Value2) == int:\n",
        "        print(\"\\t\", Value2)\n",
        "      else:\n",
        "        for Value3 in Value2:\n",
        "          print(\"\\t\\t\", Value3)    "
      ],
      "execution_count": 17,
      "outputs": [
        {
          "output_type": "stream",
          "text": [
            "1\n",
            "2\n",
            "3\n",
            "\t 4\n",
            "\t 5\n",
            "\t 6\n",
            "\t\t 7\n",
            "\t\t 8\n",
            "\t\t 9\n"
          ],
          "name": "stdout"
        }
      ]
    },
    {
      "cell_type": "markdown",
      "metadata": {
        "id": "7HGZHAVCnokh",
        "colab_type": "text"
      },
      "source": [
        "Tuples are immutable, which means that you can't change them. You can create a new tuple with same name and modify it in some way, but you can't modify an existing tuple.\n",
        "\n",
        "Lists are mutable, which means you can change them.        \n",
        "        More Information at Page No.131 of Book ML for dummies   "
      ]
    },
    {
      "cell_type": "code",
      "metadata": {
        "id": "z3y_B4qFjue3",
        "colab_type": "code",
        "colab": {}
      },
      "source": [
        "MyNewTuple = MyTuple.__add__((10, 11, 12, (13, 14, 15)))"
      ],
      "execution_count": 0,
      "outputs": []
    },
    {
      "cell_type": "code",
      "metadata": {
        "id": "3BtbE4etj6xX",
        "colab_type": "code",
        "colab": {
          "base_uri": "https://localhost:8080/",
          "height": 272
        },
        "outputId": "e07c4109-3334-4e01-f01d-cb5515762ad4"
      },
      "source": [
        "for Value1 in MyNewTuple:\n",
        "  if type(Value1) == int:\n",
        "    print(Value1)\n",
        "  else:\n",
        "    for Value2 in Value1:\n",
        "      if type(Value2) == int:\n",
        "        print(\"\\t\", Value2)\n",
        "      else:\n",
        "        for Value3 in Value2:\n",
        "          print(\"\\t\\t\", Value3)"
      ],
      "execution_count": 20,
      "outputs": [
        {
          "output_type": "stream",
          "text": [
            "1\n",
            "2\n",
            "3\n",
            "\t 4\n",
            "\t 5\n",
            "\t 6\n",
            "\t\t 7\n",
            "\t\t 8\n",
            "\t\t 9\n",
            "10\n",
            "11\n",
            "12\n",
            "\t 13\n",
            "\t 14\n",
            "\t 15\n"
          ],
          "name": "stdout"
        }
      ]
    },
    {
      "cell_type": "code",
      "metadata": {
        "id": "rJ9hqEtGkT4Y",
        "colab_type": "code",
        "colab": {
          "base_uri": "https://localhost:8080/",
          "height": 34
        },
        "outputId": "4d9cdc39-4e63-4aba-c996-0ea884bae038"
      },
      "source": [
        "import os\n",
        "os.environ['PYTHONPATH']"
      ],
      "execution_count": 21,
      "outputs": [
        {
          "output_type": "execute_result",
          "data": {
            "text/plain": [
              "'/env/python'"
            ]
          },
          "metadata": {
            "tags": []
          },
          "execution_count": 21
        }
      ]
    },
    {
      "cell_type": "code",
      "metadata": {
        "id": "aKWqVIKSkoob",
        "colab_type": "code",
        "colab": {}
      },
      "source": [
        "ListA = ['Orange', 'Yellow', 'Green', 'Brown']\n",
        "ListB = [1, 2, 3, 4]"
      ],
      "execution_count": 0,
      "outputs": []
    },
    {
      "cell_type": "code",
      "metadata": {
        "id": "b3-1cHvWlEax",
        "colab_type": "code",
        "colab": {
          "base_uri": "https://localhost:8080/",
          "height": 51
        },
        "outputId": "e67cba17-8e31-4012-e8cd-8ebedca4b24a"
      },
      "source": [
        "for Value in ListB[1:3]:\n",
        "  print(Value)"
      ],
      "execution_count": 23,
      "outputs": [
        {
          "output_type": "stream",
          "text": [
            "2\n",
            "3\n"
          ],
          "name": "stdout"
        }
      ]
    },
    {
      "cell_type": "code",
      "metadata": {
        "id": "uElh6h_TlOpH",
        "colab_type": "code",
        "colab": {
          "base_uri": "https://localhost:8080/",
          "height": 85
        },
        "outputId": "7abcb7df-fbc7-4dee-dfdd-3e906a49dd6a"
      },
      "source": [
        "for Value1, Value2 in zip(ListA, ListB):\n",
        "  print(Value1, '\\t', Value2)"
      ],
      "execution_count": 25,
      "outputs": [
        {
          "output_type": "stream",
          "text": [
            "Orange \t 1\n",
            "Yellow \t 2\n",
            "Green \t 3\n",
            "Brown \t 4\n"
          ],
          "name": "stdout"
        }
      ]
    },
    {
      "cell_type": "code",
      "metadata": {
        "id": "HC9qw61BliRH",
        "colab_type": "code",
        "colab": {}
      },
      "source": [
        "ListA = ['Orange', 'Yellow', 'Green', 'Brown']\n",
        "ListB = [1, 2, 3, ]"
      ],
      "execution_count": 0,
      "outputs": []
    },
    {
      "cell_type": "code",
      "metadata": {
        "id": "qDnnwucflpoU",
        "colab_type": "code",
        "colab": {
          "base_uri": "https://localhost:8080/",
          "height": 68
        },
        "outputId": "f7157848-5884-4fd2-9b49-e24c62062ff7"
      },
      "source": [
        "for Value1, Value2 in zip(ListA, ListB):\n",
        "  print(Value1, '\\t', Value2)"
      ],
      "execution_count": 27,
      "outputs": [
        {
          "output_type": "stream",
          "text": [
            "Orange \t 1\n",
            "Yellow \t 2\n",
            "Green \t 3\n"
          ],
          "name": "stdout"
        }
      ]
    },
    {
      "cell_type": "code",
      "metadata": {
        "id": "86sMViGulsCM",
        "colab_type": "code",
        "colab": {}
      },
      "source": [
        "ListB = [4, 5, 6, 7]\n",
        "ListA = [0 ,1, 2, 3]"
      ],
      "execution_count": 0,
      "outputs": []
    },
    {
      "cell_type": "code",
      "metadata": {
        "id": "qR2IQF8nmEst",
        "colab_type": "code",
        "colab": {
          "base_uri": "https://localhost:8080/",
          "height": 34
        },
        "outputId": "35e0e089-2ac2-4e5f-8883-7294a3d2e740"
      },
      "source": [
        "ListA.extend(ListB)\n",
        "ListA"
      ],
      "execution_count": 29,
      "outputs": [
        {
          "output_type": "execute_result",
          "data": {
            "text/plain": [
              "[0, 1, 2, 3, 4, 5, 6, 7]"
            ]
          },
          "metadata": {
            "tags": []
          },
          "execution_count": 29
        }
      ]
    },
    {
      "cell_type": "code",
      "metadata": {
        "id": "aq37UUKymLa_",
        "colab_type": "code",
        "colab": {
          "base_uri": "https://localhost:8080/",
          "height": 34
        },
        "outputId": "74eecdbf-a967-4610-b981-d24ade0e2585"
      },
      "source": [
        "ListA.extend(ListA)\n",
        "ListA"
      ],
      "execution_count": 30,
      "outputs": [
        {
          "output_type": "execute_result",
          "data": {
            "text/plain": [
              "[0, 1, 2, 3, 4, 5, 6, 7, 0, 1, 2, 3, 4, 5, 6, 7]"
            ]
          },
          "metadata": {
            "tags": []
          },
          "execution_count": 30
        }
      ]
    },
    {
      "cell_type": "code",
      "metadata": {
        "id": "Kynapv3UmRKv",
        "colab_type": "code",
        "colab": {
          "base_uri": "https://localhost:8080/",
          "height": 34
        },
        "outputId": "47c9f6e4-5dcf-474d-92ab-468d8a56b3ea"
      },
      "source": [
        "ListA.append(-5)\n",
        "ListA"
      ],
      "execution_count": 32,
      "outputs": [
        {
          "output_type": "execute_result",
          "data": {
            "text/plain": [
              "[0, 1, 2, 3, 4, 5, 6, 7, 0, 1, 2, 3, 4, 5, 6, 7, -5, -5]"
            ]
          },
          "metadata": {
            "tags": []
          },
          "execution_count": 32
        }
      ]
    },
    {
      "cell_type": "code",
      "metadata": {
        "id": "11alh56Wmwev",
        "colab_type": "code",
        "colab": {
          "base_uri": "https://localhost:8080/",
          "height": 34
        },
        "outputId": "f6055e07-04e7-4e9d-bb5d-c78a2402518a"
      },
      "source": [
        "ListA.remove(-5)\n",
        "ListA"
      ],
      "execution_count": 34,
      "outputs": [
        {
          "output_type": "execute_result",
          "data": {
            "text/plain": [
              "[0, 1, 2, 3, 4, 5, 6, 7, 0, 1, 2, 3, 4, 5, 6, 7]"
            ]
          },
          "metadata": {
            "tags": []
          },
          "execution_count": 34
        }
      ]
    },
    {
      "cell_type": "markdown",
      "metadata": {
        "id": "imhaw1LrnY0H",
        "colab_type": "text"
      },
      "source": [
        "Lists supports concatenation using plus(+) sign."
      ]
    },
    {
      "cell_type": "code",
      "metadata": {
        "id": "DOeSlOtHm6Zf",
        "colab_type": "code",
        "colab": {
          "base_uri": "https://localhost:8080/",
          "height": 34
        },
        "outputId": "fe0bd6c4-e771-468f-dad8-f95a500e6363"
      },
      "source": [
        "ListX = ListA + ListB\n",
        "ListX"
      ],
      "execution_count": 36,
      "outputs": [
        {
          "output_type": "execute_result",
          "data": {
            "text/plain": [
              "[0, 1, 2, 3, 4, 5, 6, 7, 0, 1, 2, 3, 4, 5, 6, 7, 4, 5, 6, 7]"
            ]
          },
          "metadata": {
            "tags": []
          },
          "execution_count": 36
        }
      ]
    },
    {
      "cell_type": "code",
      "metadata": {
        "id": "WWheOMaenPtq",
        "colab_type": "code",
        "colab": {}
      },
      "source": [
        ""
      ],
      "execution_count": 0,
      "outputs": []
    }
  ]
}