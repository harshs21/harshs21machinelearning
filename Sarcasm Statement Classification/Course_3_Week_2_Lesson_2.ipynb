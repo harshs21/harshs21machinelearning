{
  "nbformat": 4,
  "nbformat_minor": 0,
  "metadata": {
    "accelerator": "GPU",
    "colab": {
      "name": "Course 3 - Week 2 - Lesson 2.ipynb",
      "provenance": [],
      "collapsed_sections": [],
      "toc_visible": true
    },
    "kernelspec": {
      "display_name": "Python 3",
      "name": "python3"
    }
  },
  "cells": [
    {
      "cell_type": "code",
      "metadata": {
        "id": "zX4Kg8DUTKWO",
        "colab_type": "code",
        "colab": {}
      },
      "source": [
        "#@title Licensed under the Apache License, Version 2.0 (the \"License\");\n",
        "# you may not use this file except in compliance with the License.\n",
        "# You may obtain a copy of the License at\n",
        "#\n",
        "# https://www.apache.org/licenses/LICENSE-2.0\n",
        "#\n",
        "# Unless required by applicable law or agreed to in writing, software\n",
        "# distributed under the License is distributed on an \"AS IS\" BASIS,\n",
        "# WITHOUT WARRANTIES OR CONDITIONS OF ANY KIND, either express or implied.\n",
        "# See the License for the specific language governing permissions and\n",
        "# limitations under the License."
      ],
      "execution_count": null,
      "outputs": []
    },
    {
      "cell_type": "markdown",
      "metadata": {
        "colab_type": "text",
        "id": "view-in-github"
      },
      "source": [
        "<a href=\"https://colab.research.google.com/github/lmoroney/dlaicourse/blob/master/TensorFlow%20In%20Practice/Course%203%20-%20NLP/Course%203%20-%20Week%202%20-%20Lesson%202.ipynb\" target=\"_parent\"><img src=\"https://colab.research.google.com/assets/colab-badge.svg\" alt=\"Open In Colab\"/></a>"
      ]
    },
    {
      "cell_type": "code",
      "metadata": {
        "colab_type": "code",
        "id": "4gs9htvM7n_x",
        "colab": {}
      },
      "source": [
        "# Run this to ensure TensorFlow 2.x is used\n",
        "try:\n",
        "  # %tensorflow_version only exists in Colab.\n",
        "  %tensorflow_version 2.x\n",
        "except Exception:\n",
        "  pass"
      ],
      "execution_count": null,
      "outputs": []
    },
    {
      "cell_type": "code",
      "metadata": {
        "colab_type": "code",
        "id": "XYYDvoskkE61",
        "colab": {}
      },
      "source": [
        "import json\n",
        "import tensorflow as tf\n",
        "\n",
        "from tensorflow.keras.preprocessing.text import Tokenizer\n",
        "from tensorflow.keras.preprocessing.sequence import pad_sequences"
      ],
      "execution_count": null,
      "outputs": []
    },
    {
      "cell_type": "code",
      "metadata": {
        "colab_type": "code",
        "id": "0eJSTTYnkJQd",
        "colab": {}
      },
      "source": [
        "vocab_size = 10000\n",
        "embedding_dim = 16\n",
        "max_length = 100\n",
        "trunc_type='post'\n",
        "padding_type='post'\n",
        "oov_tok = \"<OOV>\"\n",
        "training_size = 20000\n"
      ],
      "execution_count": null,
      "outputs": []
    },
    {
      "cell_type": "code",
      "metadata": {
        "colab_type": "code",
        "id": "BQVuQrZNkPn9",
        "colab": {}
      },
      "source": [
        "!wget --no-check-certificate \\\n",
        "    https://storage.googleapis.com/laurencemoroney-blog.appspot.com/sarcasm.json \\\n",
        "    -O /tmp/sarcasm.json\n"
      ],
      "execution_count": null,
      "outputs": []
    },
    {
      "cell_type": "code",
      "metadata": {
        "colab_type": "code",
        "id": "oaLaaqhNkUPd",
        "colab": {}
      },
      "source": [
        "with open(\"/tmp/sarcasm.json\", 'r') as f:\n",
        "    datastore = json.load(f)\n",
        "\n",
        "sentences = []\n",
        "labels = []\n",
        "\n",
        "for item in datastore:\n",
        "    sentences.append(item['headline'])\n",
        "    labels.append(item['is_sarcastic'])"
      ],
      "execution_count": null,
      "outputs": []
    },
    {
      "cell_type": "code",
      "metadata": {
        "colab_type": "code",
        "id": "S1sD-7v0kYWk",
        "colab": {}
      },
      "source": [
        "training_sentences = sentences[0:training_size]\n",
        "testing_sentences = sentences[training_size:]\n",
        "training_labels = labels[0:training_size]\n",
        "testing_labels = labels[training_size:]"
      ],
      "execution_count": null,
      "outputs": []
    },
    {
      "cell_type": "code",
      "metadata": {
        "colab_type": "code",
        "id": "3u8UB0MCkZ5N",
        "colab": {}
      },
      "source": [
        "tokenizer = Tokenizer(num_words=vocab_size, oov_token=oov_tok)\n",
        "tokenizer.fit_on_texts(training_sentences)\n",
        "\n",
        "word_index = tokenizer.word_index\n",
        "\n",
        "training_sequences = tokenizer.texts_to_sequences(training_sentences)\n",
        "training_padded = pad_sequences(training_sequences, maxlen=max_length, padding=padding_type, truncating=trunc_type)\n",
        "\n",
        "testing_sequences = tokenizer.texts_to_sequences(testing_sentences)\n",
        "testing_padded = pad_sequences(testing_sequences, maxlen=max_length, padding=padding_type, truncating=trunc_type)"
      ],
      "execution_count": null,
      "outputs": []
    },
    {
      "cell_type": "code",
      "metadata": {
        "colab_type": "code",
        "id": "GrAlWBKf99Ya",
        "colab": {}
      },
      "source": [
        "# Need this block to get it to work with TensorFlow 2.x\n",
        "import numpy as np\n",
        "training_padded = np.array(training_padded)\n",
        "training_labels = np.array(training_labels)\n",
        "testing_padded = np.array(testing_padded)\n",
        "testing_labels = np.array(testing_labels)"
      ],
      "execution_count": null,
      "outputs": []
    },
    {
      "cell_type": "code",
      "metadata": {
        "colab_type": "code",
        "id": "FufaT4vlkiDE",
        "colab": {}
      },
      "source": [
        "model = tf.keras.Sequential([\n",
        "    tf.keras.layers.Embedding(vocab_size, embedding_dim, input_length=max_length),\n",
        "    tf.keras.layers.GlobalAveragePooling1D(),\n",
        "    tf.keras.layers.Dense(24, activation='relu'),\n",
        "    tf.keras.layers.Dense(1, activation='sigmoid')\n",
        "])\n",
        "model.compile(loss='binary_crossentropy',optimizer='adam',metrics=['accuracy'])"
      ],
      "execution_count": null,
      "outputs": []
    },
    {
      "cell_type": "code",
      "metadata": {
        "colab_type": "code",
        "id": "XfDt1hmYkiys",
        "colab": {}
      },
      "source": [
        "model.summary()\n"
      ],
      "execution_count": null,
      "outputs": []
    },
    {
      "cell_type": "code",
      "metadata": {
        "colab_type": "code",
        "id": "2DTKQFf1kkyc",
        "colab": {
          "base_uri": "https://localhost:8080/",
          "height": 1000
        },
        "outputId": "6d745b82-7375-4a08-c1e1-8dcd9d9c44c9"
      },
      "source": [
        "num_epochs = 30\n",
        "history = model.fit(training_padded, training_labels, epochs=num_epochs, validation_data=(testing_padded, testing_labels), verbose=2)"
      ],
      "execution_count": null,
      "outputs": [
        {
          "output_type": "stream",
          "text": [
            "Epoch 1/100\n",
            "625/625 - 3s - loss: 0.0221 - accuracy: 0.9941 - val_loss: 1.0772 - val_accuracy: 0.8117\n",
            "Epoch 2/100\n",
            "625/625 - 3s - loss: 0.0206 - accuracy: 0.9944 - val_loss: 1.1484 - val_accuracy: 0.8101\n",
            "Epoch 3/100\n",
            "625/625 - 3s - loss: 0.0192 - accuracy: 0.9949 - val_loss: 1.1624 - val_accuracy: 0.8109\n",
            "Epoch 4/100\n",
            "625/625 - 3s - loss: 0.0173 - accuracy: 0.9952 - val_loss: 1.1909 - val_accuracy: 0.8083\n",
            "Epoch 5/100\n",
            "625/625 - 3s - loss: 0.0174 - accuracy: 0.9947 - val_loss: 1.2295 - val_accuracy: 0.8097\n",
            "Epoch 6/100\n",
            "625/625 - 3s - loss: 0.0156 - accuracy: 0.9959 - val_loss: 1.2857 - val_accuracy: 0.8074\n",
            "Epoch 7/100\n",
            "625/625 - 3s - loss: 0.0136 - accuracy: 0.9963 - val_loss: 1.3103 - val_accuracy: 0.8080\n",
            "Epoch 8/100\n",
            "625/625 - 3s - loss: 0.0161 - accuracy: 0.9947 - val_loss: 1.3437 - val_accuracy: 0.8079\n",
            "Epoch 9/100\n",
            "625/625 - 3s - loss: 0.0131 - accuracy: 0.9966 - val_loss: 1.3632 - val_accuracy: 0.8050\n",
            "Epoch 10/100\n",
            "625/625 - 3s - loss: 0.0126 - accuracy: 0.9965 - val_loss: 1.4394 - val_accuracy: 0.8040\n",
            "Epoch 11/100\n",
            "625/625 - 2s - loss: 0.0122 - accuracy: 0.9969 - val_loss: 1.4301 - val_accuracy: 0.8059\n",
            "Epoch 12/100\n",
            "625/625 - 3s - loss: 0.0111 - accuracy: 0.9968 - val_loss: 1.5555 - val_accuracy: 0.8056\n",
            "Epoch 13/100\n",
            "625/625 - 3s - loss: 0.0143 - accuracy: 0.9959 - val_loss: 1.4834 - val_accuracy: 0.8059\n",
            "Epoch 14/100\n",
            "625/625 - 3s - loss: 0.0107 - accuracy: 0.9967 - val_loss: 1.5140 - val_accuracy: 0.8052\n",
            "Epoch 15/100\n",
            "625/625 - 3s - loss: 0.0083 - accuracy: 0.9978 - val_loss: 1.5676 - val_accuracy: 0.8070\n",
            "Epoch 16/100\n",
            "625/625 - 3s - loss: 0.0092 - accuracy: 0.9973 - val_loss: 1.6106 - val_accuracy: 0.8079\n",
            "Epoch 17/100\n",
            "625/625 - 3s - loss: 0.0094 - accuracy: 0.9970 - val_loss: 1.6585 - val_accuracy: 0.8058\n",
            "Epoch 18/100\n",
            "625/625 - 3s - loss: 0.0070 - accuracy: 0.9984 - val_loss: 1.7373 - val_accuracy: 0.8040\n",
            "Epoch 19/100\n",
            "625/625 - 3s - loss: 0.0071 - accuracy: 0.9980 - val_loss: 1.7574 - val_accuracy: 0.8035\n",
            "Epoch 20/100\n",
            "625/625 - 3s - loss: 0.0063 - accuracy: 0.9984 - val_loss: 1.8214 - val_accuracy: 0.8037\n",
            "Epoch 21/100\n",
            "625/625 - 3s - loss: 0.0062 - accuracy: 0.9984 - val_loss: 1.8541 - val_accuracy: 0.8028\n",
            "Epoch 22/100\n",
            "625/625 - 3s - loss: 0.0071 - accuracy: 0.9979 - val_loss: 1.9182 - val_accuracy: 0.8046\n",
            "Epoch 23/100\n",
            "625/625 - 3s - loss: 0.0069 - accuracy: 0.9978 - val_loss: 1.9269 - val_accuracy: 0.8034\n",
            "Epoch 24/100\n",
            "625/625 - 3s - loss: 0.0054 - accuracy: 0.9987 - val_loss: 2.0749 - val_accuracy: 0.8003\n",
            "Epoch 25/100\n",
            "625/625 - 3s - loss: 0.0057 - accuracy: 0.9981 - val_loss: 2.0347 - val_accuracy: 0.8034\n",
            "Epoch 26/100\n",
            "625/625 - 3s - loss: 0.0063 - accuracy: 0.9984 - val_loss: 2.0666 - val_accuracy: 0.8044\n",
            "Epoch 27/100\n",
            "625/625 - 3s - loss: 0.0074 - accuracy: 0.9973 - val_loss: 2.1073 - val_accuracy: 0.8037\n",
            "Epoch 28/100\n",
            "625/625 - 3s - loss: 0.0044 - accuracy: 0.9990 - val_loss: 2.0939 - val_accuracy: 0.8050\n",
            "Epoch 29/100\n",
            "625/625 - 3s - loss: 0.0048 - accuracy: 0.9987 - val_loss: 2.1109 - val_accuracy: 0.8031\n",
            "Epoch 30/100\n",
            "625/625 - 3s - loss: 0.0061 - accuracy: 0.9981 - val_loss: 2.1525 - val_accuracy: 0.7997\n",
            "Epoch 31/100\n",
            "625/625 - 3s - loss: 0.0054 - accuracy: 0.9984 - val_loss: 2.1926 - val_accuracy: 0.8037\n",
            "Epoch 32/100\n",
            "625/625 - 3s - loss: 0.0039 - accuracy: 0.9987 - val_loss: 2.2674 - val_accuracy: 0.8040\n",
            "Epoch 33/100\n",
            "625/625 - 3s - loss: 0.0071 - accuracy: 0.9980 - val_loss: 2.2119 - val_accuracy: 0.8015\n",
            "Epoch 34/100\n",
            "625/625 - 3s - loss: 0.0043 - accuracy: 0.9987 - val_loss: 2.2996 - val_accuracy: 0.8037\n",
            "Epoch 35/100\n",
            "625/625 - 3s - loss: 0.0037 - accuracy: 0.9989 - val_loss: 2.3360 - val_accuracy: 0.8030\n",
            "Epoch 36/100\n",
            "625/625 - 3s - loss: 0.0054 - accuracy: 0.9984 - val_loss: 2.3261 - val_accuracy: 0.8021\n",
            "Epoch 37/100\n",
            "625/625 - 3s - loss: 0.0040 - accuracy: 0.9988 - val_loss: 2.3326 - val_accuracy: 0.8027\n",
            "Epoch 38/100\n",
            "625/625 - 3s - loss: 0.0049 - accuracy: 0.9987 - val_loss: 2.4290 - val_accuracy: 0.8027\n",
            "Epoch 39/100\n",
            "625/625 - 3s - loss: 0.0050 - accuracy: 0.9983 - val_loss: 2.4152 - val_accuracy: 0.8049\n",
            "Epoch 40/100\n",
            "625/625 - 3s - loss: 0.0045 - accuracy: 0.9987 - val_loss: 2.4479 - val_accuracy: 0.8019\n",
            "Epoch 41/100\n",
            "625/625 - 3s - loss: 0.0037 - accuracy: 0.9987 - val_loss: 2.4330 - val_accuracy: 0.8015\n",
            "Epoch 42/100\n",
            "625/625 - 3s - loss: 0.0035 - accuracy: 0.9990 - val_loss: 2.4883 - val_accuracy: 0.8019\n",
            "Epoch 43/100\n",
            "625/625 - 3s - loss: 0.0029 - accuracy: 0.9991 - val_loss: 2.4365 - val_accuracy: 0.7989\n",
            "Epoch 44/100\n",
            "625/625 - 3s - loss: 0.0040 - accuracy: 0.9988 - val_loss: 2.4485 - val_accuracy: 0.7970\n",
            "Epoch 45/100\n",
            "625/625 - 3s - loss: 0.0032 - accuracy: 0.9990 - val_loss: 2.5067 - val_accuracy: 0.8012\n",
            "Epoch 46/100\n",
            "625/625 - 3s - loss: 0.0058 - accuracy: 0.9978 - val_loss: 2.4781 - val_accuracy: 0.8030\n",
            "Epoch 47/100\n",
            "625/625 - 3s - loss: 0.0038 - accuracy: 0.9988 - val_loss: 2.5089 - val_accuracy: 0.8041\n",
            "Epoch 48/100\n"
          ],
          "name": "stdout"
        }
      ]
    },
    {
      "cell_type": "code",
      "metadata": {
        "colab_type": "code",
        "id": "2HYfBKXjkmU8",
        "colab": {}
      },
      "source": [
        "import matplotlib.pyplot as plt\n",
        "\n",
        "\n",
        "def plot_graphs(history, string):\n",
        "  plt.plot(history.history[string])\n",
        "  plt.plot(history.history['val_'+string])\n",
        "  plt.xlabel(\"Epochs\")\n",
        "  plt.ylabel(string)\n",
        "  plt.legend([string, 'val_'+string])\n",
        "  plt.show()\n",
        "  \n",
        "plot_graphs(history, \"accuracy\")\n",
        "plot_graphs(history, \"loss\")"
      ],
      "execution_count": null,
      "outputs": []
    },
    {
      "cell_type": "code",
      "metadata": {
        "colab_type": "code",
        "id": "7SBdAZAenvzL",
        "colab": {}
      },
      "source": [
        "reverse_word_index = dict([(value, key) for (key, value) in word_index.items()])\n",
        "\n",
        "def decode_sentence(text):\n",
        "    return ' '.join([reverse_word_index.get(i, '?') for i in text])\n",
        "\n",
        "print(decode_sentence(training_padded[0]))\n",
        "print(training_sentences[2])\n",
        "print(labels[2])"
      ],
      "execution_count": null,
      "outputs": []
    },
    {
      "cell_type": "code",
      "metadata": {
        "colab_type": "code",
        "id": "c9MqihtEkzQ9",
        "colab": {}
      },
      "source": [
        "e = model.layers[0]\n",
        "weights = e.get_weights()[0]\n",
        "print(weights.shape) # shape: (vocab_size, embedding_dim)\n"
      ],
      "execution_count": null,
      "outputs": []
    },
    {
      "cell_type": "code",
      "metadata": {
        "colab_type": "code",
        "id": "LoBXVffknldU",
        "colab": {}
      },
      "source": [
        "import io\n",
        "\n",
        "out_v = io.open('vecs.tsv', 'w', encoding='utf-8')\n",
        "out_m = io.open('meta.tsv', 'w', encoding='utf-8')\n",
        "for word_num in range(1, vocab_size):\n",
        "  word = reverse_word_index[word_num]\n",
        "  embeddings = weights[word_num]\n",
        "  out_m.write(word + \"\\n\")\n",
        "  out_v.write('\\t'.join([str(x) for x in embeddings]) + \"\\n\")\n",
        "out_v.close()\n",
        "out_m.close()"
      ],
      "execution_count": null,
      "outputs": []
    },
    {
      "cell_type": "code",
      "metadata": {
        "colab_type": "code",
        "id": "U4eZ5HtVnnEE",
        "colab": {}
      },
      "source": [
        "try:\n",
        "  from google.colab import files\n",
        "except ImportError:\n",
        "  pass\n",
        "else:\n",
        "  files.download('vecs.tsv')\n",
        "  files.download('meta.tsv')"
      ],
      "execution_count": null,
      "outputs": []
    },
    {
      "cell_type": "code",
      "metadata": {
        "colab_type": "code",
        "id": "cG8-ArY-qDcz",
        "colab": {}
      },
      "source": [
        "sentence = [\"granny starting to fear spiders in the garden might be real\", \"game of thrones season finale showing this sunday night\"]\n",
        "sequences = tokenizer.texts_to_sequences(sentence)\n",
        "padded = pad_sequences(sequences, maxlen=max_length, padding=padding_type, truncating=trunc_type)\n",
        "print(model.predict(padded))"
      ],
      "execution_count": null,
      "outputs": []
    }
  ]
}